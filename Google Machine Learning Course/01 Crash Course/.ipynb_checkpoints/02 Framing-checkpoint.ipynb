{
 "cells": [
  {
   "cell_type": "markdown",
   "metadata": {},
   "source": [
    "### What is (Supervised) Machine Learning?\n",
    "\n",
    "Create models that combine inputs, to produce useful predictions even on previously unseen data.\n",
    "\n",
    "When we're training the model, we're providing it with **labels**.\\\n",
    "**Label** is the variable we're predicting (represnted by the variable **y**)\n",
    "\n",
    "The **features** are the way that we represent our data or input variables describing our data (Such as $x_1, x_2, x_3, ..., x_n $)\n",
    "\n",
    "\n",
    "**Example** is one piece of data (particular instace of data, **x**)\n",
    "\n",
    "**Labeled example** has {features, label}: (x,y) (used to train model)\n",
    "\n",
    "**Unlabeled example** has {features, ?}: (x,?) (used for making precitions)\n",
    "\n",
    "**Model** maps examples to redicted labels (model is created through a process of learning from data)"
   ]
  },
  {
   "cell_type": "markdown",
   "metadata": {},
   "source": [
    "----------------------"
   ]
  },
  {
   "cell_type": "markdown",
   "metadata": {},
   "source": [
    "### What is (supervised) machine learning?\n",
    "- ML systems learn how to combine input to produce useful predictions on never-before-seen data.\n",
    "\n",
    "### Labels\n",
    "A **label** is the thing we're predicting—the y variable in simple linear regression. The label could be the future price of wheat, the kind of animal shown in a picture, the meaning of an audio clip, or just about anything.\n",
    "\n",
    "### Features\n",
    "A **feature** is an input variable—the x variable in simple linear regression. A simple machine learning project might use a single feature, while a more sophisticated machine learning project could use millions of features, specified as:\n",
    "\n",
    "$$ x_1, x_2, ..., x_n $$\n",
    "\n",
    "In the spam detector example, the features could include the following:\n",
    "\n",
    "- words in the email text\n",
    "- sender's address\n",
    "- time of day the email was sent\n",
    "- email contains the phrase \"one weird trick.\"\n",
    "\n",
    "### Examples\n",
    "An **example** is a particular instance of data, x. (We put x in boldface to indicate that it is a vector.) We break examples into two categories:\n",
    "\n",
    "- labeled examples\n",
    "- unlabeled examples\n",
    "\n",
    "A **labeled example** includes both feature(s) and the label. That is:\n",
    "\n",
    "        labeled examples: {features, label}: (x, y)\n",
    "        \n",
    "Use labeled examples to train the model. In our spam detector example, the labeled examples would be individual emails that users have explicitly marked as \"spam\" or \"not spam.\"\n",
    "\n",
    "An **unlabeled example** contains features but not the label. That is:\n",
    "\n",
    "        unlabeled examples: {features, ?}: (x, ?)\n",
    "\n",
    "### Models\n",
    "A model defines the relationship between features and label. For example, a spam detection model might associate certain features strongly with \"spam\". Let's highlight two phases of a model's life:\n",
    "\n",
    "- **Training** means creating or **learning** the model. That is, you show the model labeled examples and enable the model to gradually learn the relationships between features and label.\n",
    "- **Inference** means applying the trained model to unlabeled examples. That is, you use the trained model to make useful predictions (y'). For example, during inference, you can predict medianHouseValue for new unlabeled examples.\n",
    "\n",
    "### Regression vs. classification\n",
    "A **regression** model predicts continuous values. For example, regression models make predictions that answer questions like the following:\n",
    "\n",
    "- What is the value of a house in California?\n",
    "- What is the probability that a user will click on this ad?\n",
    "\n",
    "A **classification** model predicts discrete values. For example, classification models make predictions that answer questions like the following:\n",
    "\n",
    "- Is a given email message spam or not spam?\n",
    "- Is this an image of a dog, a cat, or a hamster?"
   ]
  },
  {
   "cell_type": "markdown",
   "metadata": {},
   "source": [
    "-------------------"
   ]
  },
  {
   "cell_type": "markdown",
   "metadata": {},
   "source": [
    "**The labels applied to some examples might be unreliable.** \\\n",
    "Definitely. It's important to check how reliable your data is. The labels for this dataset probably come from email users who mark particular email messages as spam. Since most users do not mark every suspicious email message as spam, we may have trouble knowing whether an email is spam. Furthermore, spammers could intentionally poison our model by providing faulty labels.'\n",
    "\n",
    "**Emails not marked as \"spam\" or \"not spam\" are unlabeled examples.**\\\n",
    "Because our label consists of the values \"spam\" and \"not spam\", any email not yet marked as spam or not spam is an unlabeled example.\n",
    "\n"
   ]
  }
 ],
 "metadata": {
  "kernelspec": {
   "display_name": "Python 3",
   "language": "python",
   "name": "python3"
  },
  "language_info": {
   "codemirror_mode": {
    "name": "ipython",
    "version": 3
   },
   "file_extension": ".py",
   "mimetype": "text/x-python",
   "name": "python",
   "nbconvert_exporter": "python",
   "pygments_lexer": "ipython3",
   "version": "3.7.7"
  }
 },
 "nbformat": 4,
 "nbformat_minor": 4
}

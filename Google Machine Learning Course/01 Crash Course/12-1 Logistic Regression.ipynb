{
 "cells": [
  {
   "cell_type": "markdown",
   "metadata": {},
   "source": [
    "## Logistic Regression: Calculating a Probability\n",
    "\n",
    "Many problems require a probability estimate as output. Logistic regression is an extremely efficient mechanism for calculating probabilities. Practically speaking, you can use the returned probability in either of the following two ways:\n",
    "\n",
    "- \"As is\"\n",
    "- Converted to a binary category\n",
    "\n",
    "Let's consider how we might use the probability \"as is.\" Suppose we create a logistic regression model to predict the probability that a dog will bark during the middle of the night. We'll call that probability:\n",
    "\n",
    "$$ p(bark|night) $$\n",
    "\n",
    "If the Regrssion model predicts a <code>p(bark | night)</code> of 0.05, then over a year, the dog's owners should be startled awake approximately 18 times:\n",
    "\n",
    "$$ startled = p(bark|night) \\cdot nights \\\\ = 0.05 \\cdot 365 \\\\ = 18 $$\n",
    "\n",
    "In many cases, you'll map the logistic regression output into othe solution to a binary classification problem, in which the goal is to correctly predict one of two possible labels (e.g., \"spam\" or \"not spam\"). A later [module](https://developers.google.com/machine-learning/crash-course/classification/video-lecture) focuses on that.\n",
    "\n",
    "You might be wondering how a logistic regression model can ensure output that always falls between 0 and 1. As it happens, a **sigmoid function**, defined as follows, produces output having those same characteristics:\n",
    "\n",
    "$$ y = \\frac{1}{1+e^{-z}} $$\n",
    "\n",
    "The sigmoid function yields the following plot:\n",
    "![](img/12-1.png)\n",
    "\n",
    "If <code>**z**</code> represents the output of the linear layer of a model trained with logistic regression, then sigmoid(z) will yield a value (a probability) between 0 and 1. In mathematical terms:\n",
    "\n",
    "$$ y' = \\frac{1}{1+e^{-(z)}} $$\n",
    "\n",
    "where:\n",
    "\n",
    "- y' is the output of the logistic regression model for a particular example.\n",
    "- $ z = b + \\omega_1x_1 + \\omega_2x_2 + ... + \\omega_Nx_N $\n",
    "    - The w values are the model's learned weights, and b is the bias.\n",
    "    - The x values are the feature values for a particular example.\n",
    "    \n",
    "Note that z is also referred to as the log-odds because the inverse of the sigmoid states that z can be defined as the log of the probability of the \"1\" label (e.g., \"dog barks\") divided by the probability of the \"0\" label (e.g., \"dog doesn't bark\"):\n",
    "    \n",
    "$$ z = \\log{\\frac{y}{1-y}} $$\n",
    "\n",
    "Here is the sigmoid function with ML labels:\n",
    "\n",
    "![](img/12-2.png)"
   ]
  },
  {
   "cell_type": "markdown",
   "metadata": {},
   "source": [
    "----------------"
   ]
  },
  {
   "cell_type": "markdown",
   "metadata": {},
   "source": [
    "Suppose we had a logistic regression model with three features that learned the following bias and weights:\n",
    "\n",
    "- b = 1\n",
    "- w1 = 2\n",
    "- w2 = -1\n",
    "- w3 = 5\n",
    "Further suppose the following feature values for a given example:\n",
    "\n",
    "- x1 = 0\n",
    "- x2 = 10\n",
    "- x3 = 2\n",
    "Therefore, the log-odds:\n",
    "\n",
    "$$ z = b + \\omega_1x_1 + \\omega_2x_2 + \\omega_3x_3 $$\n",
    "\n",
    "will be:\n",
    "\n",
    "$$ (1) + (2)(0) + (-1)(10) + (5)(2) = 1 $$\n",
    "\n",
    "Consequently, the logistic regression prediction for this particular example will be 0.731:\n",
    "\n",
    "$$ y' = \\frac{1}{1+e^{-(1)}} $$\n",
    "\n",
    "![](img/12-3.png)"
   ]
  },
  {
   "cell_type": "markdown",
   "metadata": {},
   "source": [
    "---------------------------------"
   ]
  },
  {
   "cell_type": "markdown",
   "metadata": {},
   "source": [
    "## Logistic Regression: Loss and Regularization"
   ]
  },
  {
   "cell_type": "markdown",
   "metadata": {},
   "source": [
    "### Loss function for Logistic Regression\n",
    "The loss function for linear regression is squared loss. The loss function for logistic regression is Log Loss, which is defined as follows:\n",
    "\n",
    "$$ LogLoss = \\Sigma_{(x,y)\\in D} - y \\log{(y')} - (1-y)\\log{(1-y'}$$\n",
    "\n",
    "where:\n",
    "- $(x,y) \\in D$ is the data set containing many labeled examples, which are $(x,y)$ pairs.\n",
    "- $y$ is the label in a labeled example. Since this is logistic regression, every value of $y$ must either be 0 or 1.\n",
    "- $y'$ is the predicted value (somewhere between 0 and 1), given the set of features in $x$.\n",
    "\n",
    "### Regularization in Logistic Regression\n",
    "[Regularization](https://developers.google.com/machine-learning/crash-course/regularization-for-simplicity/video-lecture) is extremely important in logistic regression modeling. Without regularization, the asymptotic nature of logistic regression would keep driving loss towards 0 in high dimensions. Consequently, most logistic regression models use one of the following two strategies to dampen model complexity:\n",
    "\n",
    "- L<sub>2</sub> regularization.\n",
    "- Early stopping, that is, limiting the number of training steps or the learning rate.\n",
    "\n",
    "(We'll discuss a third strategy—L<sub>1</sub> regularization—in a [later module](https://developers.google.com/machine-learning/crash-course/regularization-for-sparsity/video-lecture).)\n",
    "\n",
    "Imagine that you assign a unique id to each example, and map each id to its own feature. If you don't specify a regularization function, the model will become completely overfit. That's because the model would try to drive loss to zero on all examples and never get there, driving the weights for each indicator feature to +infinity or -infinity. This can happen in high dimensional data with feature crosses, when there’s a huge mass of rare crosses that happen only on one example each.\n",
    "\n",
    "Fortunately, using L<sub>2</sub> or early stopping will prevent this problem."
   ]
  },
  {
   "cell_type": "code",
   "execution_count": null,
   "metadata": {},
   "outputs": [],
   "source": []
  }
 ],
 "metadata": {
  "kernelspec": {
   "display_name": "Python 3",
   "language": "python",
   "name": "python3"
  },
  "language_info": {
   "codemirror_mode": {
    "name": "ipython",
    "version": 3
   },
   "file_extension": ".py",
   "mimetype": "text/x-python",
   "name": "python",
   "nbconvert_exporter": "python",
   "pygments_lexer": "ipython3",
   "version": "3.7.7"
  }
 },
 "nbformat": 4,
 "nbformat_minor": 4
}

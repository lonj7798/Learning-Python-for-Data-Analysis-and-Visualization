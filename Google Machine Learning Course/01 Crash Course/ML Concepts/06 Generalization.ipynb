{
 "cells": [
  {
   "cell_type": "markdown",
   "metadata": {},
   "source": [
    "## [Generalization](https://developers.google.com/machine-learning/crash-course/generalization/peril-of-overfitting)\n",
    "\n",
    "This module focuses on generalization. In order to develop some intuition about this concept, you're going to look at three figures. Assume that each dot in these figures represents a tree's position in a forest. The two colors have the following meanings:\n",
    "\n",
    "- The blue dots represent sick trees.\n",
    "- The orange dots represent healthy trees.\n",
    "\n",
    "With that in minde, take a look at Figure 1.\n",
    "\n",
    "![](img/06-1.png)"
   ]
  },
  {
   "cell_type": "markdown",
   "metadata": {},
   "source": [
    "Can you imagine a good model for predicting subsequent sick or healthy trees? Take a moment to mentally draw an arc that divides the blues from the oranges, or mentally lasso a batch of oranges or blues. Then, look at Figure 2, which shows how a certain machine learning model separated the sick trees from the healthy trees. Note that this model produced a very low loss.\n",
    "\n",
    "![](img/06-2.png)"
   ]
  },
  {
   "cell_type": "markdown",
   "metadata": {},
   "source": [
    "### Low loss, but still a bad model?\n",
    "Figure 3 shows what happened when we added new data to the model. It turned out that the model adapted very poorly to the new data. Notice that the model miscategorized much of the new data.\n",
    "\n",
    "![](img/06-3.png)\n",
    "\n",
    "The model shown in Figure 2 and 3 **overfits** the peculiarities of the data it trained on. An overfit model gets a low loss during training but does a poor job predicting new data. If a model fits the current sample well, how can we trust that it will make good predictions on new data? As you'll see [later on](https://developers.google.com/machine-learning/crash-course/regularization-for-simplicity/l2-regularization), overfitting is caused by making a model more complex than necessary. The fundamental tension of machine learning is between fitting our data well, but also fitting the data as simply as possible.\n",
    "\n",
    "Machine learning's goal is to predict well on new data drawn from a (hidden) true probability distribution. Unfortunately, the model can't see the whole truth; the model can only sample from a training data set. If a model fits the current examples well, how can you trust the model will also make good predictions on never-before-seen examples?\n",
    "\n",
    "William of Ockham, a 14th century friar and philosopher, loved simplicity. He believed that scientists should prefer simpler formulas or theories over more complex ones. To put Ockham's razor in machine learning terms:\n",
    "\n",
    "    The less complex an ML model, the more likely that a good empirical result is not just due to the peculiarities of the sample."
   ]
  },
  {
   "cell_type": "markdown",
   "metadata": {},
   "source": [
    "In modern times, we've formalized Ockham's razor into the fields of **statistical learning theory** and **computational learning theory**. These fields have developed **generalization bounds**--a statistical description of a model's ability to generalize to new data based on factors such as:\n",
    "\n",
    "- the moplexity of the model\n",
    "- the model's performance on training data\n",
    "\n",
    "While the theoretical analysis provides formal guarantees under idealized assumptions, they can be difficult to apply in practice. Machine Learning Crash Course focuses instead on empirical evaluation to judge a model's ability to generalize to new data.\n",
    "\n",
    "A machine learning model aims to make good predictions on new, previously unseen data. But if you are building a model from your data set, how would you get the previously unseen data? Well, one way is to divide your data set into two subsets:\n",
    "\n",
    "- **training set**—a subset to train a model.\n",
    "- **test set**—a subset to test the model.\n",
    "\n",
    "Good performance on the test set is a useful indicator of good performance on the new data in general, assuming that:\n",
    "\n",
    "- The test set is large enough.\n",
    "- You don't cheat by using the same test set over and over."
   ]
  },
  {
   "cell_type": "markdown",
   "metadata": {},
   "source": [
    "### The ML fine print\n",
    "The following three basic assumptions guide generalization:\n",
    "\n",
    "- We draw examples **independently and identically (i.i.d)** at random from the distribution. In other words, examples don't influence each other. (An alternate explanation: i.i.d. is a way of referring to the randomness of variables.)\n",
    "- The distribution is **stationary**; that is the distribution doesn't change within the data set.\n",
    "- We draw examples from partitions from the **same distribution**.\n",
    "In practice, we sometimes violate these assumptions. For example:\n",
    "\n",
    "Consider a model that chooses ads to display. The i.i.d. assumption would be violated if the model bases its choice of ads, in part, on what ads the user has previously seen.\n",
    "Consider a data set that contains retail sales information for a year. User's purchases change seasonally, which would violate stationarity.\n",
    "When we know that any of the preceding three basic assumptions are violated, we must pay careful attention to metrics."
   ]
  },
  {
   "cell_type": "markdown",
   "metadata": {},
   "source": [
    "### Summary\n",
    "- Overfitting occurs when a model tries to fit the training data so closely that it does not generalize well to new data.\n",
    "- If the key assumptions of supervised ML are not met, then we lose important theoretical guarantees on our ability to predict on new data."
   ]
  }
 ],
 "metadata": {
  "kernelspec": {
   "display_name": "Python 3",
   "language": "python",
   "name": "python3"
  },
  "language_info": {
   "codemirror_mode": {
    "name": "ipython",
    "version": 3
   },
   "file_extension": ".py",
   "mimetype": "text/x-python",
   "name": "python",
   "nbconvert_exporter": "python",
   "pygments_lexer": "ipython3",
   "version": "3.7.7"
  }
 },
 "nbformat": 4,
 "nbformat_minor": 4
}

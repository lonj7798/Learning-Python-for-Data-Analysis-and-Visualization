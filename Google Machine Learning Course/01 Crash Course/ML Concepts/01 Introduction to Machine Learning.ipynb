{
 "cells": [
  {
   "cell_type": "markdown",
   "metadata": {},
   "source": [
    "### Why ML?\n",
    "\n",
    "1. It gives you a tool to reduce the time you spend programming.\n",
    "2. It will allow you to customize your products.\n",
    "3. It will help you to solve problems that you, as a programmer have no idea how to do by hand.\n",
    "\n",
    "Whith machine learning, the focus shifts from a mathematical science to a natural science: we're making obsevations about an uncertain world, running experiments, and using statistics, not logic, to analyze the results of the experiment.\n",
    "\n",
    "Think like a scientists!"
   ]
  }
 ],
 "metadata": {
  "kernelspec": {
   "display_name": "Python 3",
   "language": "python",
   "name": "python3"
  },
  "language_info": {
   "codemirror_mode": {
    "name": "ipython",
    "version": 3
   },
   "file_extension": ".py",
   "mimetype": "text/x-python",
   "name": "python",
   "nbconvert_exporter": "python",
   "pygments_lexer": "ipython3",
   "version": "3.7.7"
  }
 },
 "nbformat": 4,
 "nbformat_minor": 4
}

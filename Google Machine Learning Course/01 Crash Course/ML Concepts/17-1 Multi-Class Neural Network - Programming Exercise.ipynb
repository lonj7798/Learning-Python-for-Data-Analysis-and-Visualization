{
 "cells": [
  {
   "cell_type": "code",
   "execution_count": 1,
   "metadata": {},
   "outputs": [],
   "source": [
    "#@title Copyright 2020 Google LLC. Double-click here for license information.\n",
    "# Licensed under the Apache License, Version 2.0 (the \"License\");\n",
    "# you may not use this file except in compliance with the License.\n",
    "# You may obtain a copy of the License at\n",
    "#\n",
    "# https://www.apache.org/licenses/LICENSE-2.0\n",
    "#\n",
    "# Unless required by applicable law or agreed to in writing, software\n",
    "# distributed under the License is distributed on an \"AS IS\" BASIS,\n",
    "# WITHOUT WARRANTIES OR CONDITIONS OF ANY KIND, either express or implied.\n",
    "# See the License for the specific language governing permissions and\n",
    "# limitations under the License.\n",
    "\n",
    "# Yann LeCun and Corinna Cortes hold the copyright of MNIST dataset,\n",
    "# which is a derivative work from original NIST datasets. \n",
    "# MNIST dataset is made available under the terms of the \n",
    "# Creative Commons Attribution-Share Alike 3.0 license."
   ]
  },
  {
   "cell_type": "markdown",
   "metadata": {},
   "source": [
    "# Multi-Class Classification\n",
    "\n",
    "This Colab explore multi-class classification problems through the classic MNIST dataset."
   ]
  },
  {
   "cell_type": "markdown",
   "metadata": {},
   "source": [
    "## Learning Objectives:\n",
    "\n",
    "After doing this Colab, you'll know how to do the following:\n",
    "\n",
    "  * Understand the classic MNIST problem.\n",
    "  * Create a deep neural network that performs multi-class classification.\n",
    "  * Tune the deep neural network.\n",
    "\n",
    "This exercise introduces image classification with machine learning."
   ]
  },
  {
   "cell_type": "markdown",
   "metadata": {},
   "source": [
    "## The Dataset\n",
    "  \n",
    "This MNIST dataset contains a lot of examples:\n",
    "\n",
    "* The MNIST training set contains 60,000 examples.\n",
    "* The MNIST test set contains 10,000 examples.\n",
    "\n",
    "Each example contains a pixel map showing how a person wrote a digit. For example, the following images shows how a person wrote the digit `1` and how that digit might be represented in a 14x14 pixel map (after the input data is normalized). \n",
    "\n",
    "![Two images. The first image shows a somewhat fuzzy digit one. The second image shows a 14x14 floating-point array in which most of the cells contain 0 but a few cells contain values between 0.0 and 1.0. The pattern of nonzero values corresponds to the image of the fuzzy digit in the first image.](https://www.tensorflow.org/images/MNIST-Matrix.png)\n",
    "\n",
    "Each example in the MNIST dataset consists of:\n",
    "\n",
    "* A label specified by a [rater](https://developers.google.com/machine-learning/glossary/#rater).  Each label must be an integer from 0 to 9.  For example, in the preceding image, the rater would almost certainly assign the label `1` to the example.\n",
    "* A 28x28 pixel map, where each pixel is an integer between 0 and 255. The pixel values are on a gray scale in which 0 represents white, 255 represents black, and values between 0 and 255 represent various shades of gray.  \n",
    "\n",
    "This is a multi-class classification problem with 10 output classes, one for each digit."
   ]
  },
  {
   "cell_type": "code",
   "execution_count": 2,
   "metadata": {},
   "outputs": [],
   "source": [
    "#@title Import relevant modules\n",
    "import numpy as np\n",
    "import pandas as pd\n",
    "import tensorflow as tf\n",
    "from tensorflow.keras import layers\n",
    "from matplotlib import pyplot as plt\n",
    "\n",
    "# The following lines adjust the granularity of reporting. \n",
    "pd.options.display.max_rows = 10\n",
    "pd.options.display.float_format = \"{:.1f}\".format\n",
    "\n",
    "# The following line improves formatting when ouputting NumPy arrays.\n",
    "np.set_printoptions(linewidth = 200)"
   ]
  },
  {
   "cell_type": "markdown",
   "metadata": {},
   "source": [
    "## Load the dataset\n",
    "\n",
    "`tf.keras` provides a set of convenience functions for loading well-known datasets. Each of these convenience functions does the following:\n",
    "\n",
    "* Loads both the training set and the test set.\n",
    "* Separates each set into features and labels.\n",
    "\n",
    "The relevant convenience function for MNIST is called `mnist.load_data()`:"
   ]
  },
  {
   "cell_type": "code",
   "execution_count": 3,
   "metadata": {},
   "outputs": [
    {
     "name": "stdout",
     "output_type": "stream",
     "text": [
      "Downloading data from https://storage.googleapis.com/tensorflow/tf-keras-datasets/mnist.npz\n",
      "11493376/11490434 [==============================] - 14s 1us/step\n"
     ]
    }
   ],
   "source": [
    "(x_train, y_train),(x_test, y_test) = tf.keras.datasets.mnist.load_data()"
   ]
  },
  {
   "cell_type": "markdown",
   "metadata": {},
   "source": [
    "Notice that `mnist.load_data()` returned four separate values:\n",
    "\n",
    "* `x_train` contains the training set's features.\n",
    "* `y_train` contains the training set's labels.\n",
    "* `x_test` contains the test set's features.\n",
    "* `y_test` contains the test set's labels.\n",
    "\n",
    "**Note:** The MNIST .csv training set is already shuffled."
   ]
  },
  {
   "cell_type": "markdown",
   "metadata": {},
   "source": [
    "## View the dataset\n",
    "\n",
    "The .csv file for the California Housing Dataset contains column names (for example, `latitude`, `longitude`, `population`). By contrast, the .csv file for MNIST does not contain column names. Instead of column names, you use ordinal numbers to access different subsets of the MNIST dataset. In fact, it is probably best to think of `x_train` and `x_test` as three-dimensional NumPy arrays:  \n",
    "\n"
   ]
  },
  {
   "cell_type": "code",
   "execution_count": 4,
   "metadata": {},
   "outputs": [
    {
     "data": {
      "text/plain": [
       "array([[  0,   0,   0,   0,   0,   0,   0,   0,   0,   0,   0,   0,   0,   0,   0,   0,   0,   0,   0,   0,   0,   0,   0,   0,   0,   0,   0,   0],\n",
       "       [  0,   0,   0,   0,   0,   0,   0,   0,   0,   0,   0,   0,   0,   0,   0,   0,   0,   0,   0,   0,   0,   0,   0,   0,   0,   0,   0,   0],\n",
       "       [  0,   0,   0,   0,   0,   0,   0,   0,   0,   0,   0,   0,   0,   0,   0,   0,   0,   0,   0,   0,   0,   0,   0,   0,   0,   0,   0,   0],\n",
       "       [  0,   0,   0,   0,   0,   0,   0,   0,   0,   0,   0,   0,   0,   0,   0,   0,   0,   0,   0,   0,   0,   0,   0,   0,   0,   0,   0,   0],\n",
       "       [  0,   0,   0,   0,   0,   0,   0,   0,   0,   0,   0,   0,   0,   0,   0,   0,   0,   0,   0,   0,   0,   0,   0,   0,   0,   0,   0,   0],\n",
       "       [  0,   0,   0,   0,   0,   0,   0,   0,   0,   0,   0,   0,   0,   0,   0,   0,   0,   0,   0,   0,   0,   0,   0,   0,   0,   0,   0,   0],\n",
       "       [  0,   0,   0,   0,   0,   0,   0,   0, 127, 100, 156, 239, 224, 177, 213, 159,  70,  13,   0,   0,   0,   0,   0,   0,   0,   0,   0,   0],\n",
       "       [  0,   0,   0,   0,   0,   0,   0, 110, 250, 254, 254, 254, 254, 254, 254, 254, 254, 184,  10,   0,   0,   0,   0,   0,   0,   0,   0,   0],\n",
       "       [  0,   0,   0,   0,   0,   0,   0, 216, 254, 254, 254, 254, 254, 254, 254, 254, 254, 251,  54,   0,   0,   0,   0,   0,   0,   0,   0,   0],\n",
       "       [  0,   0,   0,   0,   0,   0,   0,   3, 131, 197,  68, 137, 101,  83,  41,  70, 221, 254, 108,   0,   0,   0,   0,   0,   0,   0,   0,   0],\n",
       "       [  0,   0,   0,   0,   0,   0,   0,   0,   0,   0,   0,   0,   0,   0,   0,   0,  58, 254, 216,  11,   0,   0,   0,   0,   0,   0,   0,   0],\n",
       "       [  0,   0,   0,   0,   0,   0,   0,   0,   0,   0,   0,   0,   0,   0,   0,   0, 110, 254, 254,  24,   0,   0,   0,   0,   0,   0,   0,   0],\n",
       "       [  0,   0,   0,   0,   0,   0,   0,   0,   0,   0,   0,   0,   0,   0,   4,  83, 247, 254, 192,  10,   0,   0,   0,   0,   0,   0,   0,   0],\n",
       "       [  0,   0,   0,   0,   0,   0,   0,   0,   0,   0,   0,   0,   0,  37, 124, 254, 254, 250,  47,   0,   0,   0,   0,   0,   0,   0,   0,   0],\n",
       "       [  0,   0,   0,   0,   0,   0,   0,   0,   0,   0,   0, 113, 178, 250, 254, 254, 254, 252, 178, 128,  50,   0,   0,   0,   0,   0,   0,   0],\n",
       "       [  0,   0,   0,   0,   0,   0,   0,   0,   0,   0,  69, 252, 254, 254, 254, 254, 254, 254, 254, 254, 153,   0,   0,   0,   0,   0,   0,   0],\n",
       "       [  0,   0,   0,   0,   0,   0,   0,   0,   0,   0, 141, 252, 254, 241, 241, 254, 247, 252, 254, 254, 153,   0,   0,   0,   0,   0,   0,   0],\n",
       "       [  0,   0,   0,   0,   0,   0,   0,   0,   0,   0,   0,  68,  82,   5,   5,  82,  37,  65, 167, 254, 190,   0,   0,   0,   0,   0,   0,   0],\n",
       "       [  0,   0,   0,   0,   0,   0,   0,   0,   0,   0,   0,   0,   0,   0,   0,   0,   0,   0, 162, 254, 153,   0,   0,   0,   0,   0,   0,   0],\n",
       "       [  0,   0,   0,   0,   0,   0,   0,   0,   0,   0,   0,   0,   0,   0,   0,   0,   0,   1, 172, 253,  75,   0,   0,   0,   0,   0,   0,   0],\n",
       "       [  0,   0,   0,   0,   0,   0,   0,   0,   0,   0,   0,   0,   0,   0,   0,   0,   0, 102, 254, 152,   0,   0,   0,   0,   0,   0,   0,   0],\n",
       "       [  0,   0,   0,   0,   0,   0,   0,   0,   0,   0,   0,   0,   0,   0,   0,   0,  38, 230, 216,  20,   0,   0,   0,   0,   0,   0,   0,   0],\n",
       "       [  0,   0,   0,   0,   0,   0,   0,   0,   0,   0,   0,   0,   0,   0,   1,  71, 222, 254, 142,   0,   0,   0,   0,   0,   0,   0,   0,   0],\n",
       "       [  0,   0,   0,   0,   0,   0,   0,   0,   0,   0,   0,   0,   0,   0,  66, 254, 254, 157,   0,   0,   0,   0,   0,   0,   0,   0,   0,   0],\n",
       "       [  0,   0,   0,   0,   0,   0,   0,   0,   4,  34,  34,  78, 161, 226, 249, 254, 154,   6,   0,   0,   0,   0,   0,   0,   0,   0,   0,   0],\n",
       "       [  0,   0,   0,   0,   0,   0,   0,  96, 184, 254, 254, 254, 254, 254, 249,  93,   5,   0,   0,   0,   0,   0,   0,   0,   0,   0,   0,   0],\n",
       "       [  0,   0,   0,   0,   0,   0,   0,   0,   0,   0,   0,   0,   0,   0,   0,   0,   0,   0,   0,   0,   0,   0,   0,   0,   0,   0,   0,   0],\n",
       "       [  0,   0,   0,   0,   0,   0,   0,   0,   0,   0,   0,   0,   0,   0,   0,   0,   0,   0,   0,   0,   0,   0,   0,   0,   0,   0,   0,   0]], dtype=uint8)"
      ]
     },
     "execution_count": 4,
     "metadata": {},
     "output_type": "execute_result"
    }
   ],
   "source": [
    "# Output example #2917 of the training set.\n",
    "x_train[2917]"
   ]
  },
  {
   "cell_type": "markdown",
   "metadata": {},
   "source": [
    "Alternatively, you can call `matplotlib.pyplot.imshow` to interpret the preceding numeric array as an image. "
   ]
  },
  {
   "cell_type": "code",
   "execution_count": 5,
   "metadata": {},
   "outputs": [
    {
     "data": {
      "text/plain": [
       "<matplotlib.image.AxesImage at 0x1c6fcd76ac8>"
      ]
     },
     "execution_count": 5,
     "metadata": {},
     "output_type": "execute_result"
    },
    {
     "data": {
      "image/png": "[encoded data removed]",
      "text/plain": [
       "<Figure size 432x288 with 1 Axes>"
      ]
     },
     "metadata": {
      "needs_background": "light"
     },
     "output_type": "display_data"
    }
   ],
   "source": [
    "# Use false colors to visualize the array.\n",
    "plt.imshow(x_train[2917])"
   ]
  },
  {
   "cell_type": "code",
   "execution_count": 9,
   "metadata": {},
   "outputs": [
    {
     "data": {
      "text/plain": [
       "array([  0,   0,   0,   0,   0,   0,   0,   0,   0,   0,   0,   0,   0,   0,   0,   0,  58, 254, 216,  11,   0,   0,   0,   0,   0,   0,   0,   0], dtype=uint8)"
      ]
     },
     "execution_count": 9,
     "metadata": {},
     "output_type": "execute_result"
    }
   ],
   "source": [
    "# Output row #10 of example #2917.\n",
    "x_train[2917][10]"
   ]
  },
  {
   "cell_type": "code",
   "execution_count": 7,
   "metadata": {},
   "outputs": [
    {
     "data": {
      "text/plain": [
       "58"
      ]
     },
     "execution_count": 7,
     "metadata": {},
     "output_type": "execute_result"
    }
   ],
   "source": [
    "# Output pixel #16 of row #10 of example #2900.\n",
    "x_train[2917][10][16]"
   ]
  },
  {
   "cell_type": "markdown",
   "metadata": {},
   "source": [
    "## Task 1: Normalize feature values\n",
    "\n",
    "Complete the following code cell to map each feature value from its current representation (an integer between 0 and 255) to a floating-point value between 0 and 1.0. Store the floating-point values in `x_train_normalized` and `x_test_normalized`."
   ]
  },
  {
   "cell_type": "code",
   "execution_count": 10,
   "metadata": {
    "scrolled": true
   },
   "outputs": [
    {
     "name": "stdout",
     "output_type": "stream",
     "text": [
      "[0.         0.         0.         0.         0.         0.         0.         0.55294118 0.88627451 0.22352941 0.         0.         0.         0.         0.         0.         0.         0.\n",
      " 0.         0.         0.         0.         0.         0.         0.         0.         0.         0.        ]\n"
     ]
    }
   ],
   "source": [
    "x_train_normalized = x_train / 255.0\n",
    "x_test_normalized = x_test / 255.0\n",
    "print(x_train_normalized[2900][12])"
   ]
  },
  {
   "cell_type": "markdown",
   "metadata": {},
   "source": [
    "## Define a plotting function\n",
    "\n",
    "The following function plots an accuracy curve:"
   ]
  },
  {
   "cell_type": "code",
   "execution_count": 11,
   "metadata": {},
   "outputs": [
    {
     "name": "stdout",
     "output_type": "stream",
     "text": [
      "Loaded the plot_curve function.\n"
     ]
    }
   ],
   "source": [
    "def plot_curve(epochs, hist, list_of_metrics):\n",
    "  \"\"\"Plot a curve of one or more classification metrics vs. epoch.\"\"\"  \n",
    "  # list_of_metrics should be one of the names shown in:\n",
    "  # https://www.tensorflow.org/tutorials/structured_data/imbalanced_data#define_the_model_and_metrics  \n",
    "\n",
    "  plt.figure()\n",
    "  plt.xlabel(\"Epoch\")\n",
    "  plt.ylabel(\"Value\")\n",
    "\n",
    "  for m in list_of_metrics:\n",
    "    x = hist[m]\n",
    "    plt.plot(epochs[1:], x[1:], label=m)\n",
    "\n",
    "  plt.legend()\n",
    "\n",
    "print(\"Loaded the plot_curve function.\")"
   ]
  },
  {
   "cell_type": "markdown",
   "metadata": {},
   "source": [
    "## Create a deep neural net model\n",
    "\n",
    "The `create_model` function defines the topography of the deep neural net, specifying the following:\n",
    "\n",
    "* The number of [layers](https://developers.google.com/machine-learning/glossary/#layer) in the deep neural net.\n",
    "* The number of [nodes](https://developers.google.com/machine-learning/glossary/#node) in each layer.\n",
    "* Any [regularization](https://developers.google.com/machine-learning/glossary/#regularization) layers.\n",
    "\n",
    "The `create_model` function also defines the [activation function](https://developers.google.com/machine-learning/glossary/#activation_function) of each layer.  The activation function of the output layer is [softmax](https://developers.google.com/machine-learning/glossary/#softmax), which will yield 10 different outputs for each example. Each of the 10 outputs provides the probability that the input example is a certain digit.\n",
    "\n",
    "**Note:** Unlike several of the recent Colabs, this exercise does not define feature columns or a feature layer.  Instead, the model will train on the NumPy array."
   ]
  },
  {
   "cell_type": "code",
   "execution_count": 12,
   "metadata": {},
   "outputs": [],
   "source": [
    "def create_model(my_learning_rate):\n",
    "  \"\"\"Create and compile a deep neural net.\"\"\"\n",
    "  \n",
    "  # All models in this course are sequential.\n",
    "  model = tf.keras.models.Sequential()\n",
    "\n",
    "  # The features are stored in a two-dimensional 28X28 array. \n",
    "  # Flatten that two-dimensional array into a a one-dimensional \n",
    "  # 784-element array.\n",
    "  model.add(tf.keras.layers.Flatten(input_shape=(28, 28)))\n",
    "\n",
    "  # Define the first hidden layer.   \n",
    "  model.add(tf.keras.layers.Dense(units=32, activation='relu'))\n",
    "  \n",
    "  # Define a dropout regularization layer. \n",
    "  model.add(tf.keras.layers.Dropout(rate=0.2))\n",
    "\n",
    "  # Define the output layer. The units parameter is set to 10 because\n",
    "  # the model must choose among 10 possible output values (representing\n",
    "  # the digits from 0 to 9, inclusive).\n",
    "  #\n",
    "  # Don't change this layer.\n",
    "  model.add(tf.keras.layers.Dense(units=10, activation='softmax'))     \n",
    "                           \n",
    "  # Construct the layers into a model that TensorFlow can execute.  \n",
    "  # Notice that the loss function for multi-class classification\n",
    "  # is different than the loss function for binary classification.  \n",
    "  model.compile(optimizer=tf.keras.optimizers.Adam(lr=my_learning_rate),\n",
    "                loss=\"sparse_categorical_crossentropy\",\n",
    "                metrics=['accuracy'])\n",
    "  \n",
    "  return model    \n",
    "\n",
    "\n",
    "def train_model(model, train_features, train_label, epochs,\n",
    "                batch_size=None, validation_split=0.1):\n",
    "  \"\"\"Train the model by feeding it data.\"\"\"\n",
    "\n",
    "  history = model.fit(x=train_features, y=train_label, batch_size=batch_size,\n",
    "                      epochs=epochs, shuffle=True, \n",
    "                      validation_split=validation_split)\n",
    " \n",
    "  # To track the progression of training, gather a snapshot\n",
    "  # of the model's metrics at each epoch. \n",
    "  epochs = history.epoch\n",
    "  hist = pd.DataFrame(history.history)\n",
    "\n",
    "  return epochs, hist    "
   ]
  },
  {
   "cell_type": "markdown",
   "metadata": {},
   "source": [
    "## Invoke the previous functions\n",
    "\n",
    "Run the following code cell to invoke the preceding functions and actually train the model on the training set. \n",
    "\n",
    "**Note:** Due to several factors (for example, more examples and a more complex neural network) training MNIST might take longer than training the California Housing Dataset. Be patient."
   ]
  },
  {
   "cell_type": "code",
   "execution_count": 13,
   "metadata": {
    "scrolled": true
   },
   "outputs": [
    {
     "name": "stdout",
     "output_type": "stream",
     "text": [
      "Train on 48000 samples, validate on 12000 samples\n",
      "Epoch 1/50\n",
      "48000/48000 [==============================] - 1s 13us/sample - loss: 1.6890 - accuracy: 0.4566 - val_loss: 0.8936 - val_accuracy: 0.8025\n",
      "Epoch 2/50\n",
      "48000/48000 [==============================] - 0s 6us/sample - loss: 0.8245 - accuracy: 0.7512 - val_loss: 0.4855 - val_accuracy: 0.8702\n",
      "Epoch 3/50\n",
      "48000/48000 [==============================] - 0s 6us/sample - loss: 0.5849 - accuracy: 0.8248 - val_loss: 0.3931 - val_accuracy: 0.8943\n",
      "Epoch 4/50\n",
      "48000/48000 [==============================] - 0s 6us/sample - loss: 0.4921 - accuracy: 0.8552 - val_loss: 0.3460 - val_accuracy: 0.9032\n",
      "Epoch 5/50\n",
      "48000/48000 [==============================] - 0s 5us/sample - loss: 0.4434 - accuracy: 0.8701 - val_loss: 0.3158 - val_accuracy: 0.9126\n",
      "Epoch 6/50\n",
      "48000/48000 [==============================] - 0s 5us/sample - loss: 0.4101 - accuracy: 0.8813 - val_loss: 0.2959 - val_accuracy: 0.9172\n",
      "Epoch 7/50\n",
      "48000/48000 [==============================] - 0s 5us/sample - loss: 0.3854 - accuracy: 0.8876 - val_loss: 0.2813 - val_accuracy: 0.9224\n",
      "Epoch 8/50\n",
      "48000/48000 [==============================] - 0s 5us/sample - loss: 0.3667 - accuracy: 0.8939 - val_loss: 0.2669 - val_accuracy: 0.9262\n",
      "Epoch 9/50\n",
      "48000/48000 [==============================] - 0s 6us/sample - loss: 0.3505 - accuracy: 0.8983 - val_loss: 0.2563 - val_accuracy: 0.9299\n",
      "Epoch 10/50\n",
      "48000/48000 [==============================] - 0s 5us/sample - loss: 0.3347 - accuracy: 0.9015 - val_loss: 0.2467 - val_accuracy: 0.9321\n",
      "Epoch 11/50\n",
      "48000/48000 [==============================] - 0s 5us/sample - loss: 0.3243 - accuracy: 0.9051 - val_loss: 0.2373 - val_accuracy: 0.9350\n",
      "Epoch 12/50\n",
      "48000/48000 [==============================] - 0s 5us/sample - loss: 0.3110 - accuracy: 0.9114 - val_loss: 0.2295 - val_accuracy: 0.9366\n",
      "Epoch 13/50\n",
      "48000/48000 [==============================] - 0s 5us/sample - loss: 0.3023 - accuracy: 0.9124 - val_loss: 0.2216 - val_accuracy: 0.9377\n",
      "Epoch 14/50\n",
      "48000/48000 [==============================] - 0s 6us/sample - loss: 0.2910 - accuracy: 0.9146 - val_loss: 0.2161 - val_accuracy: 0.9399\n",
      "Epoch 15/50\n",
      "48000/48000 [==============================] - 0s 6us/sample - loss: 0.2849 - accuracy: 0.9166 - val_loss: 0.2100 - val_accuracy: 0.9417\n",
      "Epoch 16/50\n",
      "48000/48000 [==============================] - 0s 5us/sample - loss: 0.2785 - accuracy: 0.9199 - val_loss: 0.2050 - val_accuracy: 0.9433\n",
      "Epoch 17/50\n",
      "48000/48000 [==============================] - 0s 5us/sample - loss: 0.2683 - accuracy: 0.9212 - val_loss: 0.1985 - val_accuracy: 0.9448\n",
      "Epoch 18/50\n",
      "48000/48000 [==============================] - 0s 5us/sample - loss: 0.2599 - accuracy: 0.9238 - val_loss: 0.1954 - val_accuracy: 0.9456\n",
      "Epoch 19/50\n",
      "48000/48000 [==============================] - 0s 5us/sample - loss: 0.2565 - accuracy: 0.9247 - val_loss: 0.1908 - val_accuracy: 0.9467\n",
      "Epoch 20/50\n",
      "48000/48000 [==============================] - 0s 5us/sample - loss: 0.2506 - accuracy: 0.9266 - val_loss: 0.1874 - val_accuracy: 0.9477\n",
      "Epoch 21/50\n",
      "48000/48000 [==============================] - 0s 5us/sample - loss: 0.2468 - accuracy: 0.9278 - val_loss: 0.1839 - val_accuracy: 0.9492\n",
      "Epoch 22/50\n",
      "48000/48000 [==============================] - 0s 5us/sample - loss: 0.2449 - accuracy: 0.9272 - val_loss: 0.1822 - val_accuracy: 0.9489\n",
      "Epoch 23/50\n",
      "48000/48000 [==============================] - 0s 5us/sample - loss: 0.2366 - accuracy: 0.9294 - val_loss: 0.1783 - val_accuracy: 0.9503\n",
      "Epoch 24/50\n",
      "48000/48000 [==============================] - 0s 5us/sample - loss: 0.2329 - accuracy: 0.9315 - val_loss: 0.1752 - val_accuracy: 0.9515\n",
      "Epoch 25/50\n",
      "48000/48000 [==============================] - 0s 5us/sample - loss: 0.2300 - accuracy: 0.9326 - val_loss: 0.1724 - val_accuracy: 0.9519\n",
      "Epoch 26/50\n",
      "48000/48000 [==============================] - 0s 6us/sample - loss: 0.2285 - accuracy: 0.9337 - val_loss: 0.1699 - val_accuracy: 0.9528\n",
      "Epoch 27/50\n",
      "48000/48000 [==============================] - 0s 5us/sample - loss: 0.2217 - accuracy: 0.9347 - val_loss: 0.1667 - val_accuracy: 0.9538\n",
      "Epoch 28/50\n",
      "48000/48000 [==============================] - 0s 5us/sample - loss: 0.2169 - accuracy: 0.9357 - val_loss: 0.1646 - val_accuracy: 0.9539\n",
      "Epoch 29/50\n",
      "48000/48000 [==============================] - 0s 5us/sample - loss: 0.2138 - accuracy: 0.9370 - val_loss: 0.1629 - val_accuracy: 0.9542\n",
      "Epoch 30/50\n",
      "48000/48000 [==============================] - 0s 6us/sample - loss: 0.2112 - accuracy: 0.9375 - val_loss: 0.1619 - val_accuracy: 0.9538\n",
      "Epoch 31/50\n",
      "48000/48000 [==============================] - 0s 6us/sample - loss: 0.2091 - accuracy: 0.9380 - val_loss: 0.1601 - val_accuracy: 0.9542\n",
      "Epoch 32/50\n",
      "48000/48000 [==============================] - 0s 6us/sample - loss: 0.2090 - accuracy: 0.9375 - val_loss: 0.1584 - val_accuracy: 0.9546\n",
      "Epoch 33/50\n",
      "48000/48000 [==============================] - 0s 5us/sample - loss: 0.2026 - accuracy: 0.9395 - val_loss: 0.1555 - val_accuracy: 0.9557\n",
      "Epoch 34/50\n",
      "48000/48000 [==============================] - 0s 6us/sample - loss: 0.2004 - accuracy: 0.9387 - val_loss: 0.1540 - val_accuracy: 0.9563\n",
      "Epoch 35/50\n",
      "48000/48000 [==============================] - 0s 5us/sample - loss: 0.1965 - accuracy: 0.9403 - val_loss: 0.1518 - val_accuracy: 0.9566\n",
      "Epoch 36/50\n",
      "48000/48000 [==============================] - 0s 5us/sample - loss: 0.1955 - accuracy: 0.9412 - val_loss: 0.1513 - val_accuracy: 0.9581\n",
      "Epoch 37/50\n",
      "48000/48000 [==============================] - 0s 5us/sample - loss: 0.1906 - accuracy: 0.9429 - val_loss: 0.1505 - val_accuracy: 0.9572\n",
      "Epoch 38/50\n",
      "48000/48000 [==============================] - 0s 5us/sample - loss: 0.1930 - accuracy: 0.9421 - val_loss: 0.1484 - val_accuracy: 0.9582\n",
      "Epoch 39/50\n",
      "48000/48000 [==============================] - 0s 5us/sample - loss: 0.1874 - accuracy: 0.9430 - val_loss: 0.1482 - val_accuracy: 0.9582\n",
      "Epoch 40/50\n",
      "48000/48000 [==============================] - 0s 5us/sample - loss: 0.1870 - accuracy: 0.9428 - val_loss: 0.1472 - val_accuracy: 0.9586\n",
      "Epoch 41/50\n",
      "48000/48000 [==============================] - 0s 6us/sample - loss: 0.1843 - accuracy: 0.9446 - val_loss: 0.1450 - val_accuracy: 0.9584\n",
      "Epoch 42/50\n",
      "48000/48000 [==============================] - 0s 5us/sample - loss: 0.1829 - accuracy: 0.9441 - val_loss: 0.1435 - val_accuracy: 0.9597\n",
      "Epoch 43/50\n",
      "48000/48000 [==============================] - 0s 5us/sample - loss: 0.1828 - accuracy: 0.9448 - val_loss: 0.1448 - val_accuracy: 0.9593\n",
      "Epoch 44/50\n",
      "48000/48000 [==============================] - 0s 6us/sample - loss: 0.1789 - accuracy: 0.9450 - val_loss: 0.1425 - val_accuracy: 0.9592\n",
      "Epoch 45/50\n",
      "48000/48000 [==============================] - 0s 5us/sample - loss: 0.1800 - accuracy: 0.9452 - val_loss: 0.1427 - val_accuracy: 0.9592\n",
      "Epoch 46/50\n",
      "48000/48000 [==============================] - 0s 5us/sample - loss: 0.1766 - accuracy: 0.9460 - val_loss: 0.1398 - val_accuracy: 0.9607\n",
      "Epoch 47/50\n",
      "48000/48000 [==============================] - 0s 6us/sample - loss: 0.1754 - accuracy: 0.9463 - val_loss: 0.1388 - val_accuracy: 0.9607\n",
      "Epoch 48/50\n",
      "48000/48000 [==============================] - 0s 6us/sample - loss: 0.1753 - accuracy: 0.9475 - val_loss: 0.1387 - val_accuracy: 0.9614\n",
      "Epoch 49/50\n",
      "48000/48000 [==============================] - 0s 6us/sample - loss: 0.1701 - accuracy: 0.9476 - val_loss: 0.1380 - val_accuracy: 0.9611\n",
      "Epoch 50/50\n",
      "48000/48000 [==============================] - 0s 5us/sample - loss: 0.1705 - accuracy: 0.9469 - val_loss: 0.1378 - val_accuracy: 0.9617\n",
      "\n",
      " Evaluate the new model against the test set:\n",
      "10000/10000 [==============================] - 0s 13us/sample - loss: 0.1369 - accuracy: 0.9591\n"
     ]
    },
    {
     "data": {
      "text/plain": [
       "[0.13691672533750535, 0.9591]"
      ]
     },
     "execution_count": 13,
     "metadata": {},
     "output_type": "execute_result"
    },
    {
     "data": {
      "image/png": "[encoded data removed]",
      "text/plain": [
       "<Figure size 432x288 with 1 Axes>"
      ]
     },
     "metadata": {
      "needs_background": "light"
     },
     "output_type": "display_data"
    }
   ],
   "source": [
    "# The following variables are the hyperparameters.\n",
    "learning_rate = 0.003\n",
    "epochs = 50\n",
    "batch_size = 4000\n",
    "validation_split = 0.2\n",
    "\n",
    "# Establish the model's topography.\n",
    "my_model = create_model(learning_rate)\n",
    "\n",
    "# Train the model on the normalized training set.\n",
    "epochs, hist = train_model(my_model, x_train_normalized, y_train, \n",
    "                           epochs, batch_size, validation_split)\n",
    "\n",
    "# Plot a graph of the metric vs. epochs.\n",
    "list_of_metrics_to_plot = ['accuracy']\n",
    "plot_curve(epochs, hist, list_of_metrics_to_plot)\n",
    "\n",
    "# Evaluate against the test set.\n",
    "print(\"\\n Evaluate the new model against the test set:\")\n",
    "my_model.evaluate(x=x_test_normalized, y=y_test, batch_size=batch_size)"
   ]
  },
  {
   "cell_type": "markdown",
   "metadata": {},
   "source": [
    "## Task 2: Optimize the model\n",
    "\n",
    "Experiment with the following:\n",
    "\n",
    "* number of hidden layers \n",
    "* number of nodes in each layer\n",
    "* dropout regularization rate\n",
    "\n",
    "What trends did you discover?  Can you reach at least 98% accuracy against the test set? "
   ]
  },
  {
   "cell_type": "code",
   "execution_count": 18,
   "metadata": {},
   "outputs": [],
   "source": [
    "def create_model(my_learning_rate):\n",
    "  \"\"\"Create and compile a deep neural net.\"\"\"\n",
    "  \n",
    "  # All models in this course are sequential.\n",
    "  model = tf.keras.models.Sequential()\n",
    "\n",
    "  # The features are stored in a two-dimensional 28X28 array. \n",
    "  # Flatten that two-dimensional array into a a one-dimensional \n",
    "  # 784-element array.\n",
    "  model.add(tf.keras.layers.Flatten(input_shape=(28, 28)))\n",
    "\n",
    "  # Define the first hidden layer.   \n",
    "  model.add(tf.keras.layers.Dense(units=32, activation='sigmoid'))\n",
    "  \n",
    "  # Define a dropout regularization layer. \n",
    "  model.add(tf.keras.layers.Dropout(rate=0.2))\n",
    "\n",
    "  # Define the output layer. The units parameter is set to 10 because\n",
    "  # the model must choose among 10 possible output values (representing\n",
    "  # the digits from 0 to 9, inclusive).\n",
    "  #\n",
    "  # Don't change this layer.\n",
    "  model.add(tf.keras.layers.Dense(units=10, activation='softmax'))     \n",
    "                           \n",
    "  # Construct the layers into a model that TensorFlow can execute.  \n",
    "  # Notice that the loss function for multi-class classification\n",
    "  # is different than the loss function for binary classification.  \n",
    "  model.compile(optimizer=tf.keras.optimizers.Adam(lr=my_learning_rate),\n",
    "                loss=\"sparse_categorical_crossentropy\",\n",
    "                metrics=['accuracy'])\n",
    "  \n",
    "  return model    \n",
    "\n",
    "\n",
    "def train_model(model, train_features, train_label, epochs,\n",
    "                batch_size=None, validation_split=0.1):\n",
    "  \"\"\"Train the model by feeding it data.\"\"\"\n",
    "\n",
    "  history = model.fit(x=train_features, y=train_label, batch_size=batch_size,\n",
    "                      epochs=epochs, shuffle=True, \n",
    "                      validation_split=validation_split)\n",
    " \n",
    "  # To track the progression of training, gather a snapshot\n",
    "  # of the model's metrics at each epoch. \n",
    "  epochs = history.epoch\n",
    "  hist = pd.DataFrame(history.history)\n",
    "\n",
    "  return epochs, hist    "
   ]
  },
  {
   "cell_type": "code",
   "execution_count": 19,
   "metadata": {
    "scrolled": true
   },
   "outputs": [
    {
     "name": "stdout",
     "output_type": "stream",
     "text": [
      "Train on 48000 samples, validate on 12000 samples\n",
      "Epoch 1/50\n",
      "48000/48000 [==============================] - 1s 13us/sample - loss: 2.0966 - accuracy: 0.3121 - val_loss: 1.7148 - val_accuracy: 0.6690\n",
      "Epoch 2/50\n",
      "48000/48000 [==============================] - 0s 6us/sample - loss: 1.5814 - accuracy: 0.6096 - val_loss: 1.3282 - val_accuracy: 0.7738\n",
      "Epoch 3/50\n",
      "48000/48000 [==============================] - 0s 6us/sample - loss: 1.2818 - accuracy: 0.7090 - val_loss: 1.0706 - val_accuracy: 0.8236\n",
      "Epoch 4/50\n",
      "48000/48000 [==============================] - 0s 6us/sample - loss: 1.0710 - accuracy: 0.7630 - val_loss: 0.8838 - val_accuracy: 0.8511\n",
      "Epoch 5/50\n",
      "48000/48000 [==============================] - 0s 5us/sample - loss: 0.9151 - accuracy: 0.7956 - val_loss: 0.7465 - val_accuracy: 0.8659\n",
      "Epoch 6/50\n",
      "48000/48000 [==============================] - 0s 6us/sample - loss: 0.8025 - accuracy: 0.8160 - val_loss: 0.6455 - val_accuracy: 0.8778\n",
      "Epoch 7/50\n",
      "48000/48000 [==============================] - 0s 6us/sample - loss: 0.7156 - accuracy: 0.8329 - val_loss: 0.5720 - val_accuracy: 0.8843\n",
      "Epoch 8/50\n",
      "48000/48000 [==============================] - 0s 5us/sample - loss: 0.6517 - accuracy: 0.8426 - val_loss: 0.5161 - val_accuracy: 0.8890\n",
      "Epoch 9/50\n",
      "48000/48000 [==============================] - 0s 5us/sample - loss: 0.6019 - accuracy: 0.8529 - val_loss: 0.4743 - val_accuracy: 0.8935\n",
      "Epoch 10/50\n",
      "48000/48000 [==============================] - 0s 6us/sample - loss: 0.5610 - accuracy: 0.8590 - val_loss: 0.4407 - val_accuracy: 0.8975\n",
      "Epoch 11/50\n",
      "48000/48000 [==============================] - 0s 5us/sample - loss: 0.5315 - accuracy: 0.8628 - val_loss: 0.4141 - val_accuracy: 0.9017\n",
      "Epoch 12/50\n",
      "48000/48000 [==============================] - 0s 6us/sample - loss: 0.5025 - accuracy: 0.8691 - val_loss: 0.3920 - val_accuracy: 0.9054\n",
      "Epoch 13/50\n",
      "48000/48000 [==============================] - 0s 6us/sample - loss: 0.4805 - accuracy: 0.8746 - val_loss: 0.3740 - val_accuracy: 0.9072\n",
      "Epoch 14/50\n",
      "48000/48000 [==============================] - 0s 6us/sample - loss: 0.4632 - accuracy: 0.8778 - val_loss: 0.3589 - val_accuracy: 0.9095\n",
      "Epoch 15/50\n",
      "48000/48000 [==============================] - 0s 5us/sample - loss: 0.4474 - accuracy: 0.8808 - val_loss: 0.3457 - val_accuracy: 0.9121\n",
      "Epoch 16/50\n",
      "48000/48000 [==============================] - 0s 6us/sample - loss: 0.4332 - accuracy: 0.8821 - val_loss: 0.3339 - val_accuracy: 0.9138\n",
      "Epoch 17/50\n",
      "48000/48000 [==============================] - 0s 5us/sample - loss: 0.4199 - accuracy: 0.8852 - val_loss: 0.3236 - val_accuracy: 0.9163\n",
      "Epoch 18/50\n",
      "48000/48000 [==============================] - 0s 6us/sample - loss: 0.4126 - accuracy: 0.8862 - val_loss: 0.3156 - val_accuracy: 0.9180\n",
      "Epoch 19/50\n",
      "48000/48000 [==============================] - 0s 5us/sample - loss: 0.3995 - accuracy: 0.8906 - val_loss: 0.3070 - val_accuracy: 0.9190\n",
      "Epoch 20/50\n",
      "48000/48000 [==============================] - 0s 6us/sample - loss: 0.3894 - accuracy: 0.8928 - val_loss: 0.3001 - val_accuracy: 0.9197\n",
      "Epoch 21/50\n",
      "48000/48000 [==============================] - 0s 6us/sample - loss: 0.3812 - accuracy: 0.8952 - val_loss: 0.2935 - val_accuracy: 0.9207\n",
      "Epoch 22/50\n",
      "48000/48000 [==============================] - 0s 6us/sample - loss: 0.3741 - accuracy: 0.8957 - val_loss: 0.2874 - val_accuracy: 0.9222\n",
      "Epoch 23/50\n",
      "48000/48000 [==============================] - 0s 6us/sample - loss: 0.3671 - accuracy: 0.8986 - val_loss: 0.2819 - val_accuracy: 0.9237\n",
      "Epoch 24/50\n",
      "48000/48000 [==============================] - 0s 5us/sample - loss: 0.3586 - accuracy: 0.9000 - val_loss: 0.2765 - val_accuracy: 0.9249\n",
      "Epoch 25/50\n",
      "48000/48000 [==============================] - 0s 6us/sample - loss: 0.3540 - accuracy: 0.9001 - val_loss: 0.2712 - val_accuracy: 0.9262\n",
      "Epoch 26/50\n",
      "48000/48000 [==============================] - 0s 6us/sample - loss: 0.3473 - accuracy: 0.9025 - val_loss: 0.2677 - val_accuracy: 0.9266\n",
      "Epoch 27/50\n",
      "48000/48000 [==============================] - 0s 6us/sample - loss: 0.3451 - accuracy: 0.9018 - val_loss: 0.2631 - val_accuracy: 0.9288\n",
      "Epoch 28/50\n",
      "48000/48000 [==============================] - 0s 5us/sample - loss: 0.3385 - accuracy: 0.9033 - val_loss: 0.2595 - val_accuracy: 0.9293\n",
      "Epoch 29/50\n",
      "48000/48000 [==============================] - 0s 6us/sample - loss: 0.3350 - accuracy: 0.9059 - val_loss: 0.2558 - val_accuracy: 0.9297\n",
      "Epoch 30/50\n",
      "48000/48000 [==============================] - 0s 6us/sample - loss: 0.3279 - accuracy: 0.9067 - val_loss: 0.2518 - val_accuracy: 0.9310\n",
      "Epoch 31/50\n",
      "48000/48000 [==============================] - 0s 6us/sample - loss: 0.3253 - accuracy: 0.9073 - val_loss: 0.2491 - val_accuracy: 0.9311\n",
      "Epoch 32/50\n",
      "48000/48000 [==============================] - 0s 6us/sample - loss: 0.3198 - accuracy: 0.9098 - val_loss: 0.2460 - val_accuracy: 0.9312\n",
      "Epoch 33/50\n",
      "48000/48000 [==============================] - 0s 6us/sample - loss: 0.3179 - accuracy: 0.9093 - val_loss: 0.2423 - val_accuracy: 0.9328\n",
      "Epoch 34/50\n",
      "48000/48000 [==============================] - 0s 5us/sample - loss: 0.3128 - accuracy: 0.9108 - val_loss: 0.2396 - val_accuracy: 0.9332\n",
      "Epoch 35/50\n",
      "48000/48000 [==============================] - 0s 6us/sample - loss: 0.3085 - accuracy: 0.9114 - val_loss: 0.2368 - val_accuracy: 0.9343\n",
      "Epoch 36/50\n",
      "48000/48000 [==============================] - 0s 6us/sample - loss: 0.3056 - accuracy: 0.9123 - val_loss: 0.2341 - val_accuracy: 0.9343\n",
      "Epoch 37/50\n",
      "48000/48000 [==============================] - 0s 6us/sample - loss: 0.3017 - accuracy: 0.9144 - val_loss: 0.2319 - val_accuracy: 0.9355\n",
      "Epoch 38/50\n",
      "48000/48000 [==============================] - 0s 6us/sample - loss: 0.2999 - accuracy: 0.9147 - val_loss: 0.2290 - val_accuracy: 0.9365\n",
      "Epoch 39/50\n",
      "48000/48000 [==============================] - 0s 5us/sample - loss: 0.2978 - accuracy: 0.9137 - val_loss: 0.2278 - val_accuracy: 0.9362\n",
      "Epoch 40/50\n",
      "48000/48000 [==============================] - 0s 5us/sample - loss: 0.2915 - accuracy: 0.9153 - val_loss: 0.2249 - val_accuracy: 0.9373\n",
      "Epoch 41/50\n",
      "48000/48000 [==============================] - 0s 6us/sample - loss: 0.2902 - accuracy: 0.9171 - val_loss: 0.2225 - val_accuracy: 0.9375\n",
      "Epoch 42/50\n",
      "48000/48000 [==============================] - 0s 6us/sample - loss: 0.2875 - accuracy: 0.9169 - val_loss: 0.2205 - val_accuracy: 0.9380\n",
      "Epoch 43/50\n",
      "48000/48000 [==============================] - 0s 5us/sample - loss: 0.2841 - accuracy: 0.9187 - val_loss: 0.2187 - val_accuracy: 0.9390\n",
      "Epoch 44/50\n",
      "48000/48000 [==============================] - 0s 5us/sample - loss: 0.2804 - accuracy: 0.9195 - val_loss: 0.2169 - val_accuracy: 0.9394\n",
      "Epoch 45/50\n",
      "48000/48000 [==============================] - 0s 6us/sample - loss: 0.2794 - accuracy: 0.9196 - val_loss: 0.2142 - val_accuracy: 0.9398\n",
      "Epoch 46/50\n",
      "48000/48000 [==============================] - 0s 6us/sample - loss: 0.2755 - accuracy: 0.9193 - val_loss: 0.2127 - val_accuracy: 0.9400\n",
      "Epoch 47/50\n",
      "48000/48000 [==============================] - 0s 6us/sample - loss: 0.2738 - accuracy: 0.9203 - val_loss: 0.2115 - val_accuracy: 0.9401\n",
      "Epoch 48/50\n",
      "48000/48000 [==============================] - 0s 5us/sample - loss: 0.2723 - accuracy: 0.9210 - val_loss: 0.2094 - val_accuracy: 0.9408\n",
      "Epoch 49/50\n",
      "48000/48000 [==============================] - 0s 5us/sample - loss: 0.2669 - accuracy: 0.9222 - val_loss: 0.2077 - val_accuracy: 0.9412\n",
      "Epoch 50/50\n",
      "48000/48000 [==============================] - 0s 5us/sample - loss: 0.2656 - accuracy: 0.9232 - val_loss: 0.2059 - val_accuracy: 0.9418\n",
      "\n",
      " Evaluate the new model against the test set:\n",
      "10000/10000 [==============================] - 0s 12us/sample - loss: 0.2110 - accuracy: 0.9379\n"
     ]
    },
    {
     "data": {
      "text/plain": [
       "[0.21104835271835326, 0.9379]"
      ]
     },
     "execution_count": 19,
     "metadata": {},
     "output_type": "execute_result"
    },
    {
     "data": {
      "image/png": "[encoded data removed]",
      "text/plain": [
       "<Figure size 432x288 with 1 Axes>"
      ]
     },
     "metadata": {
      "needs_background": "light"
     },
     "output_type": "display_data"
    }
   ],
   "source": [
    "# The following variables are the hyperparameters.\n",
    "learning_rate = 0.003\n",
    "epochs = 50\n",
    "batch_size = 4000\n",
    "validation_split = 0.2\n",
    "\n",
    "# Establish the model's topography.\n",
    "my_model = create_model(learning_rate)\n",
    "\n",
    "# Train the model on the normalized training set.\n",
    "epochs, hist = train_model(my_model, x_train_normalized, y_train, \n",
    "                           epochs, batch_size, validation_split)\n",
    "\n",
    "# Plot a graph of the metric vs. epochs.\n",
    "list_of_metrics_to_plot = ['accuracy']\n",
    "plot_curve(epochs, hist, list_of_metrics_to_plot)\n",
    "\n",
    "# Evaluate against the test set.\n",
    "print(\"\\n Evaluate the new model against the test set:\")\n",
    "my_model.evaluate(x=x_test_normalized, y=y_test, batch_size=batch_size)"
   ]
  },
  {
   "cell_type": "code",
   "execution_count": 16,
   "metadata": {},
   "outputs": [],
   "source": [
    "# It would take much too long to experiment \n",
    "# fully with topography and dropout regularization \n",
    "# rate. In the real world, you would\n",
    "# also experiment with learning rate, batch size, \n",
    "# and number of epochs.  Since you only have a \n",
    "# few minutes, searching for trends can be helpful.\n",
    "# Here is what we discovered:\n",
    "#   * Adding more nodes (at least until 256 nodes) \n",
    "#     to the first hidden layer improved accuracy.\n",
    "#   * Adding a second hidden layer generally \n",
    "#     improved accuracy.\n",
    "#   * When the model contains a lot of nodes, \n",
    "#     the model overfits unless the dropout rate \n",
    "#     is at least 0.5. \n",
    "\n",
    "# We reached 98% test accuracy with the \n",
    "# following configuration:\n",
    "#   * One hidden layer of 256 nodes; no second \n",
    "#      hidden layer.\n",
    "#   * dropout regularization rate of 0.4\n",
    "\n",
    "# We reached 98.2% test accuracy with the \n",
    "# following configuration:\n",
    "#   * First hidden layer of 256 nodes; \n",
    "#     second hidden layer of 128 nodes.\n",
    "#   * dropout regularization rate of 0.2\n"
   ]
  }
 ],
 "metadata": {
  "kernelspec": {
   "display_name": "Python 3",
   "language": "python",
   "name": "python3"
  },
  "language_info": {
   "codemirror_mode": {
    "name": "ipython",
    "version": 3
   },
   "file_extension": ".py",
   "mimetype": "text/x-python",
   "name": "python",
   "nbconvert_exporter": "python",
   "pygments_lexer": "ipython3",
   "version": "3.7.7"
  }
 },
 "nbformat": 4,
 "nbformat_minor": 4
}

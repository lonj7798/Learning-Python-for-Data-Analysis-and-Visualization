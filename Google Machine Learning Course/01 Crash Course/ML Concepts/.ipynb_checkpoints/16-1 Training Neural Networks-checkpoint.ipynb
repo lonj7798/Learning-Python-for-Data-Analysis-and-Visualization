{
 "cells": [
  {
   "cell_type": "markdown",
   "metadata": {},
   "source": [
    "## Training Neural Networks: Best Practices\n",
    "\n",
    "**Backpropagation** is the most common training algorithm for neural networks. It makes gradient descent feasible for multi-layer neural networks. TensorFlow handles backpropagation automatically, so you don't need a deep understanding of the algorithm. To get a sense of how it works, walk through the following: [Backpropagation algorithm visual explanation](https://developers-dot-devsite-v2-prod.appspot.com/machine-learning/crash-course/backprop-scroll). As you scroll through the preceding explanation, note the following:"
   ]
  },
  {
   "cell_type": "markdown",
   "metadata": {},
   "source": [
    "### Failure Cases\n",
    "\n",
    "There are number of common ways for backpropagation to go wrong.\n",
    "\n",
    "### Vanishing Gradients\n",
    "\n",
    "The gradients for the lower layers(closer to the input) can become very small. In deep networks, computing these gradients can involve taking the product of many small terms. \n",
    "\n",
    "When the gradients vanish toward 0 for the lower layers, these layers train very slowly, or not at all.\n",
    "\n",
    "The ReLU activation function can help prevent vanishing gradients.\n",
    "\n",
    "### Exploding Gradients\n",
    "\n",
    "If the weights in a network are very large, then the gradients for the lower layers involve products of many large terms. In this caseyou can have exploding gradients: gradients that get too large to converge.\n",
    "\n",
    "Batch normalization can help prevent exploding gradients, as can lowering the learning rate.\n",
    "\n",
    "### Dead ReLU Units\n",
    "\n",
    "Once the weighted sum for a ReLU unit falls below 0, the ReLU unit can get stuck. It outputs 0 activation, contributing nothing to the network's output, and gradients can no longer flow through it during backpropagation. With a source of gradients cut off, the input to the ReLU may not ever change enough to bring the weighted sum back above 0.\n",
    "\n",
    "Lowering the learning rate can help kepp ReLU units from dying.\n",
    "\n",
    "### Dropout Regularization\n",
    "\n",
    "Yet another form of regularization, called Dropout, is useful for neural networks. It works by randomly \"dropping out\" unit activations in a network for a single gradient step. The more you drop out, the stronger the regularization:\n",
    "\n",
    "- 0.0 = No dropout regularzation\n",
    "- 1.0 = Drop out eveyrhing. The model learns nothing.\n",
    "- Values between 0.0 and 1.0 = More useful.\n",
    "\n",
    "\n",
    "[activation function](https://developers.google.com/machine-learning/glossary#activation_function)\n",
    "[backpropagation](https://developers.google.com/machine-learning/glossary#backpropagation)\n",
    "[dropout regularization](https://developers.google.com/machine-learning/glossary#dropout_regularization)\n",
    "[gradient descent](https://developers.google.com/machine-learning/glossary#gradient_descent)\n",
    "[rectified linear unit (ReLU)](https://developers.google.com/machine-learning/glossary#ReLU)"
   ]
  }
 ],
 "metadata": {
  "kernelspec": {
   "display_name": "Python 3",
   "language": "python",
   "name": "python3"
  },
  "language_info": {
   "codemirror_mode": {
    "name": "ipython",
    "version": 3
   },
   "file_extension": ".py",
   "mimetype": "text/x-python",
   "name": "python",
   "nbconvert_exporter": "python",
   "pygments_lexer": "ipython3",
   "version": "3.7.7"
  }
 },
 "nbformat": 4,
 "nbformat_minor": 4
}

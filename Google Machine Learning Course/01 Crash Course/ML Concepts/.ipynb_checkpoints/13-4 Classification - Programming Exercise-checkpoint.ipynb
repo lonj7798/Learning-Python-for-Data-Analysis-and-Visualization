{
 "cells": [
  {
   "cell_type": "code",
   "execution_count": 1,
   "metadata": {},
   "outputs": [],
   "source": [
    "#@title Copyright 2020 Google LLC. Double-click here for license information.\n",
    "# Licensed under the Apache License, Version 2.0 (the \"License\");\n",
    "# you may not use this file except in compliance with the License.\n",
    "# You may obtain a copy of the License at\n",
    "#\n",
    "# https://www.apache.org/licenses/LICENSE-2.0\n",
    "#\n",
    "# Unless required by applicable law or agreed to in writing, software\n",
    "# distributed under the License is distributed on an \"AS IS\" BASIS,\n",
    "# WITHOUT WARRANTIES OR CONDITIONS OF ANY KIND, either express or implied.\n",
    "# See the License for the specific language governing permissions and\n",
    "# limitations under the License."
   ]
  },
  {
   "cell_type": "markdown",
   "metadata": {},
   "source": [
    "# Binary Classification\n",
    "\n",
    "So far, you've only created regression models. That is, you created models that produced floating-point predictions, such as, \"houses in this neighborhood costs N thousand dollars.\" In this Colab, you'll create and evaluate a binary [classification model](https://developers.google.com/machine-learning/glossary/#classification_model).  That is, you'll create a model that answers a binary question. In this exercise, the binary question will be, \"Are houses in this neighborhood above a certain price?\""
   ]
  },
  {
   "cell_type": "markdown",
   "metadata": {},
   "source": [
    "## Learning Objectives:\n",
    "\n",
    "After doing this Colab, you'll know how to:\n",
    "\n",
    "  * Convert a regression question into a classification question.\n",
    "  * Modify the classification threshold and determine how that modification influences the model.\n",
    "  * Experiment with different classification metrics to determine your model's effectiveness.\n",
    "  \n",
    "## The Dataset\n",
    "  \n",
    "Like several of the previous Colabs, this Colab uses the [California Housing Dataset](https://developers.google.com/machine-learning/crash-course/california-housing-data-description)."
   ]
  },
  {
   "cell_type": "code",
   "execution_count": 9,
   "metadata": {},
   "outputs": [
    {
     "name": "stdout",
     "output_type": "stream",
     "text": [
      "Ran the import statements.\n"
     ]
    }
   ],
   "source": [
    "#@title Load the imports\n",
    "\n",
    "# from __future__ import absolute_import, division, print_function, unicode_literals\n",
    "\n",
    "import numpy as np\n",
    "import pandas as pd\n",
    "import tensorflow as tf\n",
    "from tensorflow import feature_column\n",
    "from tensorflow.keras import layers\n",
    "from matplotlib import pyplot as plt\n",
    "\n",
    "# The following lines adjust the granularity of reporting.\n",
    "pd.options.display.max_rows = 10\n",
    "pd.options.display.float_format = \"{:.1f}\".format\n",
    "# tf.keras.backend.set_floatx('float32')\n",
    "\n",
    "print(\"Ran the import statements.\")"
   ]
  },
  {
   "cell_type": "markdown",
   "metadata": {},
   "source": [
    "## Load the datasets from the internet\n",
    "\n",
    "The following code cell loads the separate .csv files and creates the following two pandas DataFrames:\n",
    "\n",
    "* `train_df`, which contains the training set\n",
    "* `test_df`, which contains the test set"
   ]
  },
  {
   "cell_type": "code",
   "execution_count": 10,
   "metadata": {},
   "outputs": [],
   "source": [
    "train_df = pd.read_csv(\"https://download.mlcc.google.com/mledu-datasets/california_housing_train.csv\")\n",
    "test_df = pd.read_csv(\"https://download.mlcc.google.com/mledu-datasets/california_housing_test.csv\")\n",
    "train_df = train_df.reindex(np.random.permutation(train_df.index)) # shuffle the training set"
   ]
  },
  {
   "cell_type": "markdown",
   "metadata": {},
   "source": [
    "Unlike some of the previous Colabs, the preceding code cell did not scale the label (`median_house_value`).  The following section (\"Normalize values\") provides an alternative approach."
   ]
  },
  {
   "cell_type": "markdown",
   "metadata": {},
   "source": [
    "## Normalize values\n",
    "\n",
    "When creating a model with multiple features, the values of each feature should cover roughly the same range.  For example, if one feature's range spans 500 to 100,000 and another feature's range spans 2 to 12, then the model will be difficult or impossible to train. Therefore, you should \n",
    "[normalize](https://developers.google.com/machine-learning/glossary/#normalization) features in a multi-feature model. \n",
    "\n",
    "The following code cell normalizes datasets by converting each raw value (including the label) to its Z-score. A **Z-score** is the number of standard deviations from the mean for a particular raw value. For example, consider a feature having the following characteristics:\n",
    "\n",
    "  * The mean is 60.\n",
    "  * The standard deviation is 10.\n",
    "\n",
    "The raw value 75 would have a Z-score of +1.5:\n",
    "\n",
    "```\n",
    "  Z-score = (75 - 60) / 10 = +1.5\n",
    "```\n",
    "\n",
    "The raw value 38 would have a Z-score of -2.2:\n",
    "\n",
    "```\n",
    "  Z-score = (38 - 60) / 10 = -2.2\n",
    "```"
   ]
  },
  {
   "cell_type": "code",
   "execution_count": 11,
   "metadata": {},
   "outputs": [
    {
     "data": {
      "text/html": [
       "<div>\n",
       "<style scoped>\n",
       "    .dataframe tbody tr th:only-of-type {\n",
       "        vertical-align: middle;\n",
       "    }\n",
       "\n",
       "    .dataframe tbody tr th {\n",
       "        vertical-align: top;\n",
       "    }\n",
       "\n",
       "    .dataframe thead th {\n",
       "        text-align: right;\n",
       "    }\n",
       "</style>\n",
       "<table border=\"1\" class=\"dataframe\">\n",
       "  <thead>\n",
       "    <tr style=\"text-align: right;\">\n",
       "      <th></th>\n",
       "      <th>longitude</th>\n",
       "      <th>latitude</th>\n",
       "      <th>housing_median_age</th>\n",
       "      <th>total_rooms</th>\n",
       "      <th>total_bedrooms</th>\n",
       "      <th>population</th>\n",
       "      <th>households</th>\n",
       "      <th>median_income</th>\n",
       "      <th>median_house_value</th>\n",
       "    </tr>\n",
       "  </thead>\n",
       "  <tbody>\n",
       "    <tr>\n",
       "      <th>14801</th>\n",
       "      <td>-1.3</td>\n",
       "      <td>1.2</td>\n",
       "      <td>0.5</td>\n",
       "      <td>-0.6</td>\n",
       "      <td>-0.8</td>\n",
       "      <td>-0.8</td>\n",
       "      <td>-0.8</td>\n",
       "      <td>0.3</td>\n",
       "      <td>0.5</td>\n",
       "    </tr>\n",
       "    <tr>\n",
       "      <th>10715</th>\n",
       "      <td>-0.5</td>\n",
       "      <td>0.8</td>\n",
       "      <td>-0.7</td>\n",
       "      <td>-0.5</td>\n",
       "      <td>-0.4</td>\n",
       "      <td>-0.4</td>\n",
       "      <td>-0.4</td>\n",
       "      <td>-1.3</td>\n",
       "      <td>-1.2</td>\n",
       "    </tr>\n",
       "    <tr>\n",
       "      <th>14459</th>\n",
       "      <td>-1.3</td>\n",
       "      <td>0.9</td>\n",
       "      <td>0.5</td>\n",
       "      <td>-0.6</td>\n",
       "      <td>-0.6</td>\n",
       "      <td>-0.3</td>\n",
       "      <td>-0.6</td>\n",
       "      <td>-0.1</td>\n",
       "      <td>-0.4</td>\n",
       "    </tr>\n",
       "    <tr>\n",
       "      <th>2347</th>\n",
       "      <td>1.0</td>\n",
       "      <td>-0.8</td>\n",
       "      <td>0.5</td>\n",
       "      <td>-0.3</td>\n",
       "      <td>-0.3</td>\n",
       "      <td>0.0</td>\n",
       "      <td>-0.2</td>\n",
       "      <td>-0.1</td>\n",
       "      <td>-0.9</td>\n",
       "    </tr>\n",
       "    <tr>\n",
       "      <th>16112</th>\n",
       "      <td>-1.4</td>\n",
       "      <td>1.0</td>\n",
       "      <td>1.5</td>\n",
       "      <td>-0.4</td>\n",
       "      <td>-0.4</td>\n",
       "      <td>-0.5</td>\n",
       "      <td>-0.3</td>\n",
       "      <td>0.7</td>\n",
       "      <td>1.7</td>\n",
       "    </tr>\n",
       "  </tbody>\n",
       "</table>\n",
       "</div>"
      ],
      "text/plain": [
       "       longitude  latitude  housing_median_age  total_rooms  total_bedrooms  \\\n",
       "14801       -1.3       1.2                 0.5         -0.6            -0.8   \n",
       "10715       -0.5       0.8                -0.7         -0.5            -0.4   \n",
       "14459       -1.3       0.9                 0.5         -0.6            -0.6   \n",
       "2347         1.0      -0.8                 0.5         -0.3            -0.3   \n",
       "16112       -1.4       1.0                 1.5         -0.4            -0.4   \n",
       "\n",
       "       population  households  median_income  median_house_value  \n",
       "14801        -0.8        -0.8            0.3                 0.5  \n",
       "10715        -0.4        -0.4           -1.3                -1.2  \n",
       "14459        -0.3        -0.6           -0.1                -0.4  \n",
       "2347          0.0        -0.2           -0.1                -0.9  \n",
       "16112        -0.5        -0.3            0.7                 1.7  "
      ]
     },
     "execution_count": 11,
     "metadata": {},
     "output_type": "execute_result"
    }
   ],
   "source": [
    "# Calculate the Z-scores of each column in the training set and\n",
    "# write those Z-scores into a new pandas DataFrame named train_df_norm.\n",
    "train_df_mean = train_df.mean()\n",
    "train_df_std = train_df.std()\n",
    "train_df_norm = (train_df - train_df_mean)/train_df_std\n",
    "\n",
    "# Examine some of the values of the normalized training set. Notice that most \n",
    "# Z-scores fall between -2 and +2.\n",
    "train_df_norm.head()"
   ]
  },
  {
   "cell_type": "code",
   "execution_count": 12,
   "metadata": {},
   "outputs": [],
   "source": [
    "# Calculate the Z-scores of each column in the test set and\n",
    "# write those Z-scores into a new pandas DataFrame named test_df_norm.\n",
    "test_df_mean = test_df.mean()\n",
    "test_df_std  = test_df.std()\n",
    "test_df_norm = (test_df - test_df_mean)/test_df_std"
   ]
  },
  {
   "cell_type": "markdown",
   "metadata": {},
   "source": [
    "## Task 1: Create a binary label\n",
    "\n",
    "In classification problems, the label for every example must be either 0 or 1. Unfortunately, the natural label in the California Housing Dataset, `median_house_value`, contains floating-point values like 80,100 or 85,700 rather than 0s and 1s, while the normalized version of `median_house_values` contains floating-point values primarily between -3 and +3.\n",
    "\n",
    "Your task is to create a new column named `median_house_value_is_high` in both the training set and the test set . If the `median_house_value` is higher than a certain arbitrary value (defined by `threshold`), then set `median_house_value_is_high` to 1. Otherwise, set `median_house_value_is_high` to 0. \n",
    "\n",
    "**Hint:** The cells in the `median_house_value_is_high` column must each hold `1` and `0`, not `True` and `False`. To convert `True` and `False` to  `1` and `0`, call the pandas DataFrame function `astype(float)`. "
   ]
  },
  {
   "cell_type": "code",
   "execution_count": 14,
   "metadata": {},
   "outputs": [
    {
     "data": {
      "text/plain": [
       "14801   1.0\n",
       "10715   0.0\n",
       "14459   0.0\n",
       "2347    0.0\n",
       "16112   1.0\n",
       "         ..\n",
       "15831   1.0\n",
       "8663    0.0\n",
       "15179   0.0\n",
       "1503    0.0\n",
       "5969    0.0\n",
       "Name: median_house_value_is_high, Length: 8000, dtype: float64"
      ]
     },
     "execution_count": 14,
     "metadata": {},
     "output_type": "execute_result"
    }
   ],
   "source": [
    "threshold = 265000\n",
    "train_df_norm[\"median_house_value_is_high\"] = (train_df[\"median_house_value\"] > threshold).astype(float)\n",
    "test_df_norm[\"median_house_value_is_high\"] = (test_df[\"median_house_value\"] > threshold).astype(float) \n",
    "train_df_norm[\"median_house_value_is_high\"].head(8000)"
   ]
  },
  {
   "cell_type": "markdown",
   "metadata": {},
   "source": [
    "## Represent features in feature columns\n",
    "\n",
    "This code cell specifies the features that you'll ultimately train the model on and how each of those features will be represented. The transformations (collected in `feature_layer`) don't actually get applied until you pass a DataFrame to it, which will happen when we train the model. "
   ]
  },
  {
   "cell_type": "code",
   "execution_count": 15,
   "metadata": {},
   "outputs": [
    {
     "data": {
      "text/plain": [
       "<tf.Tensor: shape=(17000, 2), dtype=float32, numpy=\n",
       "array([[ 0.31576127, -0.6287604 ],\n",
       "       [-1.2693288 , -0.5443547 ],\n",
       "       [-0.07985619, -0.60674155],\n",
       "       ...,\n",
       "       [ 0.14082801, -0.4227921 ],\n",
       "       [ 0.20476407,  0.3373181 ],\n",
       "       [ 0.61516017,  0.34878626]], dtype=float32)>"
      ]
     },
     "execution_count": 15,
     "metadata": {},
     "output_type": "execute_result"
    }
   ],
   "source": [
    "# Create an empty list that will eventually hold all created feature columns.\n",
    "feature_columns = []\n",
    "\n",
    "# Create a numerical feature column to represent median_income.\n",
    "median_income = tf.feature_column.numeric_column(\"median_income\")\n",
    "feature_columns.append(median_income)\n",
    "\n",
    "# Create a numerical feature column to represent total_rooms.\n",
    "tr = tf.feature_column.numeric_column(\"total_rooms\")\n",
    "feature_columns.append(tr)\n",
    "\n",
    "# Convert the list of feature columns into a layer that will later be fed into\n",
    "# the model. \n",
    "feature_layer = layers.DenseFeatures(feature_columns)\n",
    "\n",
    "# Print the first 3 and last 3 rows of the feature_layer's output when applied\n",
    "# to train_df_norm:\n",
    "feature_layer(dict(train_df_norm))"
   ]
  },
  {
   "cell_type": "markdown",
   "metadata": {},
   "source": [
    "## Define functions that build and train a model\n",
    "\n",
    "The following code cell defines two functions:\n",
    "\n",
    "  * `create_model(my_learning_rate, feature_layer, my_metrics)`, which defines the model's\n",
    "    topography.\n",
    "  * `train_model(model, dataset, epochs, label_name, batch_size, shuffle)`, uses input features and labels to train the model.\n",
    "\n",
    "Prior exercises used [ReLU](https://developers.google.com/machine-learning/glossary#ReLU) as the [activation function](https://developers.google.com/machine-learning/glossary#activation_function). By contrast, this exercise uses [sigmoid](https://developers.google.com/machine-learning/glossary#sigmoid_function) as the activation function. "
   ]
  },
  {
   "cell_type": "code",
   "execution_count": 17,
   "metadata": {},
   "outputs": [
    {
     "name": "stdout",
     "output_type": "stream",
     "text": [
      "Defined the create_model and train_model functions.\n"
     ]
    }
   ],
   "source": [
    "#@title Define the functions that create and train a model.\n",
    "def create_model(my_learning_rate, feature_layer, my_metrics):\n",
    "  \"\"\"Create and compile a simple classification model.\"\"\"\n",
    "  # Most simple tf.keras models are sequential.\n",
    "  model = tf.keras.models.Sequential()\n",
    "\n",
    "  # Add the feature layer (the list of features and how they are represented)\n",
    "  # to the model.\n",
    "  model.add(feature_layer)\n",
    "\n",
    "  # Funnel the regression value through a sigmoid function.\n",
    "  model.add(tf.keras.layers.Dense(units=1, input_shape=(1,),\n",
    "                                  activation=tf.sigmoid),)\n",
    "\n",
    "  # Call the compile method to construct the layers into a model that\n",
    "  # TensorFlow can execute.  Notice that we're using a different loss\n",
    "  # function for classification than for regression.    \n",
    "  model.compile(optimizer=tf.keras.optimizers.RMSprop(lr=my_learning_rate),                                                   \n",
    "                loss=tf.keras.losses.BinaryCrossentropy(),\n",
    "                metrics=my_metrics)\n",
    "\n",
    "  return model        \n",
    "\n",
    "\n",
    "def train_model(model, dataset, epochs, label_name,\n",
    "                batch_size=None, shuffle=True):\n",
    "  \"\"\"Feed a dataset into the model in order to train it.\"\"\"\n",
    "\n",
    "  # The x parameter of tf.keras.Model.fit can be a list of arrays, where\n",
    "  # each array contains the data for one feature.  Here, we're passing\n",
    "  # every column in the dataset. Note that the feature_layer will filter\n",
    "  # away most of those columns, leaving only the desired columns and their\n",
    "  # representations as features.\n",
    "  features = {name:np.array(value) for name, value in dataset.items()}\n",
    "  label = np.array(features.pop(label_name)) \n",
    "  history = model.fit(x=features, y=label, batch_size=batch_size,\n",
    "                      epochs=epochs, shuffle=shuffle)\n",
    "  \n",
    "  # The list of epochs is stored separately from the rest of history.\n",
    "  epochs = history.epoch\n",
    "\n",
    "  # Isolate the classification metric for each epoch.\n",
    "  hist = pd.DataFrame(history.history)\n",
    "\n",
    "  return epochs, hist  \n",
    "\n",
    "print(\"Defined the create_model and train_model functions.\")   "
   ]
  },
  {
   "cell_type": "markdown",
   "metadata": {},
   "source": [
    "## Define a plotting function\n",
    "\n",
    "The following [matplotlib](https://developers.google.com/machine-learning/glossary/#matplotlib) function plots one or more curves, showing how various classification metrics change with each epoch."
   ]
  },
  {
   "cell_type": "code",
   "execution_count": 18,
   "metadata": {},
   "outputs": [
    {
     "name": "stdout",
     "output_type": "stream",
     "text": [
      "Defined the plot_curve function.\n"
     ]
    }
   ],
   "source": [
    "#@title Define the plotting function.\n",
    "def plot_curve(epochs, hist, list_of_metrics):\n",
    "  \"\"\"Plot a curve of one or more classification metrics vs. epoch.\"\"\"  \n",
    "  # list_of_metrics should be one of the names shown in:\n",
    "  # https://www.tensorflow.org/tutorials/structured_data/imbalanced_data#define_the_model_and_metrics  \n",
    "\n",
    "  plt.figure()\n",
    "  plt.xlabel(\"Epoch\")\n",
    "  plt.ylabel(\"Value\")\n",
    "\n",
    "  for m in list_of_metrics:\n",
    "    x = hist[m]\n",
    "    plt.plot(epochs[1:], x[1:], label=m)\n",
    "\n",
    "  plt.legend()\n",
    "\n",
    "print(\"Defined the plot_curve function.\")"
   ]
  },
  {
   "cell_type": "markdown",
   "metadata": {},
   "source": [
    "## Invoke the creating, training, and plotting functions\n",
    "\n",
    "The following code cell calls specify the hyperparameters, and then invokes the \n",
    "functions to create and train the model, and then to plot the results."
   ]
  },
  {
   "cell_type": "code",
   "execution_count": 20,
   "metadata": {},
   "outputs": [
    {
     "name": "stdout",
     "output_type": "stream",
     "text": [
      "Train on 17000 samples\n",
      "Epoch 1/20\n",
      "17000/17000 [==============================] - 1s 32us/sample - loss: 0.5873 - accuracy: 0.5618\n",
      "Epoch 2/20\n",
      "17000/17000 [==============================] - 0s 11us/sample - loss: 0.5324 - accuracy: 0.6285\n",
      "Epoch 3/20\n",
      "17000/17000 [==============================] - 0s 10us/sample - loss: 0.4906 - accuracy: 0.6735\n",
      "Epoch 4/20\n",
      "17000/17000 [==============================] - 0s 12us/sample - loss: 0.4587 - accuracy: 0.7126\n",
      "Epoch 5/20\n",
      "17000/17000 [==============================] - 0s 12us/sample - loss: 0.4345 - accuracy: 0.7399\n",
      "Epoch 6/20\n",
      "17000/17000 [==============================] - 0s 12us/sample - loss: 0.4177 - accuracy: 0.7630\n",
      "Epoch 7/20\n",
      "17000/17000 [==============================] - 0s 11us/sample - loss: 0.4072 - accuracy: 0.7806\n",
      "Epoch 8/20\n",
      "17000/17000 [==============================] - 0s 13us/sample - loss: 0.4012 - accuracy: 0.7921\n",
      "Epoch 9/20\n",
      "17000/17000 [==============================] - 0s 12us/sample - loss: 0.3985 - accuracy: 0.8004\n",
      "Epoch 10/20\n",
      "17000/17000 [==============================] - 0s 12us/sample - loss: 0.3974 - accuracy: 0.8063\n",
      "Epoch 11/20\n",
      "17000/17000 [==============================] - 0s 11us/sample - loss: 0.3969 - accuracy: 0.8073\n",
      "Epoch 12/20\n",
      "17000/17000 [==============================] - 0s 12us/sample - loss: 0.3967 - accuracy: 0.8078\n",
      "Epoch 13/20\n",
      "17000/17000 [==============================] - 0s 11us/sample - loss: 0.3967 - accuracy: 0.8078\n",
      "Epoch 14/20\n",
      "17000/17000 [==============================] - 0s 12us/sample - loss: 0.3966 - accuracy: 0.8088\n",
      "Epoch 15/20\n",
      "17000/17000 [==============================] - 0s 14us/sample - loss: 0.3966 - accuracy: 0.8088\n",
      "Epoch 16/20\n",
      "17000/17000 [==============================] - 0s 12us/sample - loss: 0.3966 - accuracy: 0.8095\n",
      "Epoch 17/20\n",
      "17000/17000 [==============================] - 0s 12us/sample - loss: 0.3966 - accuracy: 0.8092\n",
      "Epoch 18/20\n",
      "17000/17000 [==============================] - 0s 10us/sample - loss: 0.3966 - accuracy: 0.8086\n",
      "Epoch 19/20\n",
      "17000/17000 [==============================] - 0s 11us/sample - loss: 0.3966 - accuracy: 0.8088\n",
      "Epoch 20/20\n",
      "17000/17000 [==============================] - 0s 10us/sample - loss: 0.3966 - accuracy: 0.8097\n"
     ]
    },
    {
     "data": {
      "image/png": "[encoded data removed]",
      "text/plain": [
       "<Figure size 432x288 with 1 Axes>"
      ]
     },
     "metadata": {
      "needs_background": "light"
     },
     "output_type": "display_data"
    }
   ],
   "source": [
    "# The following variables are the hyperparameters.\n",
    "learning_rate = 0.001\n",
    "epochs = 20\n",
    "batch_size = 100\n",
    "label_name = \"median_house_value_is_high\"\n",
    "classification_threshold = 0.35\n",
    "\n",
    "# Establish the metrics the model will measure.\n",
    "METRICS = [\n",
    "           tf.keras.metrics.BinaryAccuracy(name='accuracy', \n",
    "                                           threshold=classification_threshold),\n",
    "          ]\n",
    "\n",
    "# Establish the model's topography.\n",
    "my_model = create_model(learning_rate, feature_layer, METRICS)\n",
    "\n",
    "# Train the model on the training set.\n",
    "epochs, hist = train_model(my_model, train_df_norm, epochs, \n",
    "                           label_name, batch_size)\n",
    "\n",
    "# Plot a graph of the metric(s) vs. epochs.\n",
    "list_of_metrics_to_plot = ['accuracy'] \n",
    "\n",
    "plot_curve(epochs, hist, list_of_metrics_to_plot)"
   ]
  },
  {
   "cell_type": "markdown",
   "metadata": {},
   "source": [
    "Accuracy should gradually improve during training (until it can \n",
    "improve no more)."
   ]
  },
  {
   "cell_type": "markdown",
   "metadata": {},
   "source": [
    "## Evaluate the model against the test set\n",
    "\n",
    "At the end of model training, you ended up with a certain accuracy against the *training set*. Invoke the following code cell to determine your model's accuracy against the *test set*."
   ]
  },
  {
   "cell_type": "code",
   "execution_count": 21,
   "metadata": {},
   "outputs": [
    {
     "name": "stdout",
     "output_type": "stream",
     "text": [
      "3000/3000 [==============================] - 0s 35us/sample - loss: 0.4069 - accuracy: 0.8003\n"
     ]
    },
    {
     "data": {
      "text/plain": [
       "[0.40690016746520996, 0.8003333]"
      ]
     },
     "execution_count": 21,
     "metadata": {},
     "output_type": "execute_result"
    }
   ],
   "source": [
    "features = {name:np.array(value) for name, value in test_df_norm.items()}\n",
    "label = np.array(features.pop(label_name))\n",
    "\n",
    "my_model.evaluate(x = features, y = label, batch_size=batch_size)"
   ]
  },
  {
   "cell_type": "markdown",
   "metadata": {},
   "source": [
    "## Task 2: How accurate is your model really?\n",
    "\n",
    "Is your model valuable?"
   ]
  },
  {
   "cell_type": "code",
   "execution_count": 23,
   "metadata": {},
   "outputs": [],
   "source": [
    "# A perfect model would make 100% accurate predictions.\n",
    "# Our model makes 80% accurate predictions. 80% sounds\n",
    "# good, but note that a model that always guesses \n",
    "# \"median_house_value_is_high is False\" would be 75% \n",
    "# accurate. "
   ]
  },
  {
   "cell_type": "markdown",
   "metadata": {},
   "source": [
    "## Task 3: Add precision and recall as metrics\n",
    "\n",
    "Relying solely on accuracy, particularly for a class-imbalanced data set (like ours), can be a poor way to judge a classification model.  Modify the code in the following code cell to enable the model to measure not only accuracy but also precision and recall. We have\n",
    "added accuracy and precision; your task is to add recall. See the [TensorFlow Reference](https://www.tensorflow.org/api_docs/python/tf/keras/metrics/Recall) for details."
   ]
  },
  {
   "cell_type": "code",
   "execution_count": 25,
   "metadata": {},
   "outputs": [
    {
     "name": "stdout",
     "output_type": "stream",
     "text": [
      "Train on 17000 samples\n",
      "Epoch 1/20\n",
      "17000/17000 [==============================] - 1s 51us/sample - loss: 0.6110 - accuracy: 0.2614 - precision: 0.2523 - recall: 0.9965\n",
      "Epoch 2/20\n",
      "17000/17000 [==============================] - 0s 12us/sample - loss: 0.5494 - accuracy: 0.4504 - precision: 0.3078 - recall: 0.9611\n",
      "Epoch 3/20\n",
      "17000/17000 [==============================] - 0s 11us/sample - loss: 0.5031 - accuracy: 0.6297 - precision: 0.3925 - recall: 0.8809\n",
      "Epoch 4/20\n",
      "17000/17000 [==============================] - 0s 11us/sample - loss: 0.4680 - accuracy: 0.7092 - precision: 0.4535 - recall: 0.79840s - loss: 0.4814 - accuracy: 0.6834 - precision: 0.4300 - recall: 0.8\n",
      "Epoch 5/20\n",
      "17000/17000 [==============================] - 0s 10us/sample - loss: 0.4421 - accuracy: 0.7511 - precision: 0.5012 - recall: 0.7344\n",
      "Epoch 6/20\n",
      "17000/17000 [==============================] - 0s 11us/sample - loss: 0.4240 - accuracy: 0.7764 - precision: 0.5409 - recall: 0.6941\n",
      "Epoch 7/20\n",
      "17000/17000 [==============================] - 0s 11us/sample - loss: 0.4118 - accuracy: 0.7894 - precision: 0.5667 - recall: 0.6661\n",
      "Epoch 8/20\n",
      "17000/17000 [==============================] - 0s 11us/sample - loss: 0.4046 - accuracy: 0.8001 - precision: 0.5916 - recall: 0.6456\n",
      "Epoch 9/20\n",
      "17000/17000 [==============================] - 0s 13us/sample - loss: 0.4007 - accuracy: 0.8048 - precision: 0.6050 - recall: 0.6296\n",
      "Epoch 10/20\n",
      "17000/17000 [==============================] - 0s 13us/sample - loss: 0.3988 - accuracy: 0.8054 - precision: 0.6078 - recall: 0.6235\n",
      "Epoch 11/20\n",
      "17000/17000 [==============================] - 0s 13us/sample - loss: 0.3977 - accuracy: 0.8069 - precision: 0.6125 - recall: 0.6183\n",
      "Epoch 12/20\n",
      "17000/17000 [==============================] - 0s 12us/sample - loss: 0.3972 - accuracy: 0.8079 - precision: 0.6154 - recall: 0.6164\n",
      "Epoch 13/20\n",
      "17000/17000 [==============================] - 0s 12us/sample - loss: 0.3969 - accuracy: 0.8085 - precision: 0.6168 - recall: 0.6160\n",
      "Epoch 14/20\n",
      "17000/17000 [==============================] - 0s 11us/sample - loss: 0.3968 - accuracy: 0.8083 - precision: 0.6164 - recall: 0.6160\n",
      "Epoch 15/20\n",
      "17000/17000 [==============================] - 0s 13us/sample - loss: 0.3967 - accuracy: 0.8095 - precision: 0.6198 - recall: 0.6141\n",
      "Epoch 16/20\n",
      "17000/17000 [==============================] - 0s 13us/sample - loss: 0.3967 - accuracy: 0.8088 - precision: 0.6177 - recall: 0.6153\n",
      "Epoch 17/20\n",
      "17000/17000 [==============================] - 0s 17us/sample - loss: 0.3966 - accuracy: 0.8096 - precision: 0.6202 - recall: 0.6143\n",
      "Epoch 18/20\n",
      "17000/17000 [==============================] - 0s 12us/sample - loss: 0.3966 - accuracy: 0.8095 - precision: 0.6201 - recall: 0.6129\n",
      "Epoch 19/20\n",
      "17000/17000 [==============================] - 0s 12us/sample - loss: 0.3966 - accuracy: 0.8083 - precision: 0.6167 - recall: 0.6148\n",
      "Epoch 20/20\n",
      "17000/17000 [==============================] - 0s 12us/sample - loss: 0.3966 - accuracy: 0.8096 - precision: 0.6203 - recall: 0.6138\n"
     ]
    },
    {
     "data": {
      "image/png": "[encoded data removed]",
      "text/plain": [
       "<Figure size 432x288 with 1 Axes>"
      ]
     },
     "metadata": {
      "needs_background": "light"
     },
     "output_type": "display_data"
    }
   ],
   "source": [
    "# The following variables are the hyperparameters.\n",
    "learning_rate = 0.001\n",
    "epochs = 20\n",
    "batch_size = 100\n",
    "classification_threshold = 0.35\n",
    "label_name = \"median_house_value_is_high\"\n",
    "\n",
    "# Here is the updated definition of METRICS:\n",
    "METRICS = [\n",
    "      tf.keras.metrics.BinaryAccuracy(name='accuracy', \n",
    "                                      threshold=classification_threshold),\n",
    "      tf.keras.metrics.Precision(thresholds=classification_threshold,\n",
    "                                 name='precision' \n",
    "                                 ),\n",
    "      tf.keras.metrics.Recall(thresholds=classification_threshold,\n",
    "                              name=\"recall\"),\n",
    "]\n",
    "\n",
    "# Establish the model's topography.\n",
    "my_model = create_model(learning_rate, feature_layer, METRICS)\n",
    "\n",
    "# Train the model on the training set.\n",
    "epochs, hist = train_model(my_model, train_df_norm, epochs, \n",
    "                           label_name, batch_size)\n",
    "\n",
    "# Plot metrics vs. epochs\n",
    "list_of_metrics_to_plot = ['accuracy', \"precision\", \"recall\"] \n",
    "plot_curve(epochs, hist, list_of_metrics_to_plot)\n",
    "\n",
    "\n",
    "# The new graphs suggest that precision and recall are \n",
    "# somewhat in conflict. That is, improvements to one of\n",
    "# those metrics may hurt the other metric."
   ]
  },
  {
   "cell_type": "markdown",
   "metadata": {},
   "source": [
    "## Task 4: Experiment with the classification threshold (if time permits)\n",
    "\n",
    "Experiment with different values for `classification_threshold` in the code cell within \"Invoke the creating, training, and plotting functions.\"  What value of `classification_threshold` produces the highest accuracy?"
   ]
  },
  {
   "cell_type": "code",
   "execution_count": 26,
   "metadata": {
    "scrolled": true
   },
   "outputs": [
    {
     "name": "stdout",
     "output_type": "stream",
     "text": [
      "Train on 17000 samples\n",
      "Epoch 1/20\n",
      "17000/17000 [==============================] - 1s 49us/sample - loss: 0.8850 - accuracy: 0.5118 - precision: 0.1631 - recall: 0.2310\n",
      "Epoch 2/20\n",
      "17000/17000 [==============================] - 0s 13us/sample - loss: 0.7900 - accuracy: 0.6070 - precision: 0.1910 - recall: 0.1771\n",
      "Epoch 3/20\n",
      "17000/17000 [==============================] - 0s 12us/sample - loss: 0.7063 - accuracy: 0.6781 - precision: 0.2374 - recall: 0.1304\n",
      "Epoch 4/20\n",
      "17000/17000 [==============================] - 0s 11us/sample - loss: 0.6352 - accuracy: 0.7128 - precision: 0.2815 - recall: 0.0963\n",
      "Epoch 5/20\n",
      "17000/17000 [==============================] - 0s 12us/sample - loss: 0.5760 - accuracy: 0.7324 - precision: 0.3355 - recall: 0.0725\n",
      "Epoch 6/20\n",
      "17000/17000 [==============================] - 0s 11us/sample - loss: 0.5286 - accuracy: 0.7488 - precision: 0.4817 - recall: 0.0744\n",
      "Epoch 7/20\n",
      "17000/17000 [==============================] - 0s 12us/sample - loss: 0.4929 - accuracy: 0.7673 - precision: 0.7181 - recall: 0.1128\n",
      "Epoch 8/20\n",
      "17000/17000 [==============================] - 0s 11us/sample - loss: 0.4658 - accuracy: 0.7824 - precision: 0.8434 - recall: 0.1585\n",
      "Epoch 9/20\n",
      "17000/17000 [==============================] - 0s 11us/sample - loss: 0.4455 - accuracy: 0.7999 - precision: 0.8991 - recall: 0.2244\n",
      "Epoch 10/20\n",
      "17000/17000 [==============================] - 0s 11us/sample - loss: 0.4299 - accuracy: 0.8139 - precision: 0.9032 - recall: 0.2856\n",
      "Epoch 11/20\n",
      "17000/17000 [==============================] - 0s 12us/sample - loss: 0.4184 - accuracy: 0.8257 - precision: 0.8968 - recall: 0.3417\n",
      "Epoch 12/20\n",
      "17000/17000 [==============================] - 0s 11us/sample - loss: 0.4101 - accuracy: 0.8314 - precision: 0.8682 - recall: 0.3831\n",
      "Epoch 13/20\n",
      "17000/17000 [==============================] - 0s 11us/sample - loss: 0.4043 - accuracy: 0.8331 - precision: 0.8360 - recall: 0.4128\n",
      "Epoch 14/20\n",
      "17000/17000 [==============================] - 0s 11us/sample - loss: 0.4008 - accuracy: 0.8349 - precision: 0.8214 - recall: 0.4332\n",
      "Epoch 15/20\n",
      "17000/17000 [==============================] - 0s 11us/sample - loss: 0.3988 - accuracy: 0.8360 - precision: 0.8092 - recall: 0.4495\n",
      "Epoch 16/20\n",
      "17000/17000 [==============================] - 0s 12us/sample - loss: 0.3977 - accuracy: 0.8357 - precision: 0.8014 - recall: 0.4551\n",
      "Epoch 17/20\n",
      "17000/17000 [==============================] - 0s 12us/sample - loss: 0.3972 - accuracy: 0.8361 - precision: 0.7959 - recall: 0.4627\n",
      "Epoch 18/20\n",
      "17000/17000 [==============================] - 0s 12us/sample - loss: 0.3969 - accuracy: 0.8369 - precision: 0.7955 - recall: 0.4672\n",
      "Epoch 19/20\n",
      "17000/17000 [==============================] - ETA: 0s - loss: 0.3985 - accuracy: 0.8354 - precision: 0.7881 - recall: 0.464 - 0s 11us/sample - loss: 0.3968 - accuracy: 0.8369 - precision: 0.7943 - recall: 0.4683\n",
      "Epoch 20/20\n",
      "17000/17000 [==============================] - 0s 11us/sample - loss: 0.3967 - accuracy: 0.8365 - precision: 0.7908 - recall: 0.4700\n"
     ]
    },
    {
     "data": {
      "image/png": "[encoded data removed]",
      "text/plain": [
       "<Figure size 432x288 with 1 Axes>"
      ]
     },
     "metadata": {
      "needs_background": "light"
     },
     "output_type": "display_data"
    }
   ],
   "source": [
    "# The following variables are the hyperparameters.\n",
    "learning_rate = 0.001\n",
    "epochs = 20\n",
    "batch_size = 100\n",
    "classification_threshold = 0.52\n",
    "label_name = \"median_house_value_is_high\"\n",
    "\n",
    "# Here is the updated definition of METRICS:\n",
    "METRICS = [\n",
    "      tf.keras.metrics.BinaryAccuracy(name='accuracy', \n",
    "                                      threshold=classification_threshold),\n",
    "      tf.keras.metrics.Precision(thresholds=classification_threshold,\n",
    "                                 name='precision' \n",
    "                                 ),\n",
    "      tf.keras.metrics.Recall(thresholds=classification_threshold,\n",
    "                              name=\"recall\"),\n",
    "]\n",
    "\n",
    "# Establish the model's topography.\n",
    "my_model = create_model(learning_rate, feature_layer, METRICS)\n",
    "\n",
    "# Train the model on the training set.\n",
    "epochs, hist = train_model(my_model, train_df_norm, epochs, \n",
    "                           label_name, batch_size)\n",
    "\n",
    "# Plot metrics vs. epochs\n",
    "list_of_metrics_to_plot = ['accuracy', \"precision\", \"recall\"] \n",
    "plot_curve(epochs, hist, list_of_metrics_to_plot)\n",
    "\n",
    "# A `classification_threshold` of slightly over 0.5\n",
    "# appears to produce the highest accuracy (about 83%).\n",
    "# Raising the `classification_threshold` to 0.9 drops \n",
    "# accuracy by about 5%.  Lowering the \n",
    "# `classification_threshold` to 0.3 drops accuracy by \n",
    "# about 3%. "
   ]
  },
  {
   "cell_type": "markdown",
   "metadata": {},
   "source": [
    "## Task 5: Summarize model performance (if time permits)\n",
    "\n",
    "If time permits, add one more metric that attempts to summarize the model's overall performance. "
   ]
  },
  {
   "cell_type": "code",
   "execution_count": 27,
   "metadata": {},
   "outputs": [
    {
     "name": "stdout",
     "output_type": "stream",
     "text": [
      "Train on 17000 samples\n",
      "Epoch 1/20\n",
      "17000/17000 [==============================] - 1s 41us/sample - loss: 1.0221 - auc: 0.2261\n",
      "Epoch 2/20\n",
      "17000/17000 [==============================] - 0s 12us/sample - loss: 0.9194 - auc: 0.2318\n",
      "Epoch 3/20\n",
      "17000/17000 [==============================] - 0s 12us/sample - loss: 0.8272 - auc: 0.2398\n",
      "Epoch 4/20\n",
      "17000/17000 [==============================] - 0s 11us/sample - loss: 0.7469 - auc: 0.2543\n",
      "Epoch 5/20\n",
      "17000/17000 [==============================] - 0s 12us/sample - loss: 0.6782 - auc: 0.2794\n",
      "Epoch 6/20\n",
      "17000/17000 [==============================] - 0s 12us/sample - loss: 0.6213 - auc: 0.3358\n",
      "Epoch 7/20\n",
      "17000/17000 [==============================] - 0s 11us/sample - loss: 0.5743 - auc: 0.4962\n",
      "Epoch 8/20\n",
      "17000/17000 [==============================] - 0s 12us/sample - loss: 0.5348 - auc: 0.7285\n",
      "Epoch 9/20\n",
      "17000/17000 [==============================] - 0s 14us/sample - loss: 0.5027 - auc: 0.7996\n",
      "Epoch 10/20\n",
      "17000/17000 [==============================] - 0s 13us/sample - loss: 0.4757 - auc: 0.8201\n",
      "Epoch 11/20\n",
      "17000/17000 [==============================] - 0s 13us/sample - loss: 0.4539 - auc: 0.8289\n",
      "Epoch 12/20\n",
      "17000/17000 [==============================] - 0s 12us/sample - loss: 0.4370 - auc: 0.8325\n",
      "Epoch 13/20\n",
      "17000/17000 [==============================] - 0s 12us/sample - loss: 0.4236 - auc: 0.8344\n",
      "Epoch 14/20\n",
      "17000/17000 [==============================] - 0s 12us/sample - loss: 0.4141 - auc: 0.8352\n",
      "Epoch 15/20\n",
      "17000/17000 [==============================] - 0s 11us/sample - loss: 0.4073 - auc: 0.8359\n",
      "Epoch 16/20\n",
      "17000/17000 [==============================] - 0s 11us/sample - loss: 0.4026 - auc: 0.8364\n",
      "Epoch 17/20\n",
      "17000/17000 [==============================] - 0s 11us/sample - loss: 0.3998 - auc: 0.8367\n",
      "Epoch 18/20\n",
      "17000/17000 [==============================] - 0s 13us/sample - loss: 0.3983 - auc: 0.8366\n",
      "Epoch 19/20\n",
      "17000/17000 [==============================] - 0s 12us/sample - loss: 0.3975 - auc: 0.8370\n",
      "Epoch 20/20\n",
      "17000/17000 [==============================] - 0s 13us/sample - loss: 0.3970 - auc: 0.8368\n"
     ]
    },
    {
     "data": {
      "image/png": "[encoded data removed]",
      "text/plain": [
       "<Figure size 432x288 with 1 Axes>"
      ]
     },
     "metadata": {
      "needs_background": "light"
     },
     "output_type": "display_data"
    }
   ],
   "source": [
    "# The following variables are the hyperparameters.\n",
    "learning_rate = 0.001\n",
    "epochs = 20\n",
    "batch_size = 100\n",
    "label_name = \"median_house_value_is_high\"\n",
    "\n",
    "# AUC is a reasonable \"summary\" metric for \n",
    "# classification models.\n",
    "# Here is the updated definition of METRICS to \n",
    "# measure AUC:\n",
    "METRICS = [\n",
    "      tf.keras.metrics.AUC(num_thresholds=100, name='auc'),\n",
    "]\n",
    "\n",
    "# Establish the model's topography.\n",
    "my_model = create_model(learning_rate, feature_layer, METRICS)\n",
    "\n",
    "# Train the model on the training set.\n",
    "epochs, hist = train_model(my_model, train_df_norm, epochs, \n",
    "                           label_name, batch_size)\n",
    "\n",
    "# Plot metrics vs. epochs\n",
    "list_of_metrics_to_plot = ['auc'] \n",
    "plot_curve(epochs, hist, list_of_metrics_to_plot)"
   ]
  }
 ],
 "metadata": {
  "kernelspec": {
   "display_name": "Python 3",
   "language": "python",
   "name": "python3"
  },
  "language_info": {
   "codemirror_mode": {
    "name": "ipython",
    "version": 3
   },
   "file_extension": ".py",
   "mimetype": "text/x-python",
   "name": "python",
   "nbconvert_exporter": "python",
   "pygments_lexer": "ipython3",
   "version": "3.7.7"
  }
 },
 "nbformat": 4,
 "nbformat_minor": 4
}

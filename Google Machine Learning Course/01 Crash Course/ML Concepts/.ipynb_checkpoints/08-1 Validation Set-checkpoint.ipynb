{
 "cells": [
  {
   "cell_type": "markdown",
   "metadata": {},
   "source": [
    "### [Validation Set](https://developers.google.com/machine-learning/crash-course/validation/another-partition?hl=en)\n",
    "\n",
    "The previous module(Traing and Test) introduced partitioning a data set into a training set and a test set.\n",
    "![](img/08-1.png)"
   ]
  },
  {
   "cell_type": "markdown",
   "metadata": {},
   "source": [
    "In the figure, \"Tweak model\" means adjusting anything about the model you can dream up—from changing the learning rate, to adding or removing features, to designing a completely new model from scratch. At the end of this workflow, you pick the model that does best on the test set.\n",
    "\n",
    "Dividing the data set into two sets is a good idea, but not a panacea. You can greatly reduce your chances of overfitting by partitioning the data set into the three subsets shown in the following figure:\n",
    "\n",
    "A horizontal bar divided into three pieces: 70% of which is the training set, 15% the validation set, and 15% the test set\n",
    "![](img/08-2.png)\n",
    "\n",
    "Use the **validation set** to evaluate results from the training set. Then, use the test set to double-check your evaluation after the model has \"passed\" the validation set. The following figure shows this new workflow:"
   ]
  },
  {
   "cell_type": "markdown",
   "metadata": {},
   "source": [
    "![](img/08-3.png)"
   ]
  },
  {
   "cell_type": "markdown",
   "metadata": {},
   "source": [
    "### Figure 3. A better workflow.\n",
    "\n",
    "In this improved workflow:\n",
    "\n",
    "1. Pick the model that does best on the validation set.\n",
    "2. Double-check that model against the test set.\n",
    "\n",
    "This is a better workflow because it creates fewer exposures to the test set."
   ]
  }
 ],
 "metadata": {
  "kernelspec": {
   "display_name": "Python 3",
   "language": "python",
   "name": "python3"
  },
  "language_info": {
   "codemirror_mode": {
    "name": "ipython",
    "version": 3
   },
   "file_extension": ".py",
   "mimetype": "text/x-python",
   "name": "python",
   "nbconvert_exporter": "python",
   "pygments_lexer": "ipython3",
   "version": "3.7.7"
  }
 },
 "nbformat": 4,
 "nbformat_minor": 4
}

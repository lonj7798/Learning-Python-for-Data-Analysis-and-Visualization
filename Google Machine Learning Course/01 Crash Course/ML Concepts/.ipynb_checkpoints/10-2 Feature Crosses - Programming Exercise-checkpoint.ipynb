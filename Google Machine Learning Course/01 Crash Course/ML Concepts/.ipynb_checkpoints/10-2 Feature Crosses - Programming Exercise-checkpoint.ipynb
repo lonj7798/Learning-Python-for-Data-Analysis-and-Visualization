{
 "cells": [
  {
   "cell_type": "code",
   "execution_count": 1,
   "metadata": {},
   "outputs": [],
   "source": [
    "#@title Copyright 2020 Google LLC. Double-click for license information.\n",
    "# Licensed under the Apache License, Version 2.0 (the \"License\");\n",
    "# you may not use this file except in compliance with the License.\n",
    "# You may obtain a copy of the License at\n",
    "#\n",
    "# https://www.apache.org/licenses/LICENSE-2.0\n",
    "#\n",
    "# Unless required by applicable law or agreed to in writing, software\n",
    "# distributed under the License is distributed on an \"AS IS\" BASIS,\n",
    "# WITHOUT WARRANTIES OR CONDITIONS OF ANY KIND, either express or implied.\n",
    "# See the License for the specific language governing permissions and\n",
    "# limitations under the License."
   ]
  },
  {
   "cell_type": "markdown",
   "metadata": {},
   "source": [
    "# Representation with a Feature Cross\n",
    "\n",
    "In this exercise, you'll experiment with different ways to represent features."
   ]
  },
  {
   "cell_type": "markdown",
   "metadata": {},
   "source": [
    "## Learning Objectives:\n",
    "\n",
    "After doing this Colab, you'll know how to:\n",
    "\n",
    "  * Use [`tf.feature_column`](https://www.tensorflow.org/api_docs/python/tf/feature_column) methods to represent features in different ways.\n",
    "  * Represent features as [bins](https://developers.google.com/machine-learning/glossary/#bucketing). \n",
    "  * Cross bins to create a [feature cross](https://developers.google.com/machine-learning/glossary/#feature_cross). "
   ]
  },
  {
   "cell_type": "markdown",
   "metadata": {},
   "source": [
    "## The Dataset\n",
    "  \n",
    "Like several of the previous Colabs, this exercise uses the [California Housing Dataset](https://developers.google.com/machine-learning/crash-course/california-housing-data-description)."
   ]
  },
  {
   "cell_type": "markdown",
   "metadata": {},
   "source": [
    "## Use the right version of TensorFlow"
   ]
  },
  {
   "cell_type": "code",
   "execution_count": 2,
   "metadata": {},
   "outputs": [
    {
     "name": "stderr",
     "output_type": "stream",
     "text": [
      "UsageError: Line magic function `%tensorflow_version` not found.\n"
     ]
    }
   ],
   "source": [
    "%tensorflow_version 2.x"
   ]
  },
  {
   "cell_type": "markdown",
   "metadata": {},
   "source": [
    "## Call the import statements\n",
    "\n",
    "The following code imports the necessary code to run the code in the rest of this Colaboratory."
   ]
  },
  {
   "cell_type": "code",
   "execution_count": 3,
   "metadata": {},
   "outputs": [
    {
     "name": "stdout",
     "output_type": "stream",
     "text": [
      "Imported the modules.\n"
     ]
    }
   ],
   "source": [
    "#@title Load the imports\n",
    "\n",
    "# from __future__ import absolute_import, division, print_function, unicode_literals\n",
    "\n",
    "import numpy as np\n",
    "import pandas as pd\n",
    "import tensorflow as tf\n",
    "from tensorflow import feature_column\n",
    "from tensorflow.keras import layers\n",
    "\n",
    "from matplotlib import pyplot as plt\n",
    "\n",
    "# The following lines adjust the granularity of reporting.\n",
    "pd.options.display.max_rows = 10\n",
    "pd.options.display.float_format = \"{:.1f}\".format\n",
    "\n",
    "tf.keras.backend.set_floatx('float32')\n",
    "\n",
    "print(\"Imported the modules.\")"
   ]
  },
  {
   "cell_type": "markdown",
   "metadata": {},
   "source": [
    "## Load, scale, and shuffle the examples\n",
    "\n",
    "The following code cell loads the separate .csv files and creates the following two pandas DataFrames:\n",
    "\n",
    "* `train_df`, which contains the training set\n",
    "* `test_df`, which contains the test set\n",
    "\n",
    "The code cell then scales the `median_house_value` to a more human-friendly range and then suffles the examples."
   ]
  },
  {
   "cell_type": "code",
   "execution_count": 4,
   "metadata": {},
   "outputs": [],
   "source": [
    "# Load the dataset\n",
    "train_df = pd.read_csv(\"https://download.mlcc.google.com/mledu-datasets/california_housing_train.csv\")\n",
    "test_df = pd.read_csv(\"https://download.mlcc.google.com/mledu-datasets/california_housing_test.csv\")\n",
    "\n",
    "# Scale the labels\n",
    "scale_factor = 1000.0\n",
    "# Scale the training set's label.\n",
    "train_df[\"median_house_value\"] /= scale_factor \n",
    "\n",
    "# Scale the test set's label\n",
    "test_df[\"median_house_value\"] /= scale_factor\n",
    "\n",
    "# Shuffle the examples\n",
    "train_df = train_df.reindex(np.random.permutation(train_df.index))"
   ]
  },
  {
   "cell_type": "markdown",
   "metadata": {},
   "source": [
    "## Represent latitude and longitude as floating-point values\n",
    "\n",
    "Previous Colabs trained on only a single feature or a single synthetic feature. By contrast, this exercise trains on two features. Furthermore, this Colab introduces **feature columns**, which provide a sophisticated way to represent features.  \n",
    "\n",
    "You create feature columns as possible:\n",
    "\n",
    "  * Call a [`tf.feature_column`](https://www.tensorflow.org/api_docs/python/tf/feature_column) method to represent a single feature, single feature cross, or single synthetic feature in the desired way.  For example, to represent a certain feature as floating-point values, call [`tf.feature_column.numeric_column`](https://www.tensorflow.org/api_docs/python/tf/feature_column/numeric_column). To represent a certain feature as a series of buckets or bins, call [`tf.feature_column.bucketized_column`](https://www.tensorflow.org/api_docs/python/tf/feature_column/bucketized_column).\n",
    "  * Assemble the created representations into a Python list. \n",
    "\n",
    "A neighborhood's location is typically the most important feature in determining a house's value. The California Housing dataset provides two features, `latitude` and `longitude` that identify each neighborhood's location. \n",
    "\n",
    "The following code cell calls [`tf.feature_column.numeric_column`](https://www.tensorflow.org/api_docs/python/tf/feature_column/numeric_column) twice, first to represent `latitude` as floating-point value and a second time to represent `longitude` as floating-point values. \n",
    "\n",
    "This code cell specifies the features that you'll ultimately train the model on and how each of those features will be represented. The transformations (collected in `fp_feature_layer`) don't actually get applied until you pass a DataFrame to it, which will happen when we train the model. \n"
   ]
  },
  {
   "cell_type": "code",
   "execution_count": 5,
   "metadata": {},
   "outputs": [],
   "source": [
    "# Create an empty list that will eventually hold all feature columns.\n",
    "feature_columns = []\n",
    "\n",
    "# Create a numerical feature column to represent latitude.\n",
    "latitude = tf.feature_column.numeric_column(\"latitude\")\n",
    "feature_columns.append(latitude)\n",
    "\n",
    "# Create a numerical feature column to represent longitude.\n",
    "longitude = tf.feature_column.numeric_column(\"longitude\")\n",
    "feature_columns.append(longitude)\n",
    "\n",
    "# Convert the list of feature columns into a layer that will ultimately become\n",
    "# part of the model. Understanding layers is not important right now.\n",
    "fp_feature_layer = layers.DenseFeatures(feature_columns)"
   ]
  },
  {
   "cell_type": "markdown",
   "metadata": {},
   "source": [
    "When used, the layer processes the raw inputs, according to the transformations described by the feature columns, and packs the result into a numeric array.  (The model will train on this numeric array.) "
   ]
  },
  {
   "cell_type": "markdown",
   "metadata": {},
   "source": [
    "## Define functions that create and train a model, and a plotting function\n",
    "\n",
    "The following code defines three functions:\n",
    "\n",
    "  * `create_model`, which tells TensorFlow to build a linear regression model and to use the `feature_layer_as_fp` as the representation of the model's features.\n",
    "  * `train_model`, which will ultimately train the model from training set examples.\n",
    "  * `plot_the_loss_curve`, which generates a loss curve."
   ]
  },
  {
   "cell_type": "code",
   "execution_count": 6,
   "metadata": {},
   "outputs": [
    {
     "name": "stdout",
     "output_type": "stream",
     "text": [
      "Defined the create_model, train_model, and plot_the_loss_curve functions.\n"
     ]
    }
   ],
   "source": [
    "#@title Define functions to create and train a model, and a plotting function\n",
    "def create_model(my_learning_rate, feature_layer):\n",
    "  \"\"\"Create and compile a simple linear regression model.\"\"\"\n",
    "  # Most simple tf.keras models are sequential.\n",
    "  model = tf.keras.models.Sequential()\n",
    "\n",
    "  # Add the layer containing the feature columns to the model.\n",
    "  model.add(feature_layer)\n",
    "\n",
    "  # Add one linear layer to the model to yield a simple linear regressor.\n",
    "  model.add(tf.keras.layers.Dense(units=1, input_shape=(1,)))\n",
    "\n",
    "  # Construct the layers into a model that TensorFlow can execute.\n",
    "  model.compile(optimizer=tf.keras.optimizers.RMSprop(lr=my_learning_rate),\n",
    "                loss=\"mean_squared_error\",\n",
    "                metrics=[tf.keras.metrics.RootMeanSquaredError()])\n",
    "\n",
    "  return model           \n",
    "\n",
    "\n",
    "def train_model(model, dataset, epochs, batch_size, label_name):\n",
    "  \"\"\"Feed a dataset into the model in order to train it.\"\"\"\n",
    "\n",
    "  features = {name:np.array(value) for name, value in dataset.items()}\n",
    "  label = np.array(features.pop(label_name))\n",
    "  history = model.fit(x=features, y=label, batch_size=batch_size,\n",
    "                      epochs=epochs, shuffle=True)\n",
    "\n",
    "  # The list of epochs is stored separately from the rest of history.\n",
    "  epochs = history.epoch\n",
    "  \n",
    "  # Isolate the mean absolute error for each epoch.\n",
    "  hist = pd.DataFrame(history.history)\n",
    "  rmse = hist[\"root_mean_squared_error\"]\n",
    "\n",
    "  return epochs, rmse   \n",
    "\n",
    "\n",
    "def plot_the_loss_curve(epochs, rmse):\n",
    "  \"\"\"Plot a curve of loss vs. epoch.\"\"\"\n",
    "\n",
    "  plt.figure()\n",
    "  plt.xlabel(\"Epoch\")\n",
    "  plt.ylabel(\"Root Mean Squared Error\")\n",
    "\n",
    "  plt.plot(epochs, rmse, label=\"Loss\")\n",
    "  plt.legend()\n",
    "  plt.ylim([rmse.min()*0.94, rmse.max()* 1.05])\n",
    "  plt.show()  \n",
    "\n",
    "print(\"Defined the create_model, train_model, and plot_the_loss_curve functions.\")"
   ]
  },
  {
   "cell_type": "markdown",
   "metadata": {},
   "source": [
    "## Train the model with floating-point representations\n",
    "\n",
    "The following code cell calls the functions you just created to train, plot, and evaluate a model."
   ]
  },
  {
   "cell_type": "code",
   "execution_count": 7,
   "metadata": {},
   "outputs": [
    {
     "name": "stdout",
     "output_type": "stream",
     "text": [
      "Train on 17000 samples\n",
      "Epoch 1/30\n",
      "17000/17000 [==============================] - 0s 26us/sample - loss: 24176.3499 - root_mean_squared_error: 155.4874\n",
      "Epoch 2/30\n",
      "17000/17000 [==============================] - 0s 11us/sample - loss: 13621.7946 - root_mean_squared_error: 116.7124\n",
      "Epoch 3/30\n",
      "17000/17000 [==============================] - 0s 10us/sample - loss: 13573.6753 - root_mean_squared_error: 116.5061\n",
      "Epoch 4/30\n",
      "17000/17000 [==============================] - 0s 11us/sample - loss: 13523.6104 - root_mean_squared_error: 116.2911\n",
      "Epoch 5/30\n",
      "17000/17000 [==============================] - 0s 10us/sample - loss: 13451.3319 - root_mean_squared_error: 115.9799\n",
      "Epoch 6/30\n",
      "17000/17000 [==============================] - 0s 11us/sample - loss: 13422.1222 - root_mean_squared_error: 115.8539\n",
      "Epoch 7/30\n",
      "17000/17000 [==============================] - 0s 11us/sample - loss: 13374.0128 - root_mean_squared_error: 115.6461\n",
      "Epoch 8/30\n",
      "17000/17000 [==============================] - 0s 11us/sample - loss: 13347.0305 - root_mean_squared_error: 115.5294\n",
      "Epoch 9/30\n",
      "17000/17000 [==============================] - 0s 10us/sample - loss: 13282.1749 - root_mean_squared_error: 115.2483\n",
      "Epoch 10/30\n",
      "17000/17000 [==============================] - 0s 11us/sample - loss: 13246.5712 - root_mean_squared_error: 115.0937\n",
      "Epoch 11/30\n",
      "17000/17000 [==============================] - 0s 11us/sample - loss: 13213.1102 - root_mean_squared_error: 114.9483\n",
      "Epoch 12/30\n",
      "17000/17000 [==============================] - 0s 12us/sample - loss: 13193.9921 - root_mean_squared_error: 114.8651\n",
      "Epoch 13/30\n",
      "17000/17000 [==============================] - 0s 11us/sample - loss: 13156.3027 - root_mean_squared_error: 114.7009\n",
      "Epoch 14/30\n",
      "17000/17000 [==============================] - 0s 11us/sample - loss: 13132.9671 - root_mean_squared_error: 114.59920s - loss: 13192.9529 - root_mean_squared_error: 114.8\n",
      "Epoch 15/30\n",
      "17000/17000 [==============================] - 0s 10us/sample - loss: 13088.1838 - root_mean_squared_error: 114.4036\n",
      "Epoch 16/30\n",
      "17000/17000 [==============================] - 0s 11us/sample - loss: 13069.6207 - root_mean_squared_error: 114.3224\n",
      "Epoch 17/30\n",
      "17000/17000 [==============================] - 0s 11us/sample - loss: 13064.7183 - root_mean_squared_error: 114.3010\n",
      "Epoch 18/30\n",
      "17000/17000 [==============================] - 0s 11us/sample - loss: 13023.4557 - root_mean_squared_error: 114.1203\n",
      "Epoch 19/30\n",
      "17000/17000 [==============================] - 0s 10us/sample - loss: 13008.7079 - root_mean_squared_error: 114.0557\n",
      "Epoch 20/30\n",
      "17000/17000 [==============================] - 0s 12us/sample - loss: 12990.3303 - root_mean_squared_error: 113.9751\n",
      "Epoch 21/30\n",
      "17000/17000 [==============================] - 0s 10us/sample - loss: 12968.2758 - root_mean_squared_error: 113.8783\n",
      "Epoch 22/30\n",
      "17000/17000 [==============================] - 0s 11us/sample - loss: 12952.9222 - root_mean_squared_error: 113.8109\n",
      "Epoch 23/30\n",
      "17000/17000 [==============================] - 0s 11us/sample - loss: 12938.9206 - root_mean_squared_error: 113.7494\n",
      "Epoch 24/30\n",
      "17000/17000 [==============================] - 0s 11us/sample - loss: 12929.7219 - root_mean_squared_error: 113.7090\n",
      "Epoch 25/30\n",
      "17000/17000 [==============================] - 0s 11us/sample - loss: 12920.7527 - root_mean_squared_error: 113.6695\n",
      "Epoch 26/30\n",
      "17000/17000 [==============================] - 0s 12us/sample - loss: 12890.3988 - root_mean_squared_error: 113.5359\n",
      "Epoch 27/30\n",
      "17000/17000 [==============================] - 0s 11us/sample - loss: 12903.0271 - root_mean_squared_error: 113.5915\n",
      "Epoch 28/30\n",
      "17000/17000 [==============================] - 0s 11us/sample - loss: 12866.3584 - root_mean_squared_error: 113.4300\n",
      "Epoch 29/30\n",
      "17000/17000 [==============================] - 0s 12us/sample - loss: 12871.7861 - root_mean_squared_error: 113.4539\n",
      "Epoch 30/30\n",
      "17000/17000 [==============================] - 0s 11us/sample - loss: 12855.1140 - root_mean_squared_error: 113.3804\n"
     ]
    },
    {
     "data": {
      "image/png": "[encoded data removed]",
      "text/plain": [
       "<Figure size 432x288 with 1 Axes>"
      ]
     },
     "metadata": {
      "needs_background": "light"
     },
     "output_type": "display_data"
    },
    {
     "name": "stdout",
     "output_type": "stream",
     "text": [
      "\n",
      ": Evaluate the new model against the test set:\n",
      "3000/3000 [==============================] - 0s 33us/sample - loss: 12237.0230 - root_mean_squared_error: 110.6211\n"
     ]
    },
    {
     "data": {
      "text/plain": [
       "[12237.022965494793, 110.62108]"
      ]
     },
     "execution_count": 7,
     "metadata": {},
     "output_type": "execute_result"
    }
   ],
   "source": [
    "# The following variables are the hyperparameters.\n",
    "learning_rate = 0.05\n",
    "epochs = 30\n",
    "batch_size = 100\n",
    "label_name = 'median_house_value'\n",
    "\n",
    "# Create and compile the model's topography.\n",
    "my_model = create_model(learning_rate, fp_feature_layer)\n",
    "\n",
    "# Train the model on the training set.\n",
    "epochs, rmse = train_model(my_model, train_df, epochs, batch_size, label_name)\n",
    "\n",
    "plot_the_loss_curve(epochs, rmse)\n",
    "\n",
    "print(\"\\n: Evaluate the new model against the test set:\")\n",
    "test_features = {name:np.array(value) for name, value in test_df.items()}\n",
    "test_label = np.array(test_features.pop(label_name))\n",
    "my_model.evaluate(x=test_features, y=test_label, batch_size=batch_size)"
   ]
  },
  {
   "cell_type": "markdown",
   "metadata": {},
   "source": [
    "## Task 1: Why aren't floating-point values a good way to represent latitude and longitude?\n",
    "\n",
    "Are floating-point values a good way to represent `latitude` and `longitude`? "
   ]
  },
  {
   "cell_type": "code",
   "execution_count": 8,
   "metadata": {},
   "outputs": [],
   "source": [
    "# No. Representing latitude and longitude as \n",
    "# floating-point values does not have much \n",
    "# predictive power. For example, neighborhoods at \n",
    "# latitude 35 are not 36/35 more valuable \n",
    "# (or 35/36 less valuable) than houses at \n",
    "# latitude 36.\n",
    "\n",
    "# Representing `latitude` and `longitude` as \n",
    "# floating-point values provides almost no \n",
    "# predictive power. We're only using the raw values \n",
    "# to establish a baseline for future experiments \n",
    "# with better representations."
   ]
  },
  {
   "cell_type": "markdown",
   "metadata": {},
   "source": [
    "## Represent latitude and longitude in buckets\n",
    "\n",
    "The following code cell represents latitude and longitude in buckets (bins). Each bin represents all the neighborhoods within a single degree. For example,\n",
    "neighborhoods at latitude 35.4 and 35.8 are in the same bucket, but neighborhoods in latitude 35.4 and 36.2 are in different buckets. \n",
    "\n",
    "The model will learn a separate weight for each bucket. For example, the model will learn one weight for all the neighborhoods in the \"35\" bin, a different weight for neighborhoods in the \"36\" bin, and so on. This representation will create approximately 20 buckets:\n",
    " \n",
    "  * 10 buckets for `latitude`. \n",
    "  * 10 buckets for `longitude`. "
   ]
  },
  {
   "cell_type": "code",
   "execution_count": 9,
   "metadata": {},
   "outputs": [],
   "source": [
    "resolution_in_degrees = 1.0 \n",
    "\n",
    "# Create a new empty list that will eventually hold the generated feature column.\n",
    "feature_columns = []\n",
    "\n",
    "# Create a bucket feature column for latitude.\n",
    "latitude_as_a_numeric_column = tf.feature_column.numeric_column(\"latitude\")\n",
    "latitude_boundaries = list(np.arange(int(min(train_df['latitude'])), \n",
    "                                     int(max(train_df['latitude'])), \n",
    "                                     resolution_in_degrees))\n",
    "latitude = tf.feature_column.bucketized_column(latitude_as_a_numeric_column, \n",
    "                                               latitude_boundaries)\n",
    "feature_columns.append(latitude)\n",
    "\n",
    "# Create a bucket feature column for longitude.\n",
    "longitude_as_a_numeric_column = tf.feature_column.numeric_column(\"longitude\")\n",
    "longitude_boundaries = list(np.arange(int(min(train_df['longitude'])), \n",
    "                                      int(max(train_df['longitude'])), \n",
    "                                      resolution_in_degrees))\n",
    "longitude = tf.feature_column.bucketized_column(longitude_as_a_numeric_column, \n",
    "                                                longitude_boundaries)\n",
    "feature_columns.append(longitude)\n",
    "\n",
    "# Convert the list of feature columns into a layer that will ultimately become\n",
    "# part of the model. Understanding layers is not important right now.\n",
    "buckets_feature_layer = layers.DenseFeatures(feature_columns)"
   ]
  },
  {
   "cell_type": "markdown",
   "metadata": {},
   "source": [
    "## Train the model with bucket representations\n",
    "\n",
    "Run the following code cell to train the model with bucket representations rather than floating-point representations:"
   ]
  },
  {
   "cell_type": "code",
   "execution_count": 11,
   "metadata": {},
   "outputs": [
    {
     "name": "stdout",
     "output_type": "stream",
     "text": [
      "Train on 17000 samples\n",
      "Epoch 1/35\n",
      "17000/17000 [==============================] - 1s 32us/sample - loss: 51945.3517 - root_mean_squared_error: 227.9152\n",
      "Epoch 2/35\n",
      "17000/17000 [==============================] - 0s 12us/sample - loss: 44573.4251 - root_mean_squared_error: 211.1242\n",
      "Epoch 3/35\n",
      "17000/17000 [==============================] - 0s 11us/sample - loss: 38000.6813 - root_mean_squared_error: 194.9376\n",
      "Epoch 4/35\n",
      "17000/17000 [==============================] - 0s 12us/sample - loss: 32224.7772 - root_mean_squared_error: 179.5126\n",
      "Epoch 5/35\n",
      "17000/17000 [==============================] - 0s 14us/sample - loss: 27205.9996 - root_mean_squared_error: 164.9424\n",
      "Epoch 6/35\n",
      "17000/17000 [==============================] - 0s 12us/sample - loss: 22938.6541 - root_mean_squared_error: 151.4551\n",
      "Epoch 7/35\n",
      "17000/17000 [==============================] - 0s 12us/sample - loss: 19467.2164 - root_mean_squared_error: 139.5250\n",
      "Epoch 8/35\n",
      "17000/17000 [==============================] - 0s 12us/sample - loss: 16651.5346 - root_mean_squared_error: 129.0408\n",
      "Epoch 9/35\n",
      "17000/17000 [==============================] - 0s 10us/sample - loss: 14519.2987 - root_mean_squared_error: 120.4961\n",
      "Epoch 10/35\n",
      "17000/17000 [==============================] - 0s 10us/sample - loss: 12971.0011 - root_mean_squared_error: 113.8903\n",
      "Epoch 11/35\n",
      "17000/17000 [==============================] - 0s 12us/sample - loss: 11945.9446 - root_mean_squared_error: 109.2975\n",
      "Epoch 12/35\n",
      "17000/17000 [==============================] - 0s 11us/sample - loss: 11334.2323 - root_mean_squared_error: 106.4623\n",
      "Epoch 13/35\n",
      "17000/17000 [==============================] - 0s 11us/sample - loss: 10987.6488 - root_mean_squared_error: 104.8220\n",
      "Epoch 14/35\n",
      "17000/17000 [==============================] - 0s 10us/sample - loss: 10796.3363 - root_mean_squared_error: 103.9054\n",
      "Epoch 15/35\n",
      "17000/17000 [==============================] - 0s 10us/sample - loss: 10678.5700 - root_mean_squared_error: 103.3372\n",
      "Epoch 16/35\n",
      "17000/17000 [==============================] - 0s 10us/sample - loss: 10604.1690 - root_mean_squared_error: 102.9765\n",
      "Epoch 17/35\n",
      "17000/17000 [==============================] - 0s 9us/sample - loss: 10555.1809 - root_mean_squared_error: 102.7384\n",
      "Epoch 18/35\n",
      "17000/17000 [==============================] - 0s 9us/sample - loss: 10520.6290 - root_mean_squared_error: 102.5701\n",
      "Epoch 19/35\n",
      "17000/17000 [==============================] - 0s 10us/sample - loss: 10497.0714 - root_mean_squared_error: 102.4552\n",
      "Epoch 20/35\n",
      "17000/17000 [==============================] - 0s 9us/sample - loss: 10478.3654 - root_mean_squared_error: 102.3639\n",
      "Epoch 21/35\n",
      "17000/17000 [==============================] - 0s 10us/sample - loss: 10463.3781 - root_mean_squared_error: 102.2907\n",
      "Epoch 22/35\n",
      "17000/17000 [==============================] - 0s 10us/sample - loss: 10450.9344 - root_mean_squared_error: 102.2298\n",
      "Epoch 23/35\n",
      "17000/17000 [==============================] - 0s 10us/sample - loss: 10439.6236 - root_mean_squared_error: 102.1745\n",
      "Epoch 24/35\n",
      "17000/17000 [==============================] - 0s 13us/sample - loss: 10429.0634 - root_mean_squared_error: 102.1228\n",
      "Epoch 25/35\n",
      "17000/17000 [==============================] - 0s 14us/sample - loss: 10418.7743 - root_mean_squared_error: 102.0724\n",
      "Epoch 26/35\n",
      "17000/17000 [==============================] - 0s 12us/sample - loss: 10409.3714 - root_mean_squared_error: 102.0263\n",
      "Epoch 27/35\n",
      "17000/17000 [==============================] - 0s 12us/sample - loss: 10400.5249 - root_mean_squared_error: 101.9830\n",
      "Epoch 28/35\n",
      "17000/17000 [==============================] - 0s 12us/sample - loss: 10391.9043 - root_mean_squared_error: 101.9407\n",
      "Epoch 29/35\n",
      "17000/17000 [==============================] - 0s 12us/sample - loss: 10383.6595 - root_mean_squared_error: 101.9003\n",
      "Epoch 30/35\n",
      "17000/17000 [==============================] - 0s 12us/sample - loss: 10375.9947 - root_mean_squared_error: 101.8626\n",
      "Epoch 31/35\n",
      "17000/17000 [==============================] - 0s 11us/sample - loss: 10368.9347 - root_mean_squared_error: 101.8280\n",
      "Epoch 32/35\n",
      "17000/17000 [==============================] - 0s 12us/sample - loss: 10361.6146 - root_mean_squared_error: 101.7920\n",
      "Epoch 33/35\n",
      "17000/17000 [==============================] - 0s 11us/sample - loss: 10354.6220 - root_mean_squared_error: 101.7577\n",
      "Epoch 34/35\n",
      "17000/17000 [==============================] - 0s 12us/sample - loss: 10348.0546 - root_mean_squared_error: 101.7254\n",
      "Epoch 35/35\n",
      "17000/17000 [==============================] - 0s 11us/sample - loss: 10341.5727 - root_mean_squared_error: 101.6935\n"
     ]
    },
    {
     "data": {
      "image/png": "[encoded data removed]",
      "text/plain": [
       "<Figure size 432x288 with 1 Axes>"
      ]
     },
     "metadata": {
      "needs_background": "light"
     },
     "output_type": "display_data"
    },
    {
     "name": "stdout",
     "output_type": "stream",
     "text": [
      "\n",
      ": Evaluate the new model against the test set:\n",
      "3000/3000 [==============================] - 0s 48us/sample - loss: 10201.2717 - root_mean_squared_error: 101.0013\n"
     ]
    },
    {
     "data": {
      "text/plain": [
       "[10201.271695963542, 101.00134]"
      ]
     },
     "execution_count": 11,
     "metadata": {},
     "output_type": "execute_result"
    }
   ],
   "source": [
    "# The following variables are the hyperparameters.\n",
    "learning_rate = 0.04\n",
    "epochs = 35\n",
    "\n",
    "# Build the model, this time passing in the buckets_feature_layer.\n",
    "my_model = create_model(learning_rate, buckets_feature_layer)\n",
    "\n",
    "# Train the model on the training set.\n",
    "epochs, rmse = train_model(my_model, train_df, epochs, batch_size, label_name)\n",
    "\n",
    "plot_the_loss_curve(epochs, rmse)\n",
    "\n",
    "print(\"\\n: Evaluate the new model against the test set:\")\n",
    "my_model.evaluate(x=test_features, y=test_label, batch_size=batch_size)"
   ]
  },
  {
   "cell_type": "markdown",
   "metadata": {},
   "source": [
    "## Task 2: Did buckets outperform floating-point representations?\n",
    "\n",
    "Compare the model's `root_mean_squared_error` values for the two representations (floating-point vs. buckets)?  Which model produced lower losses? "
   ]
  },
  {
   "cell_type": "code",
   "execution_count": 12,
   "metadata": {},
   "outputs": [],
   "source": [
    "# Bucket representation outperformed \n",
    "# floating-point representations.  \n",
    "# However, you can still do far better."
   ]
  },
  {
   "cell_type": "markdown",
   "metadata": {},
   "source": [
    "## Task 3: What is a better way to represent location?\n",
    "\n",
    "Buckets are a big improvement over floating-point values. Can you identify an even better way to identify location with `latitude` and `longitude`?"
   ]
  },
  {
   "cell_type": "code",
   "execution_count": 13,
   "metadata": {},
   "outputs": [],
   "source": [
    "# Representing location as a feature cross should \n",
    "# produce better results.\n",
    "\n",
    "# In Task 2, you represented latitude in \n",
    "# one-dimensional buckets and longitude in \n",
    "# another series of one-dimensional buckets. \n",
    "# Real-world locations, however, exist in \n",
    "# two dimension. Therefore, you should\n",
    "# represent location as a two-dimensional feature\n",
    "# cross. That is, you'll cross the 10 or so latitude \n",
    "# buckets with the 10 or so longitude buckets to \n",
    "# create a grid of 100 cells. \n",
    "\n",
    "# The model will learn separate weights for each \n",
    "# of the cells."
   ]
  },
  {
   "cell_type": "markdown",
   "metadata": {},
   "source": [
    "## Represent location as a feature cross\n",
    "\n",
    "The following code cell represents location as a feature cross. That is, the following code cell first creates buckets and then calls `tf.feature_column.crossed_column` to cross the buckets."
   ]
  },
  {
   "cell_type": "code",
   "execution_count": 20,
   "metadata": {},
   "outputs": [],
   "source": [
    "resolution_in_degrees = 1.0 \n",
    "\n",
    "# Create a new empty list that will eventually hold the generated feature column.\n",
    "feature_columns = []\n",
    "\n",
    "# Create a bucket feature column for latitude.\n",
    "latitude_as_a_numeric_column = tf.feature_column.numeric_column(\"latitude\")\n",
    "latitude_boundaries = list(np.arange(int(min(train_df['latitude'])), int(max(train_df['latitude'])), resolution_in_degrees))\n",
    "latitude = tf.feature_column.bucketized_column(latitude_as_a_numeric_column, latitude_boundaries)\n",
    "\n",
    "# Create a bucket feature column for longitude.\n",
    "longitude_as_a_numeric_column = tf.feature_column.numeric_column(\"longitude\")\n",
    "longitude_boundaries = list(np.arange(int(min(train_df['longitude'])), int(max(train_df['longitude'])), resolution_in_degrees))\n",
    "longitude = tf.feature_column.bucketized_column(longitude_as_a_numeric_column, longitude_boundaries)\n",
    "\n",
    "# Create a feature cross of latitude and longitude.\n",
    "latitude_x_longitude = tf.feature_column.crossed_column([latitude, longitude], hash_bucket_size=100)\n",
    "crossed_feature = tf.feature_column.indicator_column(latitude_x_longitude)\n",
    "feature_columns.append(crossed_feature)\n",
    "\n",
    "# Convert the list of feature columns into a layer that will later be fed into\n",
    "# the model. \n",
    "feature_cross_feature_layer = layers.DenseFeatures(feature_columns)"
   ]
  },
  {
   "cell_type": "markdown",
   "metadata": {},
   "source": [
    "Invoke the following code cell to test your solution for Task 3. Please ignore the warning messages."
   ]
  },
  {
   "cell_type": "code",
   "execution_count": 21,
   "metadata": {},
   "outputs": [
    {
     "name": "stdout",
     "output_type": "stream",
     "text": [
      "Train on 17000 samples\n",
      "Epoch 1/35\n",
      "17000/17000 [==============================] - 1s 35us/sample - loss: 53534.4147 - root_mean_squared_error: 231.3750\n",
      "Epoch 2/35\n",
      "17000/17000 [==============================] - 0s 13us/sample - loss: 48481.3319 - root_mean_squared_error: 220.1848\n",
      "Epoch 3/35\n",
      "17000/17000 [==============================] - 0s 13us/sample - loss: 43798.9017 - root_mean_squared_error: 209.2819\n",
      "Epoch 4/35\n",
      "17000/17000 [==============================] - 0s 12us/sample - loss: 39444.4085 - root_mean_squared_error: 198.6062\n",
      "Epoch 5/35\n",
      "17000/17000 [==============================] - 0s 13us/sample - loss: 35417.3055 - root_mean_squared_error: 188.1949\n",
      "Epoch 6/35\n",
      "17000/17000 [==============================] - 0s 13us/sample - loss: 31757.3346 - root_mean_squared_error: 178.2058\n",
      "Epoch 7/35\n",
      "17000/17000 [==============================] - 0s 13us/sample - loss: 28401.2107 - root_mean_squared_error: 168.5266\n",
      "Epoch 8/35\n",
      "17000/17000 [==============================] - 0s 12us/sample - loss: 25358.5199 - root_mean_squared_error: 159.2436\n",
      "Epoch 9/35\n",
      "17000/17000 [==============================] - 0s 13us/sample - loss: 22658.2609 - root_mean_squared_error: 150.5266\n",
      "Epoch 10/35\n",
      "17000/17000 [==============================] - 0s 14us/sample - loss: 20265.2073 - root_mean_squared_error: 142.3559\n",
      "Epoch 11/35\n",
      "17000/17000 [==============================] - 0s 15us/sample - loss: 18160.9382 - root_mean_squared_error: 134.7625\n",
      "Epoch 12/35\n",
      "17000/17000 [==============================] - 0s 12us/sample - loss: 16350.4312 - root_mean_squared_error: 127.8688\n",
      "Epoch 13/35\n",
      "17000/17000 [==============================] - 0s 13us/sample - loss: 14797.0118 - root_mean_squared_error: 121.6430\n",
      "Epoch 14/35\n",
      "17000/17000 [==============================] - 0s 13us/sample - loss: 13506.0696 - root_mean_squared_error: 116.2156\n",
      "Epoch 15/35\n",
      "17000/17000 [==============================] - 0s 12us/sample - loss: 12461.6573 - root_mean_squared_error: 111.6318\n",
      "Epoch 16/35\n",
      "17000/17000 [==============================] - 0s 11us/sample - loss: 11639.7556 - root_mean_squared_error: 107.8877\n",
      "Epoch 17/35\n",
      "17000/17000 [==============================] - 0s 12us/sample - loss: 11034.2848 - root_mean_squared_error: 105.0442\n",
      "Epoch 18/35\n",
      "17000/17000 [==============================] - 0s 13us/sample - loss: 10606.7508 - root_mean_squared_error: 102.9891\n",
      "Epoch 19/35\n",
      "17000/17000 [==============================] - 0s 13us/sample - loss: 10320.3458 - root_mean_squared_error: 101.5891\n",
      "Epoch 20/35\n",
      "17000/17000 [==============================] - 0s 13us/sample - loss: 10135.7819 - root_mean_squared_error: 100.6766\n",
      "Epoch 21/35\n",
      "17000/17000 [==============================] - 0s 11us/sample - loss: 10007.8718 - root_mean_squared_error: 100.0394\n",
      "Epoch 22/35\n",
      "17000/17000 [==============================] - 0s 12us/sample - loss: 9909.2958 - root_mean_squared_error: 99.5455\n",
      "Epoch 23/35\n",
      "17000/17000 [==============================] - 0s 11us/sample - loss: 9835.0907 - root_mean_squared_error: 99.1720\n",
      "Epoch 24/35\n",
      "17000/17000 [==============================] - 0s 11us/sample - loss: 9778.4642 - root_mean_squared_error: 98.8861\n",
      "Epoch 25/35\n",
      "17000/17000 [==============================] - 0s 12us/sample - loss: 9735.3594 - root_mean_squared_error: 98.6679\n",
      "Epoch 26/35\n",
      "17000/17000 [==============================] - 0s 15us/sample - loss: 9704.7246 - root_mean_squared_error: 98.5126\n",
      "Epoch 27/35\n",
      "17000/17000 [==============================] - 0s 14us/sample - loss: 9680.4862 - root_mean_squared_error: 98.3895\n",
      "Epoch 28/35\n",
      "17000/17000 [==============================] - 0s 13us/sample - loss: 9662.9868 - root_mean_squared_error: 98.3005\n",
      "Epoch 29/35\n",
      "17000/17000 [==============================] - 0s 13us/sample - loss: 9650.0815 - root_mean_squared_error: 98.2348\n",
      "Epoch 30/35\n",
      "17000/17000 [==============================] - 0s 13us/sample - loss: 9640.2063 - root_mean_squared_error: 98.1846\n",
      "Epoch 31/35\n",
      "17000/17000 [==============================] - 0s 14us/sample - loss: 9633.3073 - root_mean_squared_error: 98.1494\n",
      "Epoch 32/35\n",
      "17000/17000 [==============================] - 0s 13us/sample - loss: 9627.8819 - root_mean_squared_error: 98.1218\n",
      "Epoch 33/35\n",
      "17000/17000 [==============================] - 0s 13us/sample - loss: 9623.5424 - root_mean_squared_error: 98.0997\n",
      "Epoch 34/35\n",
      "17000/17000 [==============================] - 0s 14us/sample - loss: 9620.3057 - root_mean_squared_error: 98.0832\n",
      "Epoch 35/35\n",
      "17000/17000 [==============================] - 0s 16us/sample - loss: 9617.6873 - root_mean_squared_error: 98.0698\n"
     ]
    },
    {
     "data": {
      "image/png": "[encoded data removed]",
      "text/plain": [
       "<Figure size 432x288 with 1 Axes>"
      ]
     },
     "metadata": {
      "needs_background": "light"
     },
     "output_type": "display_data"
    },
    {
     "name": "stdout",
     "output_type": "stream",
     "text": [
      "\n",
      ": Evaluate the new model against the test set:\n",
      "3000/3000 [==============================] - 0s 52us/sample - loss: 9519.4003 - root_mean_squared_error: 97.5674\n"
     ]
    },
    {
     "data": {
      "text/plain": [
       "[9519.400341796874, 97.56741]"
      ]
     },
     "execution_count": 21,
     "metadata": {},
     "output_type": "execute_result"
    }
   ],
   "source": [
    "# The following variables are the hyperparameters.\n",
    "learning_rate = 0.04\n",
    "epochs = 35\n",
    "\n",
    "# Build the model, this time passing in the feature_cross_feature_layer: \n",
    "my_model = create_model(learning_rate, feature_cross_feature_layer)\n",
    "\n",
    "# Train the model on the training set.\n",
    "epochs, rmse = train_model(my_model, train_df, epochs, batch_size, label_name)\n",
    "\n",
    "plot_the_loss_curve(epochs, rmse)\n",
    "\n",
    "print(\"\\n: Evaluate the new model against the test set:\")\n",
    "my_model.evaluate(x=test_features, y=test_label, batch_size=batch_size)"
   ]
  },
  {
   "cell_type": "markdown",
   "metadata": {},
   "source": [
    "## Task 4: Did the feature cross outperform buckets?\n",
    "\n",
    "Compare the model's `root_mean_squared_error` values for the two representations (buckets vs. feature cross)?  Which model produced\n",
    "lower losses? "
   ]
  },
  {
   "cell_type": "code",
   "execution_count": 22,
   "metadata": {},
   "outputs": [],
   "source": [
    "# Yes, representing these features as a feature \n",
    "# cross produced much lower loss values than \n",
    "# representing these features as buckets"
   ]
  },
  {
   "cell_type": "markdown",
   "metadata": {},
   "source": [
    "## Task 5: Adjust the resolution of the feature cross\n",
    "\n",
    "Return to the code cell in the \"Represent location as a feature cross\" section. Notice that `resolution_in_degrees` is set to 1.0. Therefore, each cell represents an area of 1.0 degree of latitude by 1.0 degree of longitude, which corresponds to a cell of 110 km by 90 km.  This resolution defines a rather large neighborhood. \n",
    "\n",
    "Experiment with `resolution_in_degrees` to answer the following questions:\n",
    "\n",
    "  1. What value of `resolution_in_degrees` produces the best results (lowest loss value)?\n",
    "  2. Why does loss increase when the value of `resolution_in_degrees` drops below a certain value?\n",
    "\n",
    "Finally, answer the following question:\n",
    "\n",
    "  3. What feature (that does not exist in the California Housing Dataset) would\n",
    "     be a better proxy for location than latitude X longitude."
   ]
  },
  {
   "cell_type": "code",
   "execution_count": 23,
   "metadata": {},
   "outputs": [],
   "source": [
    "resolution_in_degrees = 0.4 \n",
    "\n",
    "# Create a new empty list that will eventually hold the generated feature column.\n",
    "feature_columns = []\n",
    "\n",
    "# Create a bucket feature column for latitude.\n",
    "latitude_as_a_numeric_column = tf.feature_column.numeric_column(\"latitude\")\n",
    "latitude_boundaries = list(np.arange(int(min(train_df['latitude'])), int(max(train_df['latitude'])), resolution_in_degrees))\n",
    "latitude = tf.feature_column.bucketized_column(latitude_as_a_numeric_column, latitude_boundaries)\n",
    "\n",
    "# Create a bucket feature column for longitude.\n",
    "longitude_as_a_numeric_column = tf.feature_column.numeric_column(\"longitude\")\n",
    "longitude_boundaries = list(np.arange(int(min(train_df['longitude'])), int(max(train_df['longitude'])), resolution_in_degrees))\n",
    "longitude = tf.feature_column.bucketized_column(longitude_as_a_numeric_column, longitude_boundaries)\n",
    "\n",
    "# Create a feature cross of latitude and longitude.\n",
    "latitude_x_longitude = tf.feature_column.crossed_column([latitude, longitude], hash_bucket_size=100)\n",
    "crossed_feature = tf.feature_column.indicator_column(latitude_x_longitude)\n",
    "feature_columns.append(crossed_feature)\n",
    "\n",
    "# Convert the list of feature columns into a layer that will later be fed into\n",
    "# the model. \n",
    "feature_cross_feature_layer = layers.DenseFeatures(feature_columns)"
   ]
  },
  {
   "cell_type": "code",
   "execution_count": 26,
   "metadata": {},
   "outputs": [
    {
     "name": "stdout",
     "output_type": "stream",
     "text": [
      "Train on 17000 samples\n",
      "Epoch 1/35\n",
      "17000/17000 [==============================] - 1s 32us/sample - loss: 52303.1679 - root_mean_squared_error: 228.6988\n",
      "Epoch 2/35\n",
      "17000/17000 [==============================] - 0s 13us/sample - loss: 45315.0722 - root_mean_squared_error: 212.8734\n",
      "Epoch 3/35\n",
      "17000/17000 [==============================] - 0s 13us/sample - loss: 39017.1200 - root_mean_squared_error: 197.5275\n",
      "Epoch 4/35\n",
      "17000/17000 [==============================] - 0s 13us/sample - loss: 33423.9835 - root_mean_squared_error: 182.8223\n",
      "Epoch 5/35\n",
      "17000/17000 [==============================] - 0s 12us/sample - loss: 28511.1421 - root_mean_squared_error: 168.8524\n",
      "Epoch 6/35\n",
      "17000/17000 [==============================] - 0s 13us/sample - loss: 24267.2175 - root_mean_squared_error: 155.7794\n",
      "Epoch 7/35\n",
      "17000/17000 [==============================] - 0s 14us/sample - loss: 20678.5386 - root_mean_squared_error: 143.8003\n",
      "Epoch 8/35\n",
      "17000/17000 [==============================] - 0s 13us/sample - loss: 17710.6580 - root_mean_squared_error: 133.0814\n",
      "Epoch 9/35\n",
      "17000/17000 [==============================] - 0s 12us/sample - loss: 15302.6410 - root_mean_squared_error: 123.7039\n",
      "Epoch 10/35\n",
      "17000/17000 [==============================] - 0s 12us/sample - loss: 13444.6451 - root_mean_squared_error: 115.9510\n",
      "Epoch 11/35\n",
      "17000/17000 [==============================] - 0s 12us/sample - loss: 12065.0154 - root_mean_squared_error: 109.8409\n",
      "Epoch 12/35\n",
      "17000/17000 [==============================] - 0s 13us/sample - loss: 11102.5510 - root_mean_squared_error: 105.3687\n",
      "Epoch 13/35\n",
      "17000/17000 [==============================] - 0s 14us/sample - loss: 10458.5198 - root_mean_squared_error: 102.2669\n",
      "Epoch 14/35\n",
      "17000/17000 [==============================] - 0s 15us/sample - loss: 10034.2647 - root_mean_squared_error: 100.1712\n",
      "Epoch 15/35\n",
      "17000/17000 [==============================] - 0s 14us/sample - loss: 9747.7253 - root_mean_squared_error: 98.7306\n",
      "Epoch 16/35\n",
      "17000/17000 [==============================] - 0s 14us/sample - loss: 9525.7643 - root_mean_squared_error: 97.6000\n",
      "Epoch 17/35\n",
      "17000/17000 [==============================] - 0s 15us/sample - loss: 9344.8320 - root_mean_squared_error: 96.6687\n",
      "Epoch 18/35\n",
      "17000/17000 [==============================] - 0s 15us/sample - loss: 9198.3704 - root_mean_squared_error: 95.9081\n",
      "Epoch 19/35\n",
      "17000/17000 [==============================] - 0s 15us/sample - loss: 9078.0710 - root_mean_squared_error: 95.2789\n",
      "Epoch 20/35\n",
      "17000/17000 [==============================] - 0s 14us/sample - loss: 8981.2058 - root_mean_squared_error: 94.7692\n",
      "Epoch 21/35\n",
      "17000/17000 [==============================] - 0s 15us/sample - loss: 8904.9210 - root_mean_squared_error: 94.3659\n",
      "Epoch 22/35\n",
      "17000/17000 [==============================] - 0s 14us/sample - loss: 8844.5185 - root_mean_squared_error: 94.0453\n",
      "Epoch 23/35\n",
      "17000/17000 [==============================] - 0s 14us/sample - loss: 8797.0086 - root_mean_squared_error: 93.7924\n",
      "Epoch 24/35\n",
      "17000/17000 [==============================] - 0s 14us/sample - loss: 8759.0674 - root_mean_squared_error: 93.5899\n",
      "Epoch 25/35\n",
      "17000/17000 [==============================] - 0s 14us/sample - loss: 8730.0483 - root_mean_squared_error: 93.4347\n",
      "Epoch 26/35\n",
      "17000/17000 [==============================] - 0s 15us/sample - loss: 8706.9800 - root_mean_squared_error: 93.3112\n",
      "Epoch 27/35\n",
      "17000/17000 [==============================] - 0s 14us/sample - loss: 8689.7075 - root_mean_squared_error: 93.2186\n",
      "Epoch 28/35\n",
      "17000/17000 [==============================] - 0s 14us/sample - loss: 8675.2039 - root_mean_squared_error: 93.1408\n",
      "Epoch 29/35\n",
      "17000/17000 [==============================] - 0s 14us/sample - loss: 8664.1569 - root_mean_squared_error: 93.0815\n",
      "Epoch 30/35\n",
      "17000/17000 [==============================] - 0s 14us/sample - loss: 8655.3416 - root_mean_squared_error: 93.0341\n",
      "Epoch 31/35\n",
      "17000/17000 [==============================] - 0s 14us/sample - loss: 8647.5247 - root_mean_squared_error: 92.9921\n",
      "Epoch 32/35\n",
      "17000/17000 [==============================] - 0s 14us/sample - loss: 8641.6966 - root_mean_squared_error: 92.9607\n",
      "Epoch 33/35\n",
      "17000/17000 [==============================] - 0s 14us/sample - loss: 8635.9357 - root_mean_squared_error: 92.9297\n",
      "Epoch 34/35\n",
      "17000/17000 [==============================] - 0s 14us/sample - loss: 8632.5108 - root_mean_squared_error: 92.9113\n",
      "Epoch 35/35\n",
      "17000/17000 [==============================] - 0s 14us/sample - loss: 8628.7767 - root_mean_squared_error: 92.8912: 0s - loss: 8451.0666 - root_mean_squared_error: 91.92\n"
     ]
    },
    {
     "data": {
      "image/png": "[encoded data removed]",
      "text/plain": [
       "<Figure size 432x288 with 1 Axes>"
      ]
     },
     "metadata": {
      "needs_background": "light"
     },
     "output_type": "display_data"
    },
    {
     "name": "stdout",
     "output_type": "stream",
     "text": [
      "\n",
      ": Evaluate the new model against the test set:\n",
      "3000/3000 [==============================] - 0s 64us/sample - loss: 8571.0410 - root_mean_squared_error: 92.5799\n"
     ]
    },
    {
     "data": {
      "text/plain": [
       "[8571.041048177083, 92.57992]"
      ]
     },
     "execution_count": 26,
     "metadata": {},
     "output_type": "execute_result"
    }
   ],
   "source": [
    "# The following variables are the hyperparameters.\n",
    "learning_rate = 0.06\n",
    "epochs = 35\n",
    "\n",
    "# Build the model, this time passing in the feature_cross_feature_layer: \n",
    "my_model = create_model(learning_rate, feature_cross_feature_layer)\n",
    "\n",
    "# Train the model on the training set.\n",
    "epochs, rmse = train_model(my_model, train_df, epochs, batch_size, label_name)\n",
    "\n",
    "plot_the_loss_curve(epochs, rmse)\n",
    "\n",
    "print(\"\\n: Evaluate the new model against the test set:\")\n",
    "my_model.evaluate(x=test_features, y=test_label, batch_size=batch_size)"
   ]
  },
  {
   "cell_type": "code",
   "execution_count": 27,
   "metadata": {},
   "outputs": [],
   "source": [
    "#1. A resolution of ~0.4 degree provides the best \n",
    "#   results.\n",
    "\n",
    "#2. Below ~0.4 degree, loss increases because the \n",
    "#   dataset does not contain enough examples in \n",
    "#   each cell to accurately predict prices for \n",
    "#   those cells.\n",
    "\n",
    "#3. Postal code would be a far better feature \n",
    "#   than latitude X longitude, assuming that \n",
    "#   the dataset contained sufficient examples \n",
    "#   in each postal code."
   ]
  }
 ],
 "metadata": {
  "kernelspec": {
   "display_name": "Python 3",
   "language": "python",
   "name": "python3"
  },
  "language_info": {
   "codemirror_mode": {
    "name": "ipython",
    "version": 3
   },
   "file_extension": ".py",
   "mimetype": "text/x-python",
   "name": "python",
   "nbconvert_exporter": "python",
   "pygments_lexer": "ipython3",
   "version": "3.7.7"
  }
 },
 "nbformat": 4,
 "nbformat_minor": 4
}

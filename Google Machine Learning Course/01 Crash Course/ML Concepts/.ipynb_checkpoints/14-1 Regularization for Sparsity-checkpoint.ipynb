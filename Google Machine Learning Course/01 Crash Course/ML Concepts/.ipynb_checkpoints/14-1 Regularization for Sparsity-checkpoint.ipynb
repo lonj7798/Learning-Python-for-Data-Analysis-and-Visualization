{
 "cells": [
  {
   "cell_type": "markdown",
   "metadata": {},
   "source": [
    "### Regularization for Sparsity: L₁ Regularization"
   ]
  },
  {
   "cell_type": "markdown",
   "metadata": {},
   "source": [
    "Sparse vectors often contain many dimensions. Creating a [feature cross](https://developers.google.com/machine-learning/crash-course/feature-crosses/video-lecture) results in even more dimensions. Given such high-dimensional feature vectors, model size may become huge and require huge amounts of RAM.\n",
    "\n",
    "In a high-dimensional sparse vector, it would be nice to encourage weights to drop to exactly 0 where possible. A weight of exactly <code>0</code> essentially removes the corresponding feature from the model. Zeroing out features will save RAM and may reduce noise in the model.\n",
    "\n",
    "For example, consider a housing data set that covers not just California but the entire globe. Bucketing global latitude at the minute level (60 minutes per degree) gives about 10,000 dimensions in a sparse encoding; global longitude at the minute level gives about 20,000 dimensions. A feature cross of these two features would result in roughly 200,000,000 dimensions. Many of those 200,000,000 dimensions represent areas of such limited residence (for example, the middle of the ocean) that it would be difficult to use that data to generalize effectively. It would be silly to pay the RAM cost of storing these unneeded dimensions. Therefore, it would be nice to encourage the weights for the meaningless dimensions to drop to exactly 0, which would allow us to avoid paying for the storage cost of these model coefficients at inference time.\n",
    "\n",
    "We might be able to encode this idea into the optimization problem done at training time, by adding an appropriately chosen regularization term.\n",
    "\n",
    "Would L<sub>2</sub> regularization accomplish this task? Unfortunately not. L<sub>2</sub> regularization encourages weights to be small, but doesn't force them to exactly 0.0.\n",
    "\n",
    "An alternative idea would be to try and create a regularization term that penalizes the count of non-zero coefficient values in a model. Increasing this count would only be justified if there was a sufficient gain in the model's ability to fit the data. Unfortunately, while this count-based approach is intuitively appealing, it would turn our convex optimization problem into a non-convex optimization problem. So this idea, known as L<sub>0</sub> regularization isn't something we can use effectively in practice.\n",
    "\n",
    "However, there is a regularization term called L<sub>1</sub> regularization that serves as an approximation to L<sub>0</sub>, but has the advantage of being convex and thus efficient to compute. So we can use L<sub>1</sub> regularization to encourage many of the uninformative coefficients in our model to be exactly 0, and thus reap RAM savings at inference time."
   ]
  },
  {
   "cell_type": "markdown",
   "metadata": {},
   "source": [
    "### L1 vs. L2 regularization.\n",
    "\n",
    "L<sub>2</sub> and L<sub>1</sub> penalize weights differently:\n",
    "\n",
    "- L<sub>2</sub> penalizes weight2.\n",
    "- L<sub>1</sub> penalizes |weight|.\n",
    "\n",
    "Consequently, L<sub>2</sub> and L<sub>1</sub> have different derivatives:\n",
    "\n",
    "- The derivative of L<sub>2</sub> is 2 * weight.\n",
    "- The derivative of L<sub>1</sub> is k (a constant, whose value is independent of weight).\n",
    "\n",
    "You can think of the derivative of L<sub>2</sub> as a force that removes x% of the weight every time. As [Zeno](https://en.wikipedia.org/wiki/Zeno's_paradoxes#Dichotomy_paradox) knew, even if you remove x percent of a number billions of times, the diminished number will still never quite reach zero. (Zeno was less familiar with floating-point precision limitations, which could possibly produce exactly zero.) At any rate, L<sub>2</sub> does not normally drive weights to zero.\n",
    "\n",
    "You can think of the derivative of L<sub>1</sub> as a force that subtracts some constant from the weight every time. However, thanks to absolute values, L<sub>1</sub> has a discontinuity at 0, which causes subtraction results that cross 0 to become zeroed out. For example, if subtraction would have forced a weight from +0.1 to -0.2, L<sub>1</sub> will set the weight to exactly 0. Eureka, L<sub>1</sub> zeroed out the weight.\n",
    "\n",
    "L<sub>1</sub> regularization—penalizing the absolute value of all the weights—turns out to be quite efficient for wide models.\n",
    "\n",
    "Note that this description is true for a one-dimensional model."
   ]
  },
  {
   "cell_type": "code",
   "execution_count": null,
   "metadata": {},
   "outputs": [],
   "source": []
  }
 ],
 "metadata": {
  "kernelspec": {
   "display_name": "Python 3",
   "language": "python",
   "name": "python3"
  },
  "language_info": {
   "codemirror_mode": {
    "name": "ipython",
    "version": 3
   },
   "file_extension": ".py",
   "mimetype": "text/x-python",
   "name": "python",
   "nbconvert_exporter": "python",
   "pygments_lexer": "ipython3",
   "version": "3.7.7"
  }
 },
 "nbformat": 4,
 "nbformat_minor": 4
}

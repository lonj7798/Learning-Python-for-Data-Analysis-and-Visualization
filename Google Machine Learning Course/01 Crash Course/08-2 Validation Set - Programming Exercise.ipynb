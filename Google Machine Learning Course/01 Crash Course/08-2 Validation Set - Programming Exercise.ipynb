{
 "cells": [
  {
   "cell_type": "code",
   "execution_count": 10,
   "metadata": {},
   "outputs": [],
   "source": [
    "#@title Copyright 2020 Google LLC. Double-click here for license information.\n",
    "# Licensed under the Apache License, Version 2.0 (the \"License\");\n",
    "# you may not use this file except in compliance with the License.\n",
    "# You may obtain a copy of the License at\n",
    "#\n",
    "# https://www.apache.org/licenses/LICENSE-2.0\n",
    "#\n",
    "# Unless required by applicable law or agreed to in writing, software\n",
    "# distributed under the License is distributed on an \"AS IS\" BASIS,\n",
    "# WITHOUT WARRANTIES OR CONDITIONS OF ANY KIND, either express or implied.\n",
    "# See the License for the specific language governing permissions and\n",
    "# limitations under the License."
   ]
  },
  {
   "cell_type": "markdown",
   "metadata": {},
   "source": [
    "## Validation Sets and Test Sets\n",
    "\n",
    "### Learning objectives\n",
    "\n",
    "After doing this, you'll know how to do the following:\n",
    "\n",
    "  * Split a [training set](https://developers.google.com/machine-learning/glossary/#training_set) into a smaller training set and a [validation set](https://developers.google.com/machine-learning/glossary/#validation_set).\n",
    "  * Analyze deltas between training set and validation set results.\n",
    "  * Test the trained model with a [test set](https://developers.google.com/machine-learning/glossary/#test_set) to determine whether your trained model is [overfitting](https://developers.google.com/machine-learning/glossary/#overfitting).\n",
    "  * Detect and fix a common training problem."
   ]
  },
  {
   "cell_type": "markdown",
   "metadata": {},
   "source": [
    "### The dataset\n",
    "\n",
    "As in the previous exercise, this exercise uses the [California Housing dataset](https://developers.google.com/machine-learning/crash-course/california-housing-data-description) to predict the `median_house_value` at the city block level.  Like many \"famous\" datasets, the California Housing Dataset actually consists of two separate datasets, each living in separate .csv files:\n",
    "\n",
    "* The training set is in `california_housing_train.csv`.\n",
    "* The test set is in `california_housing_test.csv`.\n",
    "\n",
    "You'll create the validation set by dividing the downloaded training set into two parts:\n",
    "\n",
    "* a smaller training set  \n",
    "* a validation set"
   ]
  },
  {
   "cell_type": "code",
   "execution_count": 5,
   "metadata": {},
   "outputs": [],
   "source": [
    "# import relevant modules\n",
    "\n",
    "import numpy as np\n",
    "import pandas as pd\n",
    "\n",
    "import tensorflow as tf\n",
    "import matplotlib.pyplot as plt\n",
    "%matplotlib inline\n",
    "\n",
    "pd.options.display.max_rows = 10\n",
    "pd.options.display.float_format = \"{:.1f}\".format"
   ]
  },
  {
   "cell_type": "code",
   "execution_count": 6,
   "metadata": {},
   "outputs": [],
   "source": [
    "# Load dataset\n",
    "\n",
    "train_df = pd.read_csv(\"https://download.mlcc.google.com/mledu-datasets/california_housing_train.csv\")\n",
    "test_df = pd.read_csv(\"https://download.mlcc.google.com/mledu-datasets/california_housing_test.csv\")"
   ]
  },
  {
   "cell_type": "code",
   "execution_count": 7,
   "metadata": {},
   "outputs": [],
   "source": [
    "# Scale the label values\n",
    "\n",
    "scale_factor = 1000.0\n",
    "\n",
    "# Scale the training set's label.\n",
    "train_df[\"median_house_value\"] /= scale_factor \n",
    "\n",
    "# Scale the test set's label\n",
    "test_df[\"median_house_value\"] /= scale_factor"
   ]
  },
  {
   "cell_type": "markdown",
   "metadata": {},
   "source": [
    "### Load the functions that build and train a model\n",
    "\n",
    "The following code cell defines two functions:\n",
    "\n",
    "  * `build_model`, which defines the model's topography.\n",
    "  * `train_model`, which will ultimately train the model, outputting not only the loss value for the training set but also the loss value for the validation set. \n",
    "\n",
    "Since you don't need to understand model building code right now, we've hidden this code cell. As always, you must run hidden code cells."
   ]
  },
  {
   "cell_type": "code",
   "execution_count": 8,
   "metadata": {},
   "outputs": [
    {
     "name": "stdout",
     "output_type": "stream",
     "text": [
      "Defined the build_model and train_model functions.\n"
     ]
    }
   ],
   "source": [
    "#@title Define the functions that build and train a model\n",
    "def build_model(my_learning_rate):\n",
    "  \"\"\"Create and compile a simple linear regression model.\"\"\"\n",
    "  # Most simple tf.keras models are sequential.\n",
    "  model = tf.keras.models.Sequential()\n",
    "\n",
    "  # Add one linear layer to the model to yield a simple linear regressor.\n",
    "  model.add(tf.keras.layers.Dense(units=1, input_shape=(1,)))\n",
    "\n",
    "  # Compile the model topography into code that TensorFlow can efficiently\n",
    "  # execute. Configure training to minimize the model's mean squared error. \n",
    "  model.compile(optimizer=tf.keras.optimizers.RMSprop(lr=my_learning_rate),\n",
    "                loss=\"mean_squared_error\",\n",
    "                metrics=[tf.keras.metrics.RootMeanSquaredError()])\n",
    "\n",
    "  return model               \n",
    "\n",
    "\n",
    "def train_model(model, df, feature, label, my_epochs, \n",
    "                my_batch_size=None, my_validation_split=0.1):\n",
    "  \"\"\"Feed a dataset into the model in order to train it.\"\"\"\n",
    "\n",
    "  history = model.fit(x=df[feature],\n",
    "                      y=df[label],\n",
    "                      batch_size=my_batch_size,\n",
    "                      epochs=my_epochs,\n",
    "                      validation_split=my_validation_split)\n",
    "\n",
    "  # Gather the model's trained weight and bias.\n",
    "  trained_weight = model.get_weights()[0]\n",
    "  trained_bias = model.get_weights()[1]\n",
    "\n",
    "  # The list of epochs is stored separately from the \n",
    "  # rest of history.\n",
    "  epochs = history.epoch\n",
    "  \n",
    "  # Isolate the root mean squared error for each epoch.\n",
    "  hist = pd.DataFrame(history.history)\n",
    "  rmse = hist[\"root_mean_squared_error\"]\n",
    "\n",
    "  return epochs, rmse, history.history   \n",
    "\n",
    "print(\"Defined the build_model and train_model functions.\")"
   ]
  },
  {
   "cell_type": "markdown",
   "metadata": {},
   "source": [
    "### Define plotting functions\n",
    "\n",
    "The `plot_the_loss_curve` function plots loss vs. epochs for both the training set and the validation set."
   ]
  },
  {
   "cell_type": "code",
   "execution_count": 9,
   "metadata": {},
   "outputs": [
    {
     "name": "stdout",
     "output_type": "stream",
     "text": [
      "Defined the plot_the_loss_curve function.\n"
     ]
    }
   ],
   "source": [
    "#@title Define the plotting function\n",
    "\n",
    "def plot_the_loss_curve(epochs, mae_training, mae_validation):\n",
    "  \"\"\"Plot a curve of loss vs. epoch.\"\"\"\n",
    "\n",
    "  plt.figure()\n",
    "  plt.xlabel(\"Epoch\")\n",
    "  plt.ylabel(\"Root Mean Squared Error\")\n",
    "\n",
    "  plt.plot(epochs[1:], mae_training[1:], label=\"Training Loss\")\n",
    "  plt.plot(epochs[1:], mae_validation[1:], label=\"Validation Loss\")\n",
    "  plt.legend()\n",
    "  \n",
    "  # We're not going to plot the first epoch, since the loss on the first epoch\n",
    "  # is often substantially greater than the loss for other epochs.\n",
    "  merged_mae_lists = mae_training[1:] + mae_validation[1:]\n",
    "  highest_loss = max(merged_mae_lists)\n",
    "  lowest_loss = min(merged_mae_lists)\n",
    "  delta = highest_loss - lowest_loss\n",
    "  print(delta)\n",
    "\n",
    "  top_of_y_axis = highest_loss + (delta * 0.05)\n",
    "  bottom_of_y_axis = lowest_loss - (delta * 0.05)\n",
    "   \n",
    "  plt.ylim([bottom_of_y_axis, top_of_y_axis])\n",
    "  plt.show()  \n",
    "\n",
    "print(\"Defined the plot_the_loss_curve function.\")"
   ]
  },
  {
   "cell_type": "markdown",
   "metadata": {},
   "source": [
    "### Task 1: Experiment with the validation split\n",
    "\n",
    "In the following code cell, you'll see a variable named `validation_split`, which we've initialized at 0.2.  The `validation_split` variable specifies the proportion of the original training set that will serve as the validation set. The original training set contains 17,000 examples. Therefore, a `validation_split` of 0.2 means that:\n",
    "\n",
    "* 17,000 * 0.2 ~= 3,400 examples will become the validation set.\n",
    "* 17,000 * 0.8 ~= 13,600 examples will become the new training set.\n",
    "\n",
    "The following code builds a model, trains it on the training set, and evaluates the built model on both:\n",
    "\n",
    "* The training set.\n",
    "* And the validation set.\n",
    "\n",
    "If the data in the training set is similar to the data in the validation set, then the two loss curves and the final loss values should be almost identical. However, the loss curves and final loss values are **not** almost identical. Hmm, that's odd.  \n",
    "\n",
    "Experiment with two or three different values of `validation_split`.  Do different values of `validation_split` fix the problem? "
   ]
  },
  {
   "cell_type": "code",
   "execution_count": 11,
   "metadata": {},
   "outputs": [
    {
     "name": "stdout",
     "output_type": "stream",
     "text": [
      "Train on 13600 samples, validate on 3400 samples\n",
      "Epoch 1/30\n",
      "13600/13600 [==============================] - 0s 34us/sample - loss: 40281.8009 - root_mean_squared_error: 200.7032 - val_loss: 48819.7536 - val_root_mean_squared_error: 220.9519\n",
      "Epoch 2/30\n",
      "13600/13600 [==============================] - 0s 11us/sample - loss: 23329.1939 - root_mean_squared_error: 152.7390 - val_loss: 28646.1118 - val_root_mean_squared_error: 169.2516\n",
      "Epoch 3/30\n",
      "13600/13600 [==============================] - 0s 11us/sample - loss: 12348.7492 - root_mean_squared_error: 111.1249 - val_loss: 15555.9168 - val_root_mean_squared_error: 124.7234\n",
      "Epoch 4/30\n",
      "13600/13600 [==============================] - 0s 11us/sample - loss: 7301.9679 - root_mean_squared_error: 85.4515 - val_loss: 9603.9836 - val_root_mean_squared_error: 97.9999\n",
      "Epoch 5/30\n",
      "13600/13600 [==============================] - 0s 12us/sample - loss: 6516.2407 - root_mean_squared_error: 80.7232 - val_loss: 9307.3288 - val_root_mean_squared_error: 96.4745\n",
      "Epoch 6/30\n",
      "13600/13600 [==============================] - 0s 11us/sample - loss: 6513.3621 - root_mean_squared_error: 80.7054 - val_loss: 9167.1927 - val_root_mean_squared_error: 95.7455\n",
      "Epoch 7/30\n",
      "13600/13600 [==============================] - 0s 10us/sample - loss: 6512.5923 - root_mean_squared_error: 80.7006 - val_loss: 9354.2321 - val_root_mean_squared_error: 96.7173\n",
      "Epoch 8/30\n",
      "13600/13600 [==============================] - 0s 10us/sample - loss: 6513.2135 - root_mean_squared_error: 80.7045 - val_loss: 9340.6358 - val_root_mean_squared_error: 96.6470\n",
      "Epoch 9/30\n",
      "13600/13600 [==============================] - 0s 12us/sample - loss: 6513.0067 - root_mean_squared_error: 80.7032 - val_loss: 9250.1369 - val_root_mean_squared_error: 96.1776\n",
      "Epoch 10/30\n",
      "13600/13600 [==============================] - 0s 12us/sample - loss: 6512.3837 - root_mean_squared_error: 80.6993 - val_loss: 9322.5720 - val_root_mean_squared_error: 96.5535\n",
      "Epoch 11/30\n",
      "13600/13600 [==============================] - 0s 11us/sample - loss: 6514.4286 - root_mean_squared_error: 80.7120 - val_loss: 9244.5292 - val_root_mean_squared_error: 96.1485\n",
      "Epoch 12/30\n",
      "13600/13600 [==============================] - 0s 10us/sample - loss: 6513.8174 - root_mean_squared_error: 80.7082 - val_loss: 9334.7295 - val_root_mean_squared_error: 96.6164\n",
      "Epoch 13/30\n",
      "13600/13600 [==============================] - 0s 11us/sample - loss: 6513.6697 - root_mean_squared_error: 80.7073 - val_loss: 9184.9647 - val_root_mean_squared_error: 95.8382\n",
      "Epoch 14/30\n",
      "13600/13600 [==============================] - 0s 11us/sample - loss: 6512.9268 - root_mean_squared_error: 80.7027 - val_loss: 9383.4165 - val_root_mean_squared_error: 96.8680\n",
      "Epoch 15/30\n",
      "13600/13600 [==============================] - 0s 11us/sample - loss: 6513.4928 - root_mean_squared_error: 80.7062 - val_loss: 9345.2482 - val_root_mean_squared_error: 96.6708\n",
      "Epoch 16/30\n",
      "13600/13600 [==============================] - 0s 11us/sample - loss: 6513.7987 - root_mean_squared_error: 80.7081 - val_loss: 9291.5999 - val_root_mean_squared_error: 96.3929\n",
      "Epoch 17/30\n",
      "13600/13600 [==============================] - 0s 10us/sample - loss: 6513.2731 - root_mean_squared_error: 80.7049 - val_loss: 9337.2186 - val_root_mean_squared_error: 96.6293\n",
      "Epoch 18/30\n",
      "13600/13600 [==============================] - 0s 10us/sample - loss: 6513.3425 - root_mean_squared_error: 80.7053 - val_loss: 9253.8841 - val_root_mean_squared_error: 96.1971\n",
      "Epoch 19/30\n",
      "13600/13600 [==============================] - 0s 11us/sample - loss: 6513.2527 - root_mean_squared_error: 80.7047 - val_loss: 9308.6391 - val_root_mean_squared_error: 96.4813\n",
      "Epoch 20/30\n",
      "13600/13600 [==============================] - 0s 11us/sample - loss: 6513.3326 - root_mean_squared_error: 80.7052 - val_loss: 9412.6353 - val_root_mean_squared_error: 97.0187\n",
      "Epoch 21/30\n",
      "13600/13600 [==============================] - 0s 10us/sample - loss: 6514.4781 - root_mean_squared_error: 80.7123 - val_loss: 9221.6171 - val_root_mean_squared_error: 96.0293\n",
      "Epoch 22/30\n",
      "13600/13600 [==============================] - 0s 10us/sample - loss: 6511.8657 - root_mean_squared_error: 80.6961 - val_loss: 9256.5224 - val_root_mean_squared_error: 96.2108\n",
      "Epoch 23/30\n",
      "13600/13600 [==============================] - 0s 10us/sample - loss: 6513.3012 - root_mean_squared_error: 80.7050 - val_loss: 9286.5826 - val_root_mean_squared_error: 96.3669\n",
      "Epoch 24/30\n",
      "13600/13600 [==============================] - 0s 11us/sample - loss: 6512.7004 - root_mean_squared_error: 80.7013 - val_loss: 9316.7650 - val_root_mean_squared_error: 96.5234\n",
      "Epoch 25/30\n",
      "13600/13600 [==============================] - 0s 10us/sample - loss: 6512.9040 - root_mean_squared_error: 80.7026 - val_loss: 9114.0872 - val_root_mean_squared_error: 95.4677\n",
      "Epoch 26/30\n",
      "13600/13600 [==============================] - 0s 10us/sample - loss: 6512.9744 - root_mean_squared_error: 80.7030 - val_loss: 9418.2913 - val_root_mean_squared_error: 97.0479\n",
      "Epoch 27/30\n",
      "13600/13600 [==============================] - 0s 10us/sample - loss: 6514.3149 - root_mean_squared_error: 80.7113 - val_loss: 9341.7963 - val_root_mean_squared_error: 96.6530\n",
      "Epoch 28/30\n",
      "13600/13600 [==============================] - 0s 11us/sample - loss: 6512.9124 - root_mean_squared_error: 80.7026 - val_loss: 9309.1250 - val_root_mean_squared_error: 96.4838\n",
      "Epoch 29/30\n",
      "13600/13600 [==============================] - 0s 10us/sample - loss: 6514.1891 - root_mean_squared_error: 80.7105 - val_loss: 9275.0907 - val_root_mean_squared_error: 96.3073\n",
      "Epoch 30/30\n",
      "13600/13600 [==============================] - 0s 10us/sample - loss: 6513.4107 - root_mean_squared_error: 80.7057 - val_loss: 9281.8145 - val_root_mean_squared_error: 96.3422\n",
      "88.555504\n"
     ]
    },
    {
     "data": {
      "image/png": "[encoded data removed]",
      "text/plain": [
       "<Figure size 432x288 with 1 Axes>"
      ]
     },
     "metadata": {
      "needs_background": "light"
     },
     "output_type": "display_data"
    }
   ],
   "source": [
    "# The following variables are the hyperparameters.\n",
    "learning_rate = 0.08\n",
    "epochs = 30\n",
    "batch_size = 100\n",
    "\n",
    "# Split the original training set into a reduced training set and a\n",
    "# validation set. \n",
    "validation_split=0.2\n",
    "\n",
    "# Identify the feature and the label.\n",
    "my_feature=\"median_income\"  # the median income on a specific city block.\n",
    "my_label=\"median_house_value\" # the median value of a house on a specific city block.\n",
    "# That is, you're going to create a model that predicts house value based \n",
    "# solely on the neighborhood's median income.  \n",
    "\n",
    "# Discard any pre-existing version of the model.\n",
    "my_model = None\n",
    "\n",
    "# Invoke the functions to build and train the model.\n",
    "my_model = build_model(learning_rate)\n",
    "epochs, rmse, history = train_model(my_model, train_df, my_feature, \n",
    "                                    my_label, epochs, batch_size, \n",
    "                                    validation_split)\n",
    "\n",
    "plot_the_loss_curve(epochs, history[\"root_mean_squared_error\"], \n",
    "                    history[\"val_root_mean_squared_error\"])"
   ]
  },
  {
   "cell_type": "markdown",
   "metadata": {},
   "source": [
    "### Task 2: Determine **why** the loss curves differ\n",
    "\n",
    "No matter how you split the training set and the validation set, the loss curves differ significantly. Evidently, the data in the training set isn't similar enough to the data in the validation set. Counterintuitive? Yes, but this problem is actually pretty common in machine learning. \n",
    "\n",
    "**Your task is to determine why the loss curves aren't highly similar.** As with most issues in machine learning, the problem is rooted in the data itself. To solve this mystery of why the training set and validation set aren't almost identical, write a line or two of [pandas code](https://colab.research.google.com/github/google/eng-edu/blob/master/ml/cc/exercises/pandas_dataframe_ultraquick_tutorial.ipynb?utm_source=validation-colab&utm_medium=colab&utm_campaign=colab-external&utm_content=pandas_tf2-colab&hl=en) in the following code cell.  Here are a couple of hints:\n",
    "\n",
    "  * The previous code cell split the original training set into:\n",
    "    * a reduced training set (the original training set - the validation set)\n",
    "    * the validation set \n",
    "  * By default, the pandas [`head`](https://pandas.pydata.org/pandas-docs/stable/reference/api/pandas.DataFrame.head.html) method outputs the *first* 5 rows of the DataFrame. To see more of the training set, specify the `n` argument to `head` and assign a large positive integer to `n`."
   ]
  },
  {
   "cell_type": "markdown",
   "metadata": {},
   "source": [
    "### Task 3. Fix the problem\n",
    "\n",
    "To fix the problem, shuffle the examples in the training set before splitting the examples into a training set and validation set. To do so, take the following steps:\n",
    "\n",
    "1. Shuffle the data in the training set by adding the following line anywhere before you call `train_model` (in the code cell associated with Task 1):\n",
    "\n",
    "```\n",
    "  shuffled_train_df = train_df.reindex(np.random.permutation(train_df.index))\n",
    "```                                    \n",
    "\n",
    "2. Pass `shuffled_train_df` (instead of `train_df`) as the second argument to `train_model` (in the code call associated with Task 1) so that the call becomes as follows:\n",
    "\n",
    "```\n",
    "  epochs, rmse, history = train_model(my_model, shuffled_train_df, my_feature, \n",
    "                                      my_label, epochs, batch_size, \n",
    "                                      validation_split)\n",
    "```"
   ]
  },
  {
   "cell_type": "code",
   "execution_count": 12,
   "metadata": {
    "scrolled": true
   },
   "outputs": [
    {
     "name": "stdout",
     "output_type": "stream",
     "text": [
      "Train on 13600 samples, validate on 3400 samples\n",
      "Epoch 1/70\n",
      "13600/13600 [==============================] - 0s 28us/sample - loss: 44274.2759 - root_mean_squared_error: 210.4145 - val_loss: 34279.2137 - val_root_mean_squared_error: 185.1465\n",
      "Epoch 2/70\n",
      "13600/13600 [==============================] - 0s 10us/sample - loss: 26024.4856 - root_mean_squared_error: 161.3211 - val_loss: 19268.8086 - val_root_mean_squared_error: 138.8121\n",
      "Epoch 3/70\n",
      "13600/13600 [==============================] - 0s 10us/sample - loss: 13879.0631 - root_mean_squared_error: 117.8094 - val_loss: 10336.6961 - val_root_mean_squared_error: 101.6695\n",
      "Epoch 4/70\n",
      "13600/13600 [==============================] - 0s 11us/sample - loss: 8067.5557 - root_mean_squared_error: 89.8196 - val_loss: 7343.2761 - val_root_mean_squared_error: 85.6929\n",
      "Epoch 5/70\n",
      "13600/13600 [==============================] - 0s 13us/sample - loss: 6963.2980 - root_mean_squared_error: 83.4464 - val_loss: 7254.1987 - val_root_mean_squared_error: 85.1716\n",
      "Epoch 6/70\n",
      "13600/13600 [==============================] - 0s 11us/sample - loss: 6954.7613 - root_mean_squared_error: 83.3952 - val_loss: 7254.1631 - val_root_mean_squared_error: 85.1714\n",
      "Epoch 7/70\n",
      "13600/13600 [==============================] - 0s 12us/sample - loss: 6954.5932 - root_mean_squared_error: 83.3942 - val_loss: 7260.7258 - val_root_mean_squared_error: 85.2099\n",
      "Epoch 8/70\n",
      "13600/13600 [==============================] - 0s 10us/sample - loss: 6954.4600 - root_mean_squared_error: 83.3934 - val_loss: 7253.7711 - val_root_mean_squared_error: 85.1691\n",
      "Epoch 9/70\n",
      "13600/13600 [==============================] - 0s 16us/sample - loss: 6955.9723 - root_mean_squared_error: 83.4025 - val_loss: 7254.3480 - val_root_mean_squared_error: 85.1725\n",
      "Epoch 10/70\n",
      "13600/13600 [==============================] - 0s 14us/sample - loss: 6954.8272 - root_mean_squared_error: 83.3956 - val_loss: 7253.2852 - val_root_mean_squared_error: 85.1662\n",
      "Epoch 11/70\n",
      "13600/13600 [==============================] - 0s 12us/sample - loss: 6953.2326 - root_mean_squared_error: 83.3860 - val_loss: 7253.7375 - val_root_mean_squared_error: 85.1689\n",
      "Epoch 12/70\n",
      "13600/13600 [==============================] - 0s 12us/sample - loss: 6954.4910 - root_mean_squared_error: 83.3936 - val_loss: 7256.6173 - val_root_mean_squared_error: 85.1858\n",
      "Epoch 13/70\n",
      "13600/13600 [==============================] - 0s 11us/sample - loss: 6953.7677 - root_mean_squared_error: 83.3893 - val_loss: 7253.7670 - val_root_mean_squared_error: 85.1690\n",
      "Epoch 14/70\n",
      "13600/13600 [==============================] - 0s 11us/sample - loss: 6954.8259 - root_mean_squared_error: 83.3956 - val_loss: 7253.2962 - val_root_mean_squared_error: 85.1663\n",
      "Epoch 15/70\n",
      "13600/13600 [==============================] - 0s 10us/sample - loss: 6955.1311 - root_mean_squared_error: 83.3974 - val_loss: 7253.9517 - val_root_mean_squared_error: 85.1701\n",
      "Epoch 16/70\n",
      "13600/13600 [==============================] - 0s 11us/sample - loss: 6954.3707 - root_mean_squared_error: 83.3929 - val_loss: 7254.4097 - val_root_mean_squared_error: 85.1728\n",
      "Epoch 17/70\n",
      "13600/13600 [==============================] - 0s 12us/sample - loss: 6954.8853 - root_mean_squared_error: 83.3960 - val_loss: 7255.2261 - val_root_mean_squared_error: 85.1776\n",
      "Epoch 18/70\n",
      "13600/13600 [==============================] - 0s 14us/sample - loss: 6954.0154 - root_mean_squared_error: 83.3907 - val_loss: 7253.5790 - val_root_mean_squared_error: 85.1679\n",
      "Epoch 19/70\n",
      "13600/13600 [==============================] - 0s 11us/sample - loss: 6955.1638 - root_mean_squared_error: 83.3976 - val_loss: 7254.4881 - val_root_mean_squared_error: 85.1733\n",
      "Epoch 20/70\n",
      "13600/13600 [==============================] - 0s 10us/sample - loss: 6954.4877 - root_mean_squared_error: 83.3936 - val_loss: 7253.4336 - val_root_mean_squared_error: 85.1671\n",
      "Epoch 21/70\n",
      "13600/13600 [==============================] - 0s 10us/sample - loss: 6954.2044 - root_mean_squared_error: 83.3919 - val_loss: 7259.8301 - val_root_mean_squared_error: 85.2046\n",
      "Epoch 22/70\n",
      "13600/13600 [==============================] - 0s 10us/sample - loss: 6951.5875 - root_mean_squared_error: 83.3762 - val_loss: 7253.2697 - val_root_mean_squared_error: 85.1661\n",
      "Epoch 23/70\n",
      "13600/13600 [==============================] - 0s 11us/sample - loss: 6955.3112 - root_mean_squared_error: 83.3985 - val_loss: 7254.0418 - val_root_mean_squared_error: 85.1707\n",
      "Epoch 24/70\n",
      "13600/13600 [==============================] - 0s 11us/sample - loss: 6953.9986 - root_mean_squared_error: 83.3906 - val_loss: 7254.9172 - val_root_mean_squared_error: 85.1758\n",
      "Epoch 25/70\n",
      "13600/13600 [==============================] - 0s 12us/sample - loss: 6955.3791 - root_mean_squared_error: 83.3989 - val_loss: 7253.5537 - val_root_mean_squared_error: 85.1678\n",
      "Epoch 26/70\n",
      "13600/13600 [==============================] - 0s 11us/sample - loss: 6954.1498 - root_mean_squared_error: 83.3915 - val_loss: 7254.5462 - val_root_mean_squared_error: 85.1736\n",
      "Epoch 27/70\n",
      "13600/13600 [==============================] - 0s 11us/sample - loss: 6954.0547 - root_mean_squared_error: 83.3910 - val_loss: 7253.2078 - val_root_mean_squared_error: 85.1658\n",
      "Epoch 28/70\n",
      "13600/13600 [==============================] - 0s 12us/sample - loss: 6953.8735 - root_mean_squared_error: 83.3899 - val_loss: 7253.9948 - val_root_mean_squared_error: 85.1704\n",
      "Epoch 29/70\n",
      "13600/13600 [==============================] - 0s 11us/sample - loss: 6954.9697 - root_mean_squared_error: 83.3965 - val_loss: 7253.2861 - val_root_mean_squared_error: 85.1662\n",
      "Epoch 30/70\n",
      "13600/13600 [==============================] - 0s 12us/sample - loss: 6955.6538 - root_mean_squared_error: 83.4006 - val_loss: 7253.3747 - val_root_mean_squared_error: 85.1667\n",
      "Epoch 31/70\n",
      "13600/13600 [==============================] - 0s 11us/sample - loss: 6954.1470 - root_mean_squared_error: 83.3915 - val_loss: 7256.9069 - val_root_mean_squared_error: 85.1875\n",
      "Epoch 32/70\n",
      "13600/13600 [==============================] - 0s 11us/sample - loss: 6955.7450 - root_mean_squared_error: 83.4011 - val_loss: 7253.3435 - val_root_mean_squared_error: 85.1666\n",
      "Epoch 33/70\n",
      "13600/13600 [==============================] - 0s 11us/sample - loss: 6954.6525 - root_mean_squared_error: 83.3946 - val_loss: 7254.6994 - val_root_mean_squared_error: 85.1745\n",
      "Epoch 34/70\n",
      "13600/13600 [==============================] - 0s 12us/sample - loss: 6954.4324 - root_mean_squared_error: 83.3932 - val_loss: 7253.4027 - val_root_mean_squared_error: 85.1669\n",
      "Epoch 35/70\n",
      "13600/13600 [==============================] - 0s 11us/sample - loss: 6955.6933 - root_mean_squared_error: 83.4008 - val_loss: 7253.3465 - val_root_mean_squared_error: 85.1666\n",
      "Epoch 36/70\n",
      "13600/13600 [==============================] - 0s 10us/sample - loss: 6954.3437 - root_mean_squared_error: 83.3927 - val_loss: 7256.3142 - val_root_mean_squared_error: 85.1840\n",
      "Epoch 37/70\n",
      "13600/13600 [==============================] - 0s 10us/sample - loss: 6955.5053 - root_mean_squared_error: 83.3997 - val_loss: 7254.4463 - val_root_mean_squared_error: 85.1730\n",
      "Epoch 38/70\n",
      "13600/13600 [==============================] - 0s 10us/sample - loss: 6955.5410 - root_mean_squared_error: 83.3999 - val_loss: 7253.2437 - val_root_mean_squared_error: 85.1660\n",
      "Epoch 39/70\n",
      "13600/13600 [==============================] - 0s 10us/sample - loss: 6955.1491 - root_mean_squared_error: 83.3975 - val_loss: 7254.1280 - val_root_mean_squared_error: 85.1712\n",
      "Epoch 40/70\n",
      "13600/13600 [==============================] - 0s 10us/sample - loss: 6955.2092 - root_mean_squared_error: 83.3979 - val_loss: 7253.1553 - val_root_mean_squared_error: 85.1655\n",
      "Epoch 41/70\n",
      "13600/13600 [==============================] - 0s 10us/sample - loss: 6954.3703 - root_mean_squared_error: 83.3929 - val_loss: 7258.9434 - val_root_mean_squared_error: 85.1994\n",
      "Epoch 42/70\n",
      "13600/13600 [==============================] - 0s 10us/sample - loss: 6955.6173 - root_mean_squared_error: 83.4003 - val_loss: 7253.8836 - val_root_mean_squared_error: 85.1697\n",
      "Epoch 43/70\n",
      "13600/13600 [==============================] - 0s 11us/sample - loss: 6954.8846 - root_mean_squared_error: 83.3960 - val_loss: 7253.1545 - val_root_mean_squared_error: 85.1654\n",
      "Epoch 44/70\n"
     ]
    },
    {
     "name": "stdout",
     "output_type": "stream",
     "text": [
      "13600/13600 [==============================] - 0s 10us/sample - loss: 6955.1348 - root_mean_squared_error: 83.3975 - val_loss: 7253.8337 - val_root_mean_squared_error: 85.1694\n",
      "Epoch 45/70\n",
      "13600/13600 [==============================] - 0s 12us/sample - loss: 6952.3926 - root_mean_squared_error: 83.3810 - val_loss: 7260.9209 - val_root_mean_squared_error: 85.2110\n",
      "Epoch 46/70\n",
      "13600/13600 [==============================] - 0s 10us/sample - loss: 6956.0778 - root_mean_squared_error: 83.4031 - val_loss: 7255.3091 - val_root_mean_squared_error: 85.1781\n",
      "Epoch 47/70\n",
      "13600/13600 [==============================] - 0s 10us/sample - loss: 6954.7935 - root_mean_squared_error: 83.3954 - val_loss: 7258.5612 - val_root_mean_squared_error: 85.1972\n",
      "Epoch 48/70\n",
      "13600/13600 [==============================] - 0s 11us/sample - loss: 6954.7773 - root_mean_squared_error: 83.3953 - val_loss: 7253.3268 - val_root_mean_squared_error: 85.1665\n",
      "Epoch 49/70\n",
      "13600/13600 [==============================] - 0s 10us/sample - loss: 6955.7474 - root_mean_squared_error: 83.4011 - val_loss: 7254.1251 - val_root_mean_squared_error: 85.1711\n",
      "Epoch 50/70\n",
      "13600/13600 [==============================] - 0s 11us/sample - loss: 6954.2230 - root_mean_squared_error: 83.3920 - val_loss: 7258.3810 - val_root_mean_squared_error: 85.1961\n",
      "Epoch 51/70\n",
      "13600/13600 [==============================] - 0s 10us/sample - loss: 6955.1887 - root_mean_squared_error: 83.3978 - val_loss: 7253.4330 - val_root_mean_squared_error: 85.1671\n",
      "Epoch 52/70\n",
      "13600/13600 [==============================] - 0s 10us/sample - loss: 6953.9535 - root_mean_squared_error: 83.3904 - val_loss: 7253.2841 - val_root_mean_squared_error: 85.1662\n",
      "Epoch 53/70\n",
      "13600/13600 [==============================] - 0s 10us/sample - loss: 6955.3308 - root_mean_squared_error: 83.3986 - val_loss: 7253.6998 - val_root_mean_squared_error: 85.1687\n",
      "Epoch 54/70\n",
      "13600/13600 [==============================] - 0s 11us/sample - loss: 6953.7821 - root_mean_squared_error: 83.3893 - val_loss: 7253.2312 - val_root_mean_squared_error: 85.1659\n",
      "Epoch 55/70\n",
      "13600/13600 [==============================] - 0s 10us/sample - loss: 6955.5782 - root_mean_squared_error: 83.4001 - val_loss: 7254.6658 - val_root_mean_squared_error: 85.1743\n",
      "Epoch 56/70\n",
      "13600/13600 [==============================] - 0s 10us/sample - loss: 6955.3908 - root_mean_squared_error: 83.3990 - val_loss: 7255.8040 - val_root_mean_squared_error: 85.1810\n",
      "Epoch 57/70\n",
      "13600/13600 [==============================] - 0s 10us/sample - loss: 6955.2555 - root_mean_squared_error: 83.3982 - val_loss: 7254.0564 - val_root_mean_squared_error: 85.1707\n",
      "Epoch 58/70\n",
      "13600/13600 [==============================] - 0s 10us/sample - loss: 6954.5646 - root_mean_squared_error: 83.3940 - val_loss: 7254.0181 - val_root_mean_squared_error: 85.1705\n",
      "Epoch 59/70\n",
      "13600/13600 [==============================] - 0s 10us/sample - loss: 6952.8614 - root_mean_squared_error: 83.3838 - val_loss: 7255.3099 - val_root_mean_squared_error: 85.1781\n",
      "Epoch 60/70\n",
      "13600/13600 [==============================] - 0s 10us/sample - loss: 6955.3280 - root_mean_squared_error: 83.3986 - val_loss: 7253.3658 - val_root_mean_squared_error: 85.1667\n",
      "Epoch 61/70\n",
      "13600/13600 [==============================] - 0s 11us/sample - loss: 6955.2557 - root_mean_squared_error: 83.3982 - val_loss: 7254.3030 - val_root_mean_squared_error: 85.1722\n",
      "Epoch 62/70\n",
      "13600/13600 [==============================] - 0s 11us/sample - loss: 6954.6386 - root_mean_squared_error: 83.3945 - val_loss: 7254.9876 - val_root_mean_squared_error: 85.1762\n",
      "Epoch 63/70\n",
      "13600/13600 [==============================] - 0s 11us/sample - loss: 6952.7451 - root_mean_squared_error: 83.3831 - val_loss: 7265.8116 - val_root_mean_squared_error: 85.2397\n",
      "Epoch 64/70\n",
      "13600/13600 [==============================] - 0s 10us/sample - loss: 6955.0128 - root_mean_squared_error: 83.3967 - val_loss: 7253.2231 - val_root_mean_squared_error: 85.1658\n",
      "Epoch 65/70\n",
      "13600/13600 [==============================] - 0s 10us/sample - loss: 6954.1483 - root_mean_squared_error: 83.3915 - val_loss: 7258.1213 - val_root_mean_squared_error: 85.1946\n",
      "Epoch 66/70\n",
      "13600/13600 [==============================] - 0s 13us/sample - loss: 6955.1826 - root_mean_squared_error: 83.3977 - val_loss: 7253.3497 - val_root_mean_squared_error: 85.1666\n",
      "Epoch 67/70\n",
      "13600/13600 [==============================] - 0s 13us/sample - loss: 6954.8850 - root_mean_squared_error: 83.3960 - val_loss: 7254.0931 - val_root_mean_squared_error: 85.1710\n",
      "Epoch 68/70\n",
      "13600/13600 [==============================] - 0s 11us/sample - loss: 6955.1568 - root_mean_squared_error: 83.3976 - val_loss: 7255.2577 - val_root_mean_squared_error: 85.1778\n",
      "Epoch 69/70\n",
      "13600/13600 [==============================] - 0s 11us/sample - loss: 6953.7681 - root_mean_squared_error: 83.3893 - val_loss: 7253.1861 - val_root_mean_squared_error: 85.1656\n",
      "Epoch 70/70\n",
      "13600/13600 [==============================] - 0s 11us/sample - loss: 6955.0517 - root_mean_squared_error: 83.3970 - val_loss: 7253.2121 - val_root_mean_squared_error: 85.1658\n",
      "77.94488\n"
     ]
    },
    {
     "data": {
      "image/png": "[encoded data removed]",
      "text/plain": [
       "<Figure size 432x288 with 1 Axes>"
      ]
     },
     "metadata": {
      "needs_background": "light"
     },
     "output_type": "display_data"
    }
   ],
   "source": [
    "#@title Double-click to view the complete implementation.\n",
    "\n",
    "# The following variables are the hyperparameters.\n",
    "learning_rate = 0.08\n",
    "epochs = 70\n",
    "batch_size = 100\n",
    "\n",
    "# Split the original training set into a reduced training set and a\n",
    "# validation set. \n",
    "validation_split=0.2\n",
    "\n",
    "# Identify the feature and the label.\n",
    "my_feature=\"median_income\"  # the median income on a specific city block.\n",
    "my_label=\"median_house_value\" # the median value of a house on a specific city block.\n",
    "# That is, you're going to create a model that predicts house value based \n",
    "# solely on the neighborhood's median income.  \n",
    "\n",
    "# Discard any pre-existing version of the model.\n",
    "my_model = None\n",
    "\n",
    "# Shuffle the examples.\n",
    "shuffled_train_df = train_df.reindex(np.random.permutation(train_df.index)) \n",
    "\n",
    "# Invoke the functions to build and train the model. Train on the shuffled\n",
    "# training set.\n",
    "my_model = build_model(learning_rate)\n",
    "epochs, rmse, history = train_model(my_model, shuffled_train_df, my_feature, \n",
    "                                    my_label, epochs, batch_size, \n",
    "                                    validation_split)\n",
    "\n",
    "plot_the_loss_curve(epochs, history[\"root_mean_squared_error\"], \n",
    "                    history[\"val_root_mean_squared_error\"])"
   ]
  },
  {
   "cell_type": "markdown",
   "metadata": {},
   "source": [
    "Experiment with `validation_split` to answer the following questions:\n",
    "\n",
    "* With the training set shuffled, is the final loss for the training set closer to the final loss for the validation set?  \n",
    "* At what range of values of `validation_split` do the final loss values for the training set and validation set diverge meaningfully?  Why?"
   ]
  },
  {
   "cell_type": "markdown",
   "metadata": {},
   "source": [
    "### Task 4: Use the Test Dataset to Evaluate Your Model's Performance\n",
    "\n",
    "The test set usually acts as the ultimate judge of a model's quality. The test set can serve as an impartial judge because its examples haven't been used in training the model. Run the following code cell to evaluate the model with the test set:"
   ]
  },
  {
   "cell_type": "code",
   "execution_count": 13,
   "metadata": {},
   "outputs": [
    {
     "name": "stdout",
     "output_type": "stream",
     "text": [
      "3000/3000 [==============================] - 0s 5us/sample - loss: 7009.9122 - root_mean_squared_error: 83.7252\n"
     ]
    }
   ],
   "source": [
    "x_test = test_df[my_feature]\n",
    "y_test = test_df[my_label]\n",
    "\n",
    "results = my_model.evaluate(x_test, y_test, batch_size=batch_size)"
   ]
  },
  {
   "cell_type": "markdown",
   "metadata": {},
   "source": [
    "Compare the root mean squared error of the model when evaluated on each of the three datasets:\n",
    "\n",
    "* training set: look for `root_mean_squared_error` in the final training epoch.\n",
    "* validation set: look for `val_root_mean_squared_error` in the final training epoch.\n",
    "* test set: run the preceding code cell and examine the `root_mean_squred_error`.\n",
    "\n",
    "Ideally, the root mean squared error of all three sets should be similar. Are they? \\\n",
    "In our experiments, yes, the rmse values were similar enough. "
   ]
  }
 ],
 "metadata": {
  "kernelspec": {
   "display_name": "Python 3",
   "language": "python",
   "name": "python3"
  },
  "language_info": {
   "codemirror_mode": {
    "name": "ipython",
    "version": 3
   },
   "file_extension": ".py",
   "mimetype": "text/x-python",
   "name": "python",
   "nbconvert_exporter": "python",
   "pygments_lexer": "ipython3",
   "version": "3.7.7"
  }
 },
 "nbformat": 4,
 "nbformat_minor": 4
}
